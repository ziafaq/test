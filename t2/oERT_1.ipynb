{
  "nbformat": 4,
  "nbformat_minor": 0,
  "metadata": {
    "colab": {
      "provenance": []
    },
    "kernelspec": {
      "name": "python3",
      "display_name": "Python 3"
    },
    "language_info": {
      "name": "python"
    },
    "widgets": {
      "application/vnd.jupyter.widget-state+json": {
        "6b99b075306b4fcc8fbcfea7c1c99a99": {
          "model_module": "@jupyter-widgets/controls",
          "model_name": "HBoxModel",
          "model_module_version": "1.5.0",
          "state": {
            "_dom_classes": [],
            "_model_module": "@jupyter-widgets/controls",
            "_model_module_version": "1.5.0",
            "_model_name": "HBoxModel",
            "_view_count": null,
            "_view_module": "@jupyter-widgets/controls",
            "_view_module_version": "1.5.0",
            "_view_name": "HBoxView",
            "box_style": "",
            "children": [
              "IPY_MODEL_4f59029dc99643e9bd68ba000c6f75cb",
              "IPY_MODEL_574da0ff13334a548f00db4f262f0624",
              "IPY_MODEL_acb0ac59d4524ab787d2dd6948934f65"
            ],
            "layout": "IPY_MODEL_4f81898fd0a24691916ac4bd66fcaaf5"
          }
        },
        "4f59029dc99643e9bd68ba000c6f75cb": {
          "model_module": "@jupyter-widgets/controls",
          "model_name": "HTMLModel",
          "model_module_version": "1.5.0",
          "state": {
            "_dom_classes": [],
            "_model_module": "@jupyter-widgets/controls",
            "_model_module_version": "1.5.0",
            "_model_name": "HTMLModel",
            "_view_count": null,
            "_view_module": "@jupyter-widgets/controls",
            "_view_module_version": "1.5.0",
            "_view_name": "HTMLView",
            "description": "",
            "description_tooltip": null,
            "layout": "IPY_MODEL_d70c68550ad04de6a633a3c315f32ced",
            "placeholder": "​",
            "style": "IPY_MODEL_d019de3eafc74ccdad50007d378c12eb",
            "value": "tokenizer_config.json: 100%"
          }
        },
        "574da0ff13334a548f00db4f262f0624": {
          "model_module": "@jupyter-widgets/controls",
          "model_name": "FloatProgressModel",
          "model_module_version": "1.5.0",
          "state": {
            "_dom_classes": [],
            "_model_module": "@jupyter-widgets/controls",
            "_model_module_version": "1.5.0",
            "_model_name": "FloatProgressModel",
            "_view_count": null,
            "_view_module": "@jupyter-widgets/controls",
            "_view_module_version": "1.5.0",
            "_view_name": "ProgressView",
            "bar_style": "success",
            "description": "",
            "description_tooltip": null,
            "layout": "IPY_MODEL_c7f1945bffc7442eb64859fe49df53d4",
            "max": 48,
            "min": 0,
            "orientation": "horizontal",
            "style": "IPY_MODEL_7766e165d03d472699f3d8494c349422",
            "value": 48
          }
        },
        "acb0ac59d4524ab787d2dd6948934f65": {
          "model_module": "@jupyter-widgets/controls",
          "model_name": "HTMLModel",
          "model_module_version": "1.5.0",
          "state": {
            "_dom_classes": [],
            "_model_module": "@jupyter-widgets/controls",
            "_model_module_version": "1.5.0",
            "_model_name": "HTMLModel",
            "_view_count": null,
            "_view_module": "@jupyter-widgets/controls",
            "_view_module_version": "1.5.0",
            "_view_name": "HTMLView",
            "description": "",
            "description_tooltip": null,
            "layout": "IPY_MODEL_cc1ef3897bd34687bfcb639d0e43d484",
            "placeholder": "​",
            "style": "IPY_MODEL_f134fd7479d941ddba04f3bd2568d3b8",
            "value": " 48.0/48.0 [00:00&lt;00:00, 1.06kB/s]"
          }
        },
        "4f81898fd0a24691916ac4bd66fcaaf5": {
          "model_module": "@jupyter-widgets/base",
          "model_name": "LayoutModel",
          "model_module_version": "1.2.0",
          "state": {
            "_model_module": "@jupyter-widgets/base",
            "_model_module_version": "1.2.0",
            "_model_name": "LayoutModel",
            "_view_count": null,
            "_view_module": "@jupyter-widgets/base",
            "_view_module_version": "1.2.0",
            "_view_name": "LayoutView",
            "align_content": null,
            "align_items": null,
            "align_self": null,
            "border": null,
            "bottom": null,
            "display": null,
            "flex": null,
            "flex_flow": null,
            "grid_area": null,
            "grid_auto_columns": null,
            "grid_auto_flow": null,
            "grid_auto_rows": null,
            "grid_column": null,
            "grid_gap": null,
            "grid_row": null,
            "grid_template_areas": null,
            "grid_template_columns": null,
            "grid_template_rows": null,
            "height": null,
            "justify_content": null,
            "justify_items": null,
            "left": null,
            "margin": null,
            "max_height": null,
            "max_width": null,
            "min_height": null,
            "min_width": null,
            "object_fit": null,
            "object_position": null,
            "order": null,
            "overflow": null,
            "overflow_x": null,
            "overflow_y": null,
            "padding": null,
            "right": null,
            "top": null,
            "visibility": null,
            "width": null
          }
        },
        "d70c68550ad04de6a633a3c315f32ced": {
          "model_module": "@jupyter-widgets/base",
          "model_name": "LayoutModel",
          "model_module_version": "1.2.0",
          "state": {
            "_model_module": "@jupyter-widgets/base",
            "_model_module_version": "1.2.0",
            "_model_name": "LayoutModel",
            "_view_count": null,
            "_view_module": "@jupyter-widgets/base",
            "_view_module_version": "1.2.0",
            "_view_name": "LayoutView",
            "align_content": null,
            "align_items": null,
            "align_self": null,
            "border": null,
            "bottom": null,
            "display": null,
            "flex": null,
            "flex_flow": null,
            "grid_area": null,
            "grid_auto_columns": null,
            "grid_auto_flow": null,
            "grid_auto_rows": null,
            "grid_column": null,
            "grid_gap": null,
            "grid_row": null,
            "grid_template_areas": null,
            "grid_template_columns": null,
            "grid_template_rows": null,
            "height": null,
            "justify_content": null,
            "justify_items": null,
            "left": null,
            "margin": null,
            "max_height": null,
            "max_width": null,
            "min_height": null,
            "min_width": null,
            "object_fit": null,
            "object_position": null,
            "order": null,
            "overflow": null,
            "overflow_x": null,
            "overflow_y": null,
            "padding": null,
            "right": null,
            "top": null,
            "visibility": null,
            "width": null
          }
        },
        "d019de3eafc74ccdad50007d378c12eb": {
          "model_module": "@jupyter-widgets/controls",
          "model_name": "DescriptionStyleModel",
          "model_module_version": "1.5.0",
          "state": {
            "_model_module": "@jupyter-widgets/controls",
            "_model_module_version": "1.5.0",
            "_model_name": "DescriptionStyleModel",
            "_view_count": null,
            "_view_module": "@jupyter-widgets/base",
            "_view_module_version": "1.2.0",
            "_view_name": "StyleView",
            "description_width": ""
          }
        },
        "c7f1945bffc7442eb64859fe49df53d4": {
          "model_module": "@jupyter-widgets/base",
          "model_name": "LayoutModel",
          "model_module_version": "1.2.0",
          "state": {
            "_model_module": "@jupyter-widgets/base",
            "_model_module_version": "1.2.0",
            "_model_name": "LayoutModel",
            "_view_count": null,
            "_view_module": "@jupyter-widgets/base",
            "_view_module_version": "1.2.0",
            "_view_name": "LayoutView",
            "align_content": null,
            "align_items": null,
            "align_self": null,
            "border": null,
            "bottom": null,
            "display": null,
            "flex": null,
            "flex_flow": null,
            "grid_area": null,
            "grid_auto_columns": null,
            "grid_auto_flow": null,
            "grid_auto_rows": null,
            "grid_column": null,
            "grid_gap": null,
            "grid_row": null,
            "grid_template_areas": null,
            "grid_template_columns": null,
            "grid_template_rows": null,
            "height": null,
            "justify_content": null,
            "justify_items": null,
            "left": null,
            "margin": null,
            "max_height": null,
            "max_width": null,
            "min_height": null,
            "min_width": null,
            "object_fit": null,
            "object_position": null,
            "order": null,
            "overflow": null,
            "overflow_x": null,
            "overflow_y": null,
            "padding": null,
            "right": null,
            "top": null,
            "visibility": null,
            "width": null
          }
        },
        "7766e165d03d472699f3d8494c349422": {
          "model_module": "@jupyter-widgets/controls",
          "model_name": "ProgressStyleModel",
          "model_module_version": "1.5.0",
          "state": {
            "_model_module": "@jupyter-widgets/controls",
            "_model_module_version": "1.5.0",
            "_model_name": "ProgressStyleModel",
            "_view_count": null,
            "_view_module": "@jupyter-widgets/base",
            "_view_module_version": "1.2.0",
            "_view_name": "StyleView",
            "bar_color": null,
            "description_width": ""
          }
        },
        "cc1ef3897bd34687bfcb639d0e43d484": {
          "model_module": "@jupyter-widgets/base",
          "model_name": "LayoutModel",
          "model_module_version": "1.2.0",
          "state": {
            "_model_module": "@jupyter-widgets/base",
            "_model_module_version": "1.2.0",
            "_model_name": "LayoutModel",
            "_view_count": null,
            "_view_module": "@jupyter-widgets/base",
            "_view_module_version": "1.2.0",
            "_view_name": "LayoutView",
            "align_content": null,
            "align_items": null,
            "align_self": null,
            "border": null,
            "bottom": null,
            "display": null,
            "flex": null,
            "flex_flow": null,
            "grid_area": null,
            "grid_auto_columns": null,
            "grid_auto_flow": null,
            "grid_auto_rows": null,
            "grid_column": null,
            "grid_gap": null,
            "grid_row": null,
            "grid_template_areas": null,
            "grid_template_columns": null,
            "grid_template_rows": null,
            "height": null,
            "justify_content": null,
            "justify_items": null,
            "left": null,
            "margin": null,
            "max_height": null,
            "max_width": null,
            "min_height": null,
            "min_width": null,
            "object_fit": null,
            "object_position": null,
            "order": null,
            "overflow": null,
            "overflow_x": null,
            "overflow_y": null,
            "padding": null,
            "right": null,
            "top": null,
            "visibility": null,
            "width": null
          }
        },
        "f134fd7479d941ddba04f3bd2568d3b8": {
          "model_module": "@jupyter-widgets/controls",
          "model_name": "DescriptionStyleModel",
          "model_module_version": "1.5.0",
          "state": {
            "_model_module": "@jupyter-widgets/controls",
            "_model_module_version": "1.5.0",
            "_model_name": "DescriptionStyleModel",
            "_view_count": null,
            "_view_module": "@jupyter-widgets/base",
            "_view_module_version": "1.2.0",
            "_view_name": "StyleView",
            "description_width": ""
          }
        },
        "f10307a002994d518338bdaf85b0a2e0": {
          "model_module": "@jupyter-widgets/controls",
          "model_name": "HBoxModel",
          "model_module_version": "1.5.0",
          "state": {
            "_dom_classes": [],
            "_model_module": "@jupyter-widgets/controls",
            "_model_module_version": "1.5.0",
            "_model_name": "HBoxModel",
            "_view_count": null,
            "_view_module": "@jupyter-widgets/controls",
            "_view_module_version": "1.5.0",
            "_view_name": "HBoxView",
            "box_style": "",
            "children": [
              "IPY_MODEL_d1afd4997ed94cdb9961bf90ccde275f",
              "IPY_MODEL_64b6958cb6ab4b39b37d73b3edc0c4ba",
              "IPY_MODEL_bd7801fbb19a424cb9057a6ae83a3447"
            ],
            "layout": "IPY_MODEL_60b293b12b8c411782df1bba23d15028"
          }
        },
        "d1afd4997ed94cdb9961bf90ccde275f": {
          "model_module": "@jupyter-widgets/controls",
          "model_name": "HTMLModel",
          "model_module_version": "1.5.0",
          "state": {
            "_dom_classes": [],
            "_model_module": "@jupyter-widgets/controls",
            "_model_module_version": "1.5.0",
            "_model_name": "HTMLModel",
            "_view_count": null,
            "_view_module": "@jupyter-widgets/controls",
            "_view_module_version": "1.5.0",
            "_view_name": "HTMLView",
            "description": "",
            "description_tooltip": null,
            "layout": "IPY_MODEL_bf4b173236fb4929a06a0507b52b9afc",
            "placeholder": "​",
            "style": "IPY_MODEL_4eb1653d434f46aabcde4ee02770dade",
            "value": "config.json: 100%"
          }
        },
        "64b6958cb6ab4b39b37d73b3edc0c4ba": {
          "model_module": "@jupyter-widgets/controls",
          "model_name": "FloatProgressModel",
          "model_module_version": "1.5.0",
          "state": {
            "_dom_classes": [],
            "_model_module": "@jupyter-widgets/controls",
            "_model_module_version": "1.5.0",
            "_model_name": "FloatProgressModel",
            "_view_count": null,
            "_view_module": "@jupyter-widgets/controls",
            "_view_module_version": "1.5.0",
            "_view_name": "ProgressView",
            "bar_style": "success",
            "description": "",
            "description_tooltip": null,
            "layout": "IPY_MODEL_6f8382a29bf542afafa8b2165644e4c0",
            "max": 443,
            "min": 0,
            "orientation": "horizontal",
            "style": "IPY_MODEL_7776df9ec05a47459ac47bf861d93ce4",
            "value": 443
          }
        },
        "bd7801fbb19a424cb9057a6ae83a3447": {
          "model_module": "@jupyter-widgets/controls",
          "model_name": "HTMLModel",
          "model_module_version": "1.5.0",
          "state": {
            "_dom_classes": [],
            "_model_module": "@jupyter-widgets/controls",
            "_model_module_version": "1.5.0",
            "_model_name": "HTMLModel",
            "_view_count": null,
            "_view_module": "@jupyter-widgets/controls",
            "_view_module_version": "1.5.0",
            "_view_name": "HTMLView",
            "description": "",
            "description_tooltip": null,
            "layout": "IPY_MODEL_f90e5000b57443ebb4f28705f902f4e0",
            "placeholder": "​",
            "style": "IPY_MODEL_3d0820a464a74102b29da001f538536a",
            "value": " 443/443 [00:00&lt;00:00, 5.77kB/s]"
          }
        },
        "60b293b12b8c411782df1bba23d15028": {
          "model_module": "@jupyter-widgets/base",
          "model_name": "LayoutModel",
          "model_module_version": "1.2.0",
          "state": {
            "_model_module": "@jupyter-widgets/base",
            "_model_module_version": "1.2.0",
            "_model_name": "LayoutModel",
            "_view_count": null,
            "_view_module": "@jupyter-widgets/base",
            "_view_module_version": "1.2.0",
            "_view_name": "LayoutView",
            "align_content": null,
            "align_items": null,
            "align_self": null,
            "border": null,
            "bottom": null,
            "display": null,
            "flex": null,
            "flex_flow": null,
            "grid_area": null,
            "grid_auto_columns": null,
            "grid_auto_flow": null,
            "grid_auto_rows": null,
            "grid_column": null,
            "grid_gap": null,
            "grid_row": null,
            "grid_template_areas": null,
            "grid_template_columns": null,
            "grid_template_rows": null,
            "height": null,
            "justify_content": null,
            "justify_items": null,
            "left": null,
            "margin": null,
            "max_height": null,
            "max_width": null,
            "min_height": null,
            "min_width": null,
            "object_fit": null,
            "object_position": null,
            "order": null,
            "overflow": null,
            "overflow_x": null,
            "overflow_y": null,
            "padding": null,
            "right": null,
            "top": null,
            "visibility": null,
            "width": null
          }
        },
        "bf4b173236fb4929a06a0507b52b9afc": {
          "model_module": "@jupyter-widgets/base",
          "model_name": "LayoutModel",
          "model_module_version": "1.2.0",
          "state": {
            "_model_module": "@jupyter-widgets/base",
            "_model_module_version": "1.2.0",
            "_model_name": "LayoutModel",
            "_view_count": null,
            "_view_module": "@jupyter-widgets/base",
            "_view_module_version": "1.2.0",
            "_view_name": "LayoutView",
            "align_content": null,
            "align_items": null,
            "align_self": null,
            "border": null,
            "bottom": null,
            "display": null,
            "flex": null,
            "flex_flow": null,
            "grid_area": null,
            "grid_auto_columns": null,
            "grid_auto_flow": null,
            "grid_auto_rows": null,
            "grid_column": null,
            "grid_gap": null,
            "grid_row": null,
            "grid_template_areas": null,
            "grid_template_columns": null,
            "grid_template_rows": null,
            "height": null,
            "justify_content": null,
            "justify_items": null,
            "left": null,
            "margin": null,
            "max_height": null,
            "max_width": null,
            "min_height": null,
            "min_width": null,
            "object_fit": null,
            "object_position": null,
            "order": null,
            "overflow": null,
            "overflow_x": null,
            "overflow_y": null,
            "padding": null,
            "right": null,
            "top": null,
            "visibility": null,
            "width": null
          }
        },
        "4eb1653d434f46aabcde4ee02770dade": {
          "model_module": "@jupyter-widgets/controls",
          "model_name": "DescriptionStyleModel",
          "model_module_version": "1.5.0",
          "state": {
            "_model_module": "@jupyter-widgets/controls",
            "_model_module_version": "1.5.0",
            "_model_name": "DescriptionStyleModel",
            "_view_count": null,
            "_view_module": "@jupyter-widgets/base",
            "_view_module_version": "1.2.0",
            "_view_name": "StyleView",
            "description_width": ""
          }
        },
        "6f8382a29bf542afafa8b2165644e4c0": {
          "model_module": "@jupyter-widgets/base",
          "model_name": "LayoutModel",
          "model_module_version": "1.2.0",
          "state": {
            "_model_module": "@jupyter-widgets/base",
            "_model_module_version": "1.2.0",
            "_model_name": "LayoutModel",
            "_view_count": null,
            "_view_module": "@jupyter-widgets/base",
            "_view_module_version": "1.2.0",
            "_view_name": "LayoutView",
            "align_content": null,
            "align_items": null,
            "align_self": null,
            "border": null,
            "bottom": null,
            "display": null,
            "flex": null,
            "flex_flow": null,
            "grid_area": null,
            "grid_auto_columns": null,
            "grid_auto_flow": null,
            "grid_auto_rows": null,
            "grid_column": null,
            "grid_gap": null,
            "grid_row": null,
            "grid_template_areas": null,
            "grid_template_columns": null,
            "grid_template_rows": null,
            "height": null,
            "justify_content": null,
            "justify_items": null,
            "left": null,
            "margin": null,
            "max_height": null,
            "max_width": null,
            "min_height": null,
            "min_width": null,
            "object_fit": null,
            "object_position": null,
            "order": null,
            "overflow": null,
            "overflow_x": null,
            "overflow_y": null,
            "padding": null,
            "right": null,
            "top": null,
            "visibility": null,
            "width": null
          }
        },
        "7776df9ec05a47459ac47bf861d93ce4": {
          "model_module": "@jupyter-widgets/controls",
          "model_name": "ProgressStyleModel",
          "model_module_version": "1.5.0",
          "state": {
            "_model_module": "@jupyter-widgets/controls",
            "_model_module_version": "1.5.0",
            "_model_name": "ProgressStyleModel",
            "_view_count": null,
            "_view_module": "@jupyter-widgets/base",
            "_view_module_version": "1.2.0",
            "_view_name": "StyleView",
            "bar_color": null,
            "description_width": ""
          }
        },
        "f90e5000b57443ebb4f28705f902f4e0": {
          "model_module": "@jupyter-widgets/base",
          "model_name": "LayoutModel",
          "model_module_version": "1.2.0",
          "state": {
            "_model_module": "@jupyter-widgets/base",
            "_model_module_version": "1.2.0",
            "_model_name": "LayoutModel",
            "_view_count": null,
            "_view_module": "@jupyter-widgets/base",
            "_view_module_version": "1.2.0",
            "_view_name": "LayoutView",
            "align_content": null,
            "align_items": null,
            "align_self": null,
            "border": null,
            "bottom": null,
            "display": null,
            "flex": null,
            "flex_flow": null,
            "grid_area": null,
            "grid_auto_columns": null,
            "grid_auto_flow": null,
            "grid_auto_rows": null,
            "grid_column": null,
            "grid_gap": null,
            "grid_row": null,
            "grid_template_areas": null,
            "grid_template_columns": null,
            "grid_template_rows": null,
            "height": null,
            "justify_content": null,
            "justify_items": null,
            "left": null,
            "margin": null,
            "max_height": null,
            "max_width": null,
            "min_height": null,
            "min_width": null,
            "object_fit": null,
            "object_position": null,
            "order": null,
            "overflow": null,
            "overflow_x": null,
            "overflow_y": null,
            "padding": null,
            "right": null,
            "top": null,
            "visibility": null,
            "width": null
          }
        },
        "3d0820a464a74102b29da001f538536a": {
          "model_module": "@jupyter-widgets/controls",
          "model_name": "DescriptionStyleModel",
          "model_module_version": "1.5.0",
          "state": {
            "_model_module": "@jupyter-widgets/controls",
            "_model_module_version": "1.5.0",
            "_model_name": "DescriptionStyleModel",
            "_view_count": null,
            "_view_module": "@jupyter-widgets/base",
            "_view_module_version": "1.2.0",
            "_view_name": "StyleView",
            "description_width": ""
          }
        },
        "31f10c763d1b4e5ca28eafbab04067bd": {
          "model_module": "@jupyter-widgets/controls",
          "model_name": "HBoxModel",
          "model_module_version": "1.5.0",
          "state": {
            "_dom_classes": [],
            "_model_module": "@jupyter-widgets/controls",
            "_model_module_version": "1.5.0",
            "_model_name": "HBoxModel",
            "_view_count": null,
            "_view_module": "@jupyter-widgets/controls",
            "_view_module_version": "1.5.0",
            "_view_name": "HBoxView",
            "box_style": "",
            "children": [
              "IPY_MODEL_40bb5a46f01f4147937838c34aa59fc4",
              "IPY_MODEL_7367a6ef2b04452298db782015568dad",
              "IPY_MODEL_4f3adf6b6ff44e9dbe00930a2a30fe03"
            ],
            "layout": "IPY_MODEL_c1e9cdda3cc942f887c7d5d740171aab"
          }
        },
        "40bb5a46f01f4147937838c34aa59fc4": {
          "model_module": "@jupyter-widgets/controls",
          "model_name": "HTMLModel",
          "model_module_version": "1.5.0",
          "state": {
            "_dom_classes": [],
            "_model_module": "@jupyter-widgets/controls",
            "_model_module_version": "1.5.0",
            "_model_name": "HTMLModel",
            "_view_count": null,
            "_view_module": "@jupyter-widgets/controls",
            "_view_module_version": "1.5.0",
            "_view_name": "HTMLView",
            "description": "",
            "description_tooltip": null,
            "layout": "IPY_MODEL_46fac99a41a74a28a5c20b7659c049c9",
            "placeholder": "​",
            "style": "IPY_MODEL_42e16f8543814ef4a70eb13858b9e04b",
            "value": "vocab.txt: "
          }
        },
        "7367a6ef2b04452298db782015568dad": {
          "model_module": "@jupyter-widgets/controls",
          "model_name": "FloatProgressModel",
          "model_module_version": "1.5.0",
          "state": {
            "_dom_classes": [],
            "_model_module": "@jupyter-widgets/controls",
            "_model_module_version": "1.5.0",
            "_model_name": "FloatProgressModel",
            "_view_count": null,
            "_view_module": "@jupyter-widgets/controls",
            "_view_module_version": "1.5.0",
            "_view_name": "ProgressView",
            "bar_style": "success",
            "description": "",
            "description_tooltip": null,
            "layout": "IPY_MODEL_c9dfdb65b4ac4f79b1d1235a89ce82c7",
            "max": 1,
            "min": 0,
            "orientation": "horizontal",
            "style": "IPY_MODEL_0f5ae018dcdd4c1e95b94c9bbf6b422b",
            "value": 1
          }
        },
        "4f3adf6b6ff44e9dbe00930a2a30fe03": {
          "model_module": "@jupyter-widgets/controls",
          "model_name": "HTMLModel",
          "model_module_version": "1.5.0",
          "state": {
            "_dom_classes": [],
            "_model_module": "@jupyter-widgets/controls",
            "_model_module_version": "1.5.0",
            "_model_name": "HTMLModel",
            "_view_count": null,
            "_view_module": "@jupyter-widgets/controls",
            "_view_module_version": "1.5.0",
            "_view_name": "HTMLView",
            "description": "",
            "description_tooltip": null,
            "layout": "IPY_MODEL_885b94662acc48c3b7e6c6e088d6fbdb",
            "placeholder": "​",
            "style": "IPY_MODEL_8dc4d88e548d421fbf01bfa9ac7a24f2",
            "value": " 232k/? [00:00&lt;00:00, 3.01MB/s]"
          }
        },
        "c1e9cdda3cc942f887c7d5d740171aab": {
          "model_module": "@jupyter-widgets/base",
          "model_name": "LayoutModel",
          "model_module_version": "1.2.0",
          "state": {
            "_model_module": "@jupyter-widgets/base",
            "_model_module_version": "1.2.0",
            "_model_name": "LayoutModel",
            "_view_count": null,
            "_view_module": "@jupyter-widgets/base",
            "_view_module_version": "1.2.0",
            "_view_name": "LayoutView",
            "align_content": null,
            "align_items": null,
            "align_self": null,
            "border": null,
            "bottom": null,
            "display": null,
            "flex": null,
            "flex_flow": null,
            "grid_area": null,
            "grid_auto_columns": null,
            "grid_auto_flow": null,
            "grid_auto_rows": null,
            "grid_column": null,
            "grid_gap": null,
            "grid_row": null,
            "grid_template_areas": null,
            "grid_template_columns": null,
            "grid_template_rows": null,
            "height": null,
            "justify_content": null,
            "justify_items": null,
            "left": null,
            "margin": null,
            "max_height": null,
            "max_width": null,
            "min_height": null,
            "min_width": null,
            "object_fit": null,
            "object_position": null,
            "order": null,
            "overflow": null,
            "overflow_x": null,
            "overflow_y": null,
            "padding": null,
            "right": null,
            "top": null,
            "visibility": null,
            "width": null
          }
        },
        "46fac99a41a74a28a5c20b7659c049c9": {
          "model_module": "@jupyter-widgets/base",
          "model_name": "LayoutModel",
          "model_module_version": "1.2.0",
          "state": {
            "_model_module": "@jupyter-widgets/base",
            "_model_module_version": "1.2.0",
            "_model_name": "LayoutModel",
            "_view_count": null,
            "_view_module": "@jupyter-widgets/base",
            "_view_module_version": "1.2.0",
            "_view_name": "LayoutView",
            "align_content": null,
            "align_items": null,
            "align_self": null,
            "border": null,
            "bottom": null,
            "display": null,
            "flex": null,
            "flex_flow": null,
            "grid_area": null,
            "grid_auto_columns": null,
            "grid_auto_flow": null,
            "grid_auto_rows": null,
            "grid_column": null,
            "grid_gap": null,
            "grid_row": null,
            "grid_template_areas": null,
            "grid_template_columns": null,
            "grid_template_rows": null,
            "height": null,
            "justify_content": null,
            "justify_items": null,
            "left": null,
            "margin": null,
            "max_height": null,
            "max_width": null,
            "min_height": null,
            "min_width": null,
            "object_fit": null,
            "object_position": null,
            "order": null,
            "overflow": null,
            "overflow_x": null,
            "overflow_y": null,
            "padding": null,
            "right": null,
            "top": null,
            "visibility": null,
            "width": null
          }
        },
        "42e16f8543814ef4a70eb13858b9e04b": {
          "model_module": "@jupyter-widgets/controls",
          "model_name": "DescriptionStyleModel",
          "model_module_version": "1.5.0",
          "state": {
            "_model_module": "@jupyter-widgets/controls",
            "_model_module_version": "1.5.0",
            "_model_name": "DescriptionStyleModel",
            "_view_count": null,
            "_view_module": "@jupyter-widgets/base",
            "_view_module_version": "1.2.0",
            "_view_name": "StyleView",
            "description_width": ""
          }
        },
        "c9dfdb65b4ac4f79b1d1235a89ce82c7": {
          "model_module": "@jupyter-widgets/base",
          "model_name": "LayoutModel",
          "model_module_version": "1.2.0",
          "state": {
            "_model_module": "@jupyter-widgets/base",
            "_model_module_version": "1.2.0",
            "_model_name": "LayoutModel",
            "_view_count": null,
            "_view_module": "@jupyter-widgets/base",
            "_view_module_version": "1.2.0",
            "_view_name": "LayoutView",
            "align_content": null,
            "align_items": null,
            "align_self": null,
            "border": null,
            "bottom": null,
            "display": null,
            "flex": null,
            "flex_flow": null,
            "grid_area": null,
            "grid_auto_columns": null,
            "grid_auto_flow": null,
            "grid_auto_rows": null,
            "grid_column": null,
            "grid_gap": null,
            "grid_row": null,
            "grid_template_areas": null,
            "grid_template_columns": null,
            "grid_template_rows": null,
            "height": null,
            "justify_content": null,
            "justify_items": null,
            "left": null,
            "margin": null,
            "max_height": null,
            "max_width": null,
            "min_height": null,
            "min_width": null,
            "object_fit": null,
            "object_position": null,
            "order": null,
            "overflow": null,
            "overflow_x": null,
            "overflow_y": null,
            "padding": null,
            "right": null,
            "top": null,
            "visibility": null,
            "width": "20px"
          }
        },
        "0f5ae018dcdd4c1e95b94c9bbf6b422b": {
          "model_module": "@jupyter-widgets/controls",
          "model_name": "ProgressStyleModel",
          "model_module_version": "1.5.0",
          "state": {
            "_model_module": "@jupyter-widgets/controls",
            "_model_module_version": "1.5.0",
            "_model_name": "ProgressStyleModel",
            "_view_count": null,
            "_view_module": "@jupyter-widgets/base",
            "_view_module_version": "1.2.0",
            "_view_name": "StyleView",
            "bar_color": null,
            "description_width": ""
          }
        },
        "885b94662acc48c3b7e6c6e088d6fbdb": {
          "model_module": "@jupyter-widgets/base",
          "model_name": "LayoutModel",
          "model_module_version": "1.2.0",
          "state": {
            "_model_module": "@jupyter-widgets/base",
            "_model_module_version": "1.2.0",
            "_model_name": "LayoutModel",
            "_view_count": null,
            "_view_module": "@jupyter-widgets/base",
            "_view_module_version": "1.2.0",
            "_view_name": "LayoutView",
            "align_content": null,
            "align_items": null,
            "align_self": null,
            "border": null,
            "bottom": null,
            "display": null,
            "flex": null,
            "flex_flow": null,
            "grid_area": null,
            "grid_auto_columns": null,
            "grid_auto_flow": null,
            "grid_auto_rows": null,
            "grid_column": null,
            "grid_gap": null,
            "grid_row": null,
            "grid_template_areas": null,
            "grid_template_columns": null,
            "grid_template_rows": null,
            "height": null,
            "justify_content": null,
            "justify_items": null,
            "left": null,
            "margin": null,
            "max_height": null,
            "max_width": null,
            "min_height": null,
            "min_width": null,
            "object_fit": null,
            "object_position": null,
            "order": null,
            "overflow": null,
            "overflow_x": null,
            "overflow_y": null,
            "padding": null,
            "right": null,
            "top": null,
            "visibility": null,
            "width": null
          }
        },
        "8dc4d88e548d421fbf01bfa9ac7a24f2": {
          "model_module": "@jupyter-widgets/controls",
          "model_name": "DescriptionStyleModel",
          "model_module_version": "1.5.0",
          "state": {
            "_model_module": "@jupyter-widgets/controls",
            "_model_module_version": "1.5.0",
            "_model_name": "DescriptionStyleModel",
            "_view_count": null,
            "_view_module": "@jupyter-widgets/base",
            "_view_module_version": "1.2.0",
            "_view_name": "StyleView",
            "description_width": ""
          }
        },
        "85308af062ee4799b79db72b2543a85f": {
          "model_module": "@jupyter-widgets/controls",
          "model_name": "HBoxModel",
          "model_module_version": "1.5.0",
          "state": {
            "_dom_classes": [],
            "_model_module": "@jupyter-widgets/controls",
            "_model_module_version": "1.5.0",
            "_model_name": "HBoxModel",
            "_view_count": null,
            "_view_module": "@jupyter-widgets/controls",
            "_view_module_version": "1.5.0",
            "_view_name": "HBoxView",
            "box_style": "",
            "children": [
              "IPY_MODEL_b3cdd10964594da4ad60104ac418302a",
              "IPY_MODEL_91dd2cbb5dc348598ecde25417e5b370",
              "IPY_MODEL_7e0f42fd62d14deca59ec15265f83d7e"
            ],
            "layout": "IPY_MODEL_87c6b1cd882044bbad96ec06a2e0ca3a"
          }
        },
        "b3cdd10964594da4ad60104ac418302a": {
          "model_module": "@jupyter-widgets/controls",
          "model_name": "HTMLModel",
          "model_module_version": "1.5.0",
          "state": {
            "_dom_classes": [],
            "_model_module": "@jupyter-widgets/controls",
            "_model_module_version": "1.5.0",
            "_model_name": "HTMLModel",
            "_view_count": null,
            "_view_module": "@jupyter-widgets/controls",
            "_view_module_version": "1.5.0",
            "_view_name": "HTMLView",
            "description": "",
            "description_tooltip": null,
            "layout": "IPY_MODEL_ffd644817dbe427cbafd4fefbffac71d",
            "placeholder": "​",
            "style": "IPY_MODEL_7d1a57f1596846d09e85672877ac3ac0",
            "value": "tokenizer.json: "
          }
        },
        "91dd2cbb5dc348598ecde25417e5b370": {
          "model_module": "@jupyter-widgets/controls",
          "model_name": "FloatProgressModel",
          "model_module_version": "1.5.0",
          "state": {
            "_dom_classes": [],
            "_model_module": "@jupyter-widgets/controls",
            "_model_module_version": "1.5.0",
            "_model_name": "FloatProgressModel",
            "_view_count": null,
            "_view_module": "@jupyter-widgets/controls",
            "_view_module_version": "1.5.0",
            "_view_name": "ProgressView",
            "bar_style": "success",
            "description": "",
            "description_tooltip": null,
            "layout": "IPY_MODEL_483e347f0227474b84cd999cd62f3c7e",
            "max": 1,
            "min": 0,
            "orientation": "horizontal",
            "style": "IPY_MODEL_82c976df956a48b08bbd82fc2da0570d",
            "value": 1
          }
        },
        "7e0f42fd62d14deca59ec15265f83d7e": {
          "model_module": "@jupyter-widgets/controls",
          "model_name": "HTMLModel",
          "model_module_version": "1.5.0",
          "state": {
            "_dom_classes": [],
            "_model_module": "@jupyter-widgets/controls",
            "_model_module_version": "1.5.0",
            "_model_name": "HTMLModel",
            "_view_count": null,
            "_view_module": "@jupyter-widgets/controls",
            "_view_module_version": "1.5.0",
            "_view_name": "HTMLView",
            "description": "",
            "description_tooltip": null,
            "layout": "IPY_MODEL_18dc05c58f0643be87d9b89aaec85454",
            "placeholder": "​",
            "style": "IPY_MODEL_b4787f34d2904881ad0395106cd2b32c",
            "value": " 466k/? [00:00&lt;00:00, 5.14MB/s]"
          }
        },
        "87c6b1cd882044bbad96ec06a2e0ca3a": {
          "model_module": "@jupyter-widgets/base",
          "model_name": "LayoutModel",
          "model_module_version": "1.2.0",
          "state": {
            "_model_module": "@jupyter-widgets/base",
            "_model_module_version": "1.2.0",
            "_model_name": "LayoutModel",
            "_view_count": null,
            "_view_module": "@jupyter-widgets/base",
            "_view_module_version": "1.2.0",
            "_view_name": "LayoutView",
            "align_content": null,
            "align_items": null,
            "align_self": null,
            "border": null,
            "bottom": null,
            "display": null,
            "flex": null,
            "flex_flow": null,
            "grid_area": null,
            "grid_auto_columns": null,
            "grid_auto_flow": null,
            "grid_auto_rows": null,
            "grid_column": null,
            "grid_gap": null,
            "grid_row": null,
            "grid_template_areas": null,
            "grid_template_columns": null,
            "grid_template_rows": null,
            "height": null,
            "justify_content": null,
            "justify_items": null,
            "left": null,
            "margin": null,
            "max_height": null,
            "max_width": null,
            "min_height": null,
            "min_width": null,
            "object_fit": null,
            "object_position": null,
            "order": null,
            "overflow": null,
            "overflow_x": null,
            "overflow_y": null,
            "padding": null,
            "right": null,
            "top": null,
            "visibility": null,
            "width": null
          }
        },
        "ffd644817dbe427cbafd4fefbffac71d": {
          "model_module": "@jupyter-widgets/base",
          "model_name": "LayoutModel",
          "model_module_version": "1.2.0",
          "state": {
            "_model_module": "@jupyter-widgets/base",
            "_model_module_version": "1.2.0",
            "_model_name": "LayoutModel",
            "_view_count": null,
            "_view_module": "@jupyter-widgets/base",
            "_view_module_version": "1.2.0",
            "_view_name": "LayoutView",
            "align_content": null,
            "align_items": null,
            "align_self": null,
            "border": null,
            "bottom": null,
            "display": null,
            "flex": null,
            "flex_flow": null,
            "grid_area": null,
            "grid_auto_columns": null,
            "grid_auto_flow": null,
            "grid_auto_rows": null,
            "grid_column": null,
            "grid_gap": null,
            "grid_row": null,
            "grid_template_areas": null,
            "grid_template_columns": null,
            "grid_template_rows": null,
            "height": null,
            "justify_content": null,
            "justify_items": null,
            "left": null,
            "margin": null,
            "max_height": null,
            "max_width": null,
            "min_height": null,
            "min_width": null,
            "object_fit": null,
            "object_position": null,
            "order": null,
            "overflow": null,
            "overflow_x": null,
            "overflow_y": null,
            "padding": null,
            "right": null,
            "top": null,
            "visibility": null,
            "width": null
          }
        },
        "7d1a57f1596846d09e85672877ac3ac0": {
          "model_module": "@jupyter-widgets/controls",
          "model_name": "DescriptionStyleModel",
          "model_module_version": "1.5.0",
          "state": {
            "_model_module": "@jupyter-widgets/controls",
            "_model_module_version": "1.5.0",
            "_model_name": "DescriptionStyleModel",
            "_view_count": null,
            "_view_module": "@jupyter-widgets/base",
            "_view_module_version": "1.2.0",
            "_view_name": "StyleView",
            "description_width": ""
          }
        },
        "483e347f0227474b84cd999cd62f3c7e": {
          "model_module": "@jupyter-widgets/base",
          "model_name": "LayoutModel",
          "model_module_version": "1.2.0",
          "state": {
            "_model_module": "@jupyter-widgets/base",
            "_model_module_version": "1.2.0",
            "_model_name": "LayoutModel",
            "_view_count": null,
            "_view_module": "@jupyter-widgets/base",
            "_view_module_version": "1.2.0",
            "_view_name": "LayoutView",
            "align_content": null,
            "align_items": null,
            "align_self": null,
            "border": null,
            "bottom": null,
            "display": null,
            "flex": null,
            "flex_flow": null,
            "grid_area": null,
            "grid_auto_columns": null,
            "grid_auto_flow": null,
            "grid_auto_rows": null,
            "grid_column": null,
            "grid_gap": null,
            "grid_row": null,
            "grid_template_areas": null,
            "grid_template_columns": null,
            "grid_template_rows": null,
            "height": null,
            "justify_content": null,
            "justify_items": null,
            "left": null,
            "margin": null,
            "max_height": null,
            "max_width": null,
            "min_height": null,
            "min_width": null,
            "object_fit": null,
            "object_position": null,
            "order": null,
            "overflow": null,
            "overflow_x": null,
            "overflow_y": null,
            "padding": null,
            "right": null,
            "top": null,
            "visibility": null,
            "width": "20px"
          }
        },
        "82c976df956a48b08bbd82fc2da0570d": {
          "model_module": "@jupyter-widgets/controls",
          "model_name": "ProgressStyleModel",
          "model_module_version": "1.5.0",
          "state": {
            "_model_module": "@jupyter-widgets/controls",
            "_model_module_version": "1.5.0",
            "_model_name": "ProgressStyleModel",
            "_view_count": null,
            "_view_module": "@jupyter-widgets/base",
            "_view_module_version": "1.2.0",
            "_view_name": "StyleView",
            "bar_color": null,
            "description_width": ""
          }
        },
        "18dc05c58f0643be87d9b89aaec85454": {
          "model_module": "@jupyter-widgets/base",
          "model_name": "LayoutModel",
          "model_module_version": "1.2.0",
          "state": {
            "_model_module": "@jupyter-widgets/base",
            "_model_module_version": "1.2.0",
            "_model_name": "LayoutModel",
            "_view_count": null,
            "_view_module": "@jupyter-widgets/base",
            "_view_module_version": "1.2.0",
            "_view_name": "LayoutView",
            "align_content": null,
            "align_items": null,
            "align_self": null,
            "border": null,
            "bottom": null,
            "display": null,
            "flex": null,
            "flex_flow": null,
            "grid_area": null,
            "grid_auto_columns": null,
            "grid_auto_flow": null,
            "grid_auto_rows": null,
            "grid_column": null,
            "grid_gap": null,
            "grid_row": null,
            "grid_template_areas": null,
            "grid_template_columns": null,
            "grid_template_rows": null,
            "height": null,
            "justify_content": null,
            "justify_items": null,
            "left": null,
            "margin": null,
            "max_height": null,
            "max_width": null,
            "min_height": null,
            "min_width": null,
            "object_fit": null,
            "object_position": null,
            "order": null,
            "overflow": null,
            "overflow_x": null,
            "overflow_y": null,
            "padding": null,
            "right": null,
            "top": null,
            "visibility": null,
            "width": null
          }
        },
        "b4787f34d2904881ad0395106cd2b32c": {
          "model_module": "@jupyter-widgets/controls",
          "model_name": "DescriptionStyleModel",
          "model_module_version": "1.5.0",
          "state": {
            "_model_module": "@jupyter-widgets/controls",
            "_model_module_version": "1.5.0",
            "_model_name": "DescriptionStyleModel",
            "_view_count": null,
            "_view_module": "@jupyter-widgets/base",
            "_view_module_version": "1.2.0",
            "_view_name": "StyleView",
            "description_width": ""
          }
        },
        "20a56a9e54534a0dbca97edaffb98eb2": {
          "model_module": "@jupyter-widgets/controls",
          "model_name": "HBoxModel",
          "model_module_version": "1.5.0",
          "state": {
            "_dom_classes": [],
            "_model_module": "@jupyter-widgets/controls",
            "_model_module_version": "1.5.0",
            "_model_name": "HBoxModel",
            "_view_count": null,
            "_view_module": "@jupyter-widgets/controls",
            "_view_module_version": "1.5.0",
            "_view_name": "HBoxView",
            "box_style": "",
            "children": [
              "IPY_MODEL_76244815343846cb929954659f49f072",
              "IPY_MODEL_90368798ffb44b0d91f3f0ff884b4072",
              "IPY_MODEL_8deb1c90eeee48f384b744344ebab8a1"
            ],
            "layout": "IPY_MODEL_dfbdd009cd6242b89b6ab2ccd59b4e69"
          }
        },
        "76244815343846cb929954659f49f072": {
          "model_module": "@jupyter-widgets/controls",
          "model_name": "HTMLModel",
          "model_module_version": "1.5.0",
          "state": {
            "_dom_classes": [],
            "_model_module": "@jupyter-widgets/controls",
            "_model_module_version": "1.5.0",
            "_model_name": "HTMLModel",
            "_view_count": null,
            "_view_module": "@jupyter-widgets/controls",
            "_view_module_version": "1.5.0",
            "_view_name": "HTMLView",
            "description": "",
            "description_tooltip": null,
            "layout": "IPY_MODEL_60f0d9befe5a4d7f85a60f93002c41cd",
            "placeholder": "​",
            "style": "IPY_MODEL_c9295ea3c0194eb585a36e8055aa9cd3",
            "value": "model.safetensors: 100%"
          }
        },
        "90368798ffb44b0d91f3f0ff884b4072": {
          "model_module": "@jupyter-widgets/controls",
          "model_name": "FloatProgressModel",
          "model_module_version": "1.5.0",
          "state": {
            "_dom_classes": [],
            "_model_module": "@jupyter-widgets/controls",
            "_model_module_version": "1.5.0",
            "_model_name": "FloatProgressModel",
            "_view_count": null,
            "_view_module": "@jupyter-widgets/controls",
            "_view_module_version": "1.5.0",
            "_view_name": "ProgressView",
            "bar_style": "success",
            "description": "",
            "description_tooltip": null,
            "layout": "IPY_MODEL_7b90ddf9d8a546939a09ce41f69d0212",
            "max": 1340622760,
            "min": 0,
            "orientation": "horizontal",
            "style": "IPY_MODEL_295c20451b0142e8af6059f01a6e2f3c",
            "value": 1340622760
          }
        },
        "8deb1c90eeee48f384b744344ebab8a1": {
          "model_module": "@jupyter-widgets/controls",
          "model_name": "HTMLModel",
          "model_module_version": "1.5.0",
          "state": {
            "_dom_classes": [],
            "_model_module": "@jupyter-widgets/controls",
            "_model_module_version": "1.5.0",
            "_model_name": "HTMLModel",
            "_view_count": null,
            "_view_module": "@jupyter-widgets/controls",
            "_view_module_version": "1.5.0",
            "_view_name": "HTMLView",
            "description": "",
            "description_tooltip": null,
            "layout": "IPY_MODEL_267d25ff7f3c47a68043e6df516142aa",
            "placeholder": "​",
            "style": "IPY_MODEL_1ee63dc8ad2e4c2fb97d39bcc14db4c6",
            "value": " 1.34G/1.34G [00:29&lt;00:00, 41.8MB/s]"
          }
        },
        "dfbdd009cd6242b89b6ab2ccd59b4e69": {
          "model_module": "@jupyter-widgets/base",
          "model_name": "LayoutModel",
          "model_module_version": "1.2.0",
          "state": {
            "_model_module": "@jupyter-widgets/base",
            "_model_module_version": "1.2.0",
            "_model_name": "LayoutModel",
            "_view_count": null,
            "_view_module": "@jupyter-widgets/base",
            "_view_module_version": "1.2.0",
            "_view_name": "LayoutView",
            "align_content": null,
            "align_items": null,
            "align_self": null,
            "border": null,
            "bottom": null,
            "display": null,
            "flex": null,
            "flex_flow": null,
            "grid_area": null,
            "grid_auto_columns": null,
            "grid_auto_flow": null,
            "grid_auto_rows": null,
            "grid_column": null,
            "grid_gap": null,
            "grid_row": null,
            "grid_template_areas": null,
            "grid_template_columns": null,
            "grid_template_rows": null,
            "height": null,
            "justify_content": null,
            "justify_items": null,
            "left": null,
            "margin": null,
            "max_height": null,
            "max_width": null,
            "min_height": null,
            "min_width": null,
            "object_fit": null,
            "object_position": null,
            "order": null,
            "overflow": null,
            "overflow_x": null,
            "overflow_y": null,
            "padding": null,
            "right": null,
            "top": null,
            "visibility": null,
            "width": null
          }
        },
        "60f0d9befe5a4d7f85a60f93002c41cd": {
          "model_module": "@jupyter-widgets/base",
          "model_name": "LayoutModel",
          "model_module_version": "1.2.0",
          "state": {
            "_model_module": "@jupyter-widgets/base",
            "_model_module_version": "1.2.0",
            "_model_name": "LayoutModel",
            "_view_count": null,
            "_view_module": "@jupyter-widgets/base",
            "_view_module_version": "1.2.0",
            "_view_name": "LayoutView",
            "align_content": null,
            "align_items": null,
            "align_self": null,
            "border": null,
            "bottom": null,
            "display": null,
            "flex": null,
            "flex_flow": null,
            "grid_area": null,
            "grid_auto_columns": null,
            "grid_auto_flow": null,
            "grid_auto_rows": null,
            "grid_column": null,
            "grid_gap": null,
            "grid_row": null,
            "grid_template_areas": null,
            "grid_template_columns": null,
            "grid_template_rows": null,
            "height": null,
            "justify_content": null,
            "justify_items": null,
            "left": null,
            "margin": null,
            "max_height": null,
            "max_width": null,
            "min_height": null,
            "min_width": null,
            "object_fit": null,
            "object_position": null,
            "order": null,
            "overflow": null,
            "overflow_x": null,
            "overflow_y": null,
            "padding": null,
            "right": null,
            "top": null,
            "visibility": null,
            "width": null
          }
        },
        "c9295ea3c0194eb585a36e8055aa9cd3": {
          "model_module": "@jupyter-widgets/controls",
          "model_name": "DescriptionStyleModel",
          "model_module_version": "1.5.0",
          "state": {
            "_model_module": "@jupyter-widgets/controls",
            "_model_module_version": "1.5.0",
            "_model_name": "DescriptionStyleModel",
            "_view_count": null,
            "_view_module": "@jupyter-widgets/base",
            "_view_module_version": "1.2.0",
            "_view_name": "StyleView",
            "description_width": ""
          }
        },
        "7b90ddf9d8a546939a09ce41f69d0212": {
          "model_module": "@jupyter-widgets/base",
          "model_name": "LayoutModel",
          "model_module_version": "1.2.0",
          "state": {
            "_model_module": "@jupyter-widgets/base",
            "_model_module_version": "1.2.0",
            "_model_name": "LayoutModel",
            "_view_count": null,
            "_view_module": "@jupyter-widgets/base",
            "_view_module_version": "1.2.0",
            "_view_name": "LayoutView",
            "align_content": null,
            "align_items": null,
            "align_self": null,
            "border": null,
            "bottom": null,
            "display": null,
            "flex": null,
            "flex_flow": null,
            "grid_area": null,
            "grid_auto_columns": null,
            "grid_auto_flow": null,
            "grid_auto_rows": null,
            "grid_column": null,
            "grid_gap": null,
            "grid_row": null,
            "grid_template_areas": null,
            "grid_template_columns": null,
            "grid_template_rows": null,
            "height": null,
            "justify_content": null,
            "justify_items": null,
            "left": null,
            "margin": null,
            "max_height": null,
            "max_width": null,
            "min_height": null,
            "min_width": null,
            "object_fit": null,
            "object_position": null,
            "order": null,
            "overflow": null,
            "overflow_x": null,
            "overflow_y": null,
            "padding": null,
            "right": null,
            "top": null,
            "visibility": null,
            "width": null
          }
        },
        "295c20451b0142e8af6059f01a6e2f3c": {
          "model_module": "@jupyter-widgets/controls",
          "model_name": "ProgressStyleModel",
          "model_module_version": "1.5.0",
          "state": {
            "_model_module": "@jupyter-widgets/controls",
            "_model_module_version": "1.5.0",
            "_model_name": "ProgressStyleModel",
            "_view_count": null,
            "_view_module": "@jupyter-widgets/base",
            "_view_module_version": "1.2.0",
            "_view_name": "StyleView",
            "bar_color": null,
            "description_width": ""
          }
        },
        "267d25ff7f3c47a68043e6df516142aa": {
          "model_module": "@jupyter-widgets/base",
          "model_name": "LayoutModel",
          "model_module_version": "1.2.0",
          "state": {
            "_model_module": "@jupyter-widgets/base",
            "_model_module_version": "1.2.0",
            "_model_name": "LayoutModel",
            "_view_count": null,
            "_view_module": "@jupyter-widgets/base",
            "_view_module_version": "1.2.0",
            "_view_name": "LayoutView",
            "align_content": null,
            "align_items": null,
            "align_self": null,
            "border": null,
            "bottom": null,
            "display": null,
            "flex": null,
            "flex_flow": null,
            "grid_area": null,
            "grid_auto_columns": null,
            "grid_auto_flow": null,
            "grid_auto_rows": null,
            "grid_column": null,
            "grid_gap": null,
            "grid_row": null,
            "grid_template_areas": null,
            "grid_template_columns": null,
            "grid_template_rows": null,
            "height": null,
            "justify_content": null,
            "justify_items": null,
            "left": null,
            "margin": null,
            "max_height": null,
            "max_width": null,
            "min_height": null,
            "min_width": null,
            "object_fit": null,
            "object_position": null,
            "order": null,
            "overflow": null,
            "overflow_x": null,
            "overflow_y": null,
            "padding": null,
            "right": null,
            "top": null,
            "visibility": null,
            "width": null
          }
        },
        "1ee63dc8ad2e4c2fb97d39bcc14db4c6": {
          "model_module": "@jupyter-widgets/controls",
          "model_name": "DescriptionStyleModel",
          "model_module_version": "1.5.0",
          "state": {
            "_model_module": "@jupyter-widgets/controls",
            "_model_module_version": "1.5.0",
            "_model_name": "DescriptionStyleModel",
            "_view_count": null,
            "_view_module": "@jupyter-widgets/base",
            "_view_module_version": "1.2.0",
            "_view_name": "StyleView",
            "description_width": ""
          }
        }
      }
    }
  },
  "cells": [
    {
      "cell_type": "markdown",
      "source": [
        "# BERT"
      ],
      "metadata": {
        "id": "hV62spojvasf"
      }
    },
    {
      "cell_type": "code",
      "execution_count": null,
      "metadata": {
        "colab": {
          "base_uri": "https://localhost:8080/",
          "height": 1000,
          "referenced_widgets": [
            "6b99b075306b4fcc8fbcfea7c1c99a99",
            "4f59029dc99643e9bd68ba000c6f75cb",
            "574da0ff13334a548f00db4f262f0624",
            "acb0ac59d4524ab787d2dd6948934f65",
            "4f81898fd0a24691916ac4bd66fcaaf5",
            "d70c68550ad04de6a633a3c315f32ced",
            "d019de3eafc74ccdad50007d378c12eb",
            "c7f1945bffc7442eb64859fe49df53d4",
            "7766e165d03d472699f3d8494c349422",
            "cc1ef3897bd34687bfcb639d0e43d484",
            "f134fd7479d941ddba04f3bd2568d3b8",
            "f10307a002994d518338bdaf85b0a2e0",
            "d1afd4997ed94cdb9961bf90ccde275f",
            "64b6958cb6ab4b39b37d73b3edc0c4ba",
            "bd7801fbb19a424cb9057a6ae83a3447",
            "60b293b12b8c411782df1bba23d15028",
            "bf4b173236fb4929a06a0507b52b9afc",
            "4eb1653d434f46aabcde4ee02770dade",
            "6f8382a29bf542afafa8b2165644e4c0",
            "7776df9ec05a47459ac47bf861d93ce4",
            "f90e5000b57443ebb4f28705f902f4e0",
            "3d0820a464a74102b29da001f538536a",
            "31f10c763d1b4e5ca28eafbab04067bd",
            "40bb5a46f01f4147937838c34aa59fc4",
            "7367a6ef2b04452298db782015568dad",
            "4f3adf6b6ff44e9dbe00930a2a30fe03",
            "c1e9cdda3cc942f887c7d5d740171aab",
            "46fac99a41a74a28a5c20b7659c049c9",
            "42e16f8543814ef4a70eb13858b9e04b",
            "c9dfdb65b4ac4f79b1d1235a89ce82c7",
            "0f5ae018dcdd4c1e95b94c9bbf6b422b",
            "885b94662acc48c3b7e6c6e088d6fbdb",
            "8dc4d88e548d421fbf01bfa9ac7a24f2",
            "85308af062ee4799b79db72b2543a85f",
            "b3cdd10964594da4ad60104ac418302a",
            "91dd2cbb5dc348598ecde25417e5b370",
            "7e0f42fd62d14deca59ec15265f83d7e",
            "87c6b1cd882044bbad96ec06a2e0ca3a",
            "ffd644817dbe427cbafd4fefbffac71d",
            "7d1a57f1596846d09e85672877ac3ac0",
            "483e347f0227474b84cd999cd62f3c7e",
            "82c976df956a48b08bbd82fc2da0570d",
            "18dc05c58f0643be87d9b89aaec85454",
            "b4787f34d2904881ad0395106cd2b32c"
          ]
        },
        "id": "t_qfzbb-vRLC",
        "outputId": "53ef2ab7-95a9-42dc-d2ae-b459d97ee3d5"
      },
      "outputs": [
        {
          "output_type": "stream",
          "name": "stderr",
          "text": [
            "/usr/local/lib/python3.11/dist-packages/huggingface_hub/utils/_auth.py:94: UserWarning: \n",
            "The secret `HF_TOKEN` does not exist in your Colab secrets.\n",
            "To authenticate with the Hugging Face Hub, create a token in your settings tab (https://huggingface.co/settings/tokens), set it as secret in your Google Colab and restart your session.\n",
            "You will be able to reuse this secret in all of your notebooks.\n",
            "Please note that authentication is recommended but still optional to access public models or datasets.\n",
            "  warnings.warn(\n"
          ]
        },
        {
          "output_type": "display_data",
          "data": {
            "text/plain": [
              "tokenizer_config.json:   0%|          | 0.00/48.0 [00:00<?, ?B/s]"
            ],
            "application/vnd.jupyter.widget-view+json": {
              "version_major": 2,
              "version_minor": 0,
              "model_id": "6b99b075306b4fcc8fbcfea7c1c99a99"
            }
          },
          "metadata": {}
        },
        {
          "output_type": "display_data",
          "data": {
            "text/plain": [
              "config.json:   0%|          | 0.00/443 [00:00<?, ?B/s]"
            ],
            "application/vnd.jupyter.widget-view+json": {
              "version_major": 2,
              "version_minor": 0,
              "model_id": "f10307a002994d518338bdaf85b0a2e0"
            }
          },
          "metadata": {}
        },
        {
          "output_type": "display_data",
          "data": {
            "text/plain": [
              "vocab.txt: 0.00B [00:00, ?B/s]"
            ],
            "application/vnd.jupyter.widget-view+json": {
              "version_major": 2,
              "version_minor": 0,
              "model_id": "31f10c763d1b4e5ca28eafbab04067bd"
            }
          },
          "metadata": {}
        },
        {
          "output_type": "display_data",
          "data": {
            "text/plain": [
              "tokenizer.json: 0.00B [00:00, ?B/s]"
            ],
            "application/vnd.jupyter.widget-view+json": {
              "version_major": 2,
              "version_minor": 0,
              "model_id": "85308af062ee4799b79db72b2543a85f"
            }
          },
          "metadata": {}
        },
        {
          "output_type": "stream",
          "name": "stdout",
          "text": [
            "{'input_ids': tensor([[  101,  2073,  2003,  1996,  1041, 13355,  2884,  3578,  1029,   102,\n",
            "          1996,  1041, 13355,  2884,  3578,  2003,  2284,  1999,  3000,  1010,\n",
            "          2605,  1012,   102,     0,     0,     0,     0,     0,     0,     0,\n",
            "             0,     0,     0,     0,     0,     0,     0,     0,     0,     0,\n",
            "             0,     0,     0,     0,     0,     0,     0,     0,     0,     0,\n",
            "             0,     0,     0,     0,     0,     0,     0,     0,     0,     0,\n",
            "             0,     0,     0,     0,     0,     0,     0,     0,     0,     0,\n",
            "             0,     0,     0,     0,     0,     0,     0,     0,     0,     0,\n",
            "             0,     0,     0,     0,     0,     0,     0,     0,     0,     0,\n",
            "             0,     0,     0,     0,     0,     0,     0,     0,     0,     0,\n",
            "             0,     0,     0,     0,     0,     0,     0,     0,     0,     0,\n",
            "             0,     0,     0,     0,     0,     0,     0,     0,     0,     0,\n",
            "             0,     0,     0,     0,     0,     0,     0,     0,     0,     0,\n",
            "             0,     0,     0,     0,     0,     0,     0,     0,     0,     0,\n",
            "             0,     0,     0,     0,     0,     0,     0,     0,     0,     0,\n",
            "             0,     0,     0,     0,     0,     0,     0,     0,     0,     0,\n",
            "             0,     0,     0,     0,     0,     0,     0,     0,     0,     0,\n",
            "             0,     0,     0,     0,     0,     0,     0,     0,     0,     0,\n",
            "             0,     0,     0,     0,     0,     0,     0,     0,     0,     0,\n",
            "             0,     0,     0,     0,     0,     0,     0,     0,     0,     0,\n",
            "             0,     0,     0,     0,     0,     0,     0,     0,     0,     0,\n",
            "             0,     0,     0,     0,     0,     0,     0,     0,     0,     0,\n",
            "             0,     0,     0,     0,     0,     0,     0,     0,     0,     0,\n",
            "             0,     0,     0,     0,     0,     0,     0,     0,     0,     0,\n",
            "             0,     0,     0,     0,     0,     0,     0,     0,     0,     0,\n",
            "             0,     0,     0,     0,     0,     0,     0,     0,     0,     0,\n",
            "             0,     0,     0,     0,     0,     0,     0,     0,     0,     0,\n",
            "             0,     0,     0,     0,     0,     0,     0,     0,     0,     0,\n",
            "             0,     0,     0,     0,     0,     0,     0,     0,     0,     0,\n",
            "             0,     0,     0,     0,     0,     0,     0,     0,     0,     0,\n",
            "             0,     0,     0,     0,     0,     0,     0,     0,     0,     0,\n",
            "             0,     0,     0,     0,     0,     0,     0,     0,     0,     0,\n",
            "             0,     0,     0,     0,     0,     0,     0,     0,     0,     0,\n",
            "             0,     0,     0,     0,     0,     0,     0,     0,     0,     0,\n",
            "             0,     0,     0,     0,     0,     0,     0,     0,     0,     0,\n",
            "             0,     0,     0,     0,     0,     0,     0,     0,     0,     0,\n",
            "             0,     0,     0,     0,     0,     0,     0,     0,     0,     0,\n",
            "             0,     0,     0,     0,     0,     0,     0,     0,     0,     0,\n",
            "             0,     0,     0,     0,     0,     0,     0,     0,     0,     0,\n",
            "             0,     0,     0,     0,     0,     0,     0,     0,     0,     0,\n",
            "             0,     0,     0,     0,     0,     0,     0,     0,     0,     0,\n",
            "             0,     0,     0,     0,     0,     0,     0,     0,     0,     0,\n",
            "             0,     0,     0,     0,     0,     0,     0,     0,     0,     0,\n",
            "             0,     0,     0,     0,     0,     0,     0,     0,     0,     0,\n",
            "             0,     0,     0,     0,     0,     0,     0,     0,     0,     0,\n",
            "             0,     0,     0,     0,     0,     0,     0,     0,     0,     0,\n",
            "             0,     0,     0,     0,     0,     0,     0,     0,     0,     0,\n",
            "             0,     0,     0,     0,     0,     0,     0,     0,     0,     0,\n",
            "             0,     0,     0,     0,     0,     0,     0,     0,     0,     0,\n",
            "             0,     0,     0,     0,     0,     0,     0,     0,     0,     0,\n",
            "             0,     0,     0,     0,     0,     0,     0,     0,     0,     0,\n",
            "             0,     0]]), 'token_type_ids': tensor([[0, 0, 0, 0, 0, 0, 0, 0, 0, 0, 1, 1, 1, 1, 1, 1, 1, 1, 1, 1, 1, 1, 1, 0,\n",
            "         0, 0, 0, 0, 0, 0, 0, 0, 0, 0, 0, 0, 0, 0, 0, 0, 0, 0, 0, 0, 0, 0, 0, 0,\n",
            "         0, 0, 0, 0, 0, 0, 0, 0, 0, 0, 0, 0, 0, 0, 0, 0, 0, 0, 0, 0, 0, 0, 0, 0,\n",
            "         0, 0, 0, 0, 0, 0, 0, 0, 0, 0, 0, 0, 0, 0, 0, 0, 0, 0, 0, 0, 0, 0, 0, 0,\n",
            "         0, 0, 0, 0, 0, 0, 0, 0, 0, 0, 0, 0, 0, 0, 0, 0, 0, 0, 0, 0, 0, 0, 0, 0,\n",
            "         0, 0, 0, 0, 0, 0, 0, 0, 0, 0, 0, 0, 0, 0, 0, 0, 0, 0, 0, 0, 0, 0, 0, 0,\n",
            "         0, 0, 0, 0, 0, 0, 0, 0, 0, 0, 0, 0, 0, 0, 0, 0, 0, 0, 0, 0, 0, 0, 0, 0,\n",
            "         0, 0, 0, 0, 0, 0, 0, 0, 0, 0, 0, 0, 0, 0, 0, 0, 0, 0, 0, 0, 0, 0, 0, 0,\n",
            "         0, 0, 0, 0, 0, 0, 0, 0, 0, 0, 0, 0, 0, 0, 0, 0, 0, 0, 0, 0, 0, 0, 0, 0,\n",
            "         0, 0, 0, 0, 0, 0, 0, 0, 0, 0, 0, 0, 0, 0, 0, 0, 0, 0, 0, 0, 0, 0, 0, 0,\n",
            "         0, 0, 0, 0, 0, 0, 0, 0, 0, 0, 0, 0, 0, 0, 0, 0, 0, 0, 0, 0, 0, 0, 0, 0,\n",
            "         0, 0, 0, 0, 0, 0, 0, 0, 0, 0, 0, 0, 0, 0, 0, 0, 0, 0, 0, 0, 0, 0, 0, 0,\n",
            "         0, 0, 0, 0, 0, 0, 0, 0, 0, 0, 0, 0, 0, 0, 0, 0, 0, 0, 0, 0, 0, 0, 0, 0,\n",
            "         0, 0, 0, 0, 0, 0, 0, 0, 0, 0, 0, 0, 0, 0, 0, 0, 0, 0, 0, 0, 0, 0, 0, 0,\n",
            "         0, 0, 0, 0, 0, 0, 0, 0, 0, 0, 0, 0, 0, 0, 0, 0, 0, 0, 0, 0, 0, 0, 0, 0,\n",
            "         0, 0, 0, 0, 0, 0, 0, 0, 0, 0, 0, 0, 0, 0, 0, 0, 0, 0, 0, 0, 0, 0, 0, 0,\n",
            "         0, 0, 0, 0, 0, 0, 0, 0, 0, 0, 0, 0, 0, 0, 0, 0, 0, 0, 0, 0, 0, 0, 0, 0,\n",
            "         0, 0, 0, 0, 0, 0, 0, 0, 0, 0, 0, 0, 0, 0, 0, 0, 0, 0, 0, 0, 0, 0, 0, 0,\n",
            "         0, 0, 0, 0, 0, 0, 0, 0, 0, 0, 0, 0, 0, 0, 0, 0, 0, 0, 0, 0, 0, 0, 0, 0,\n",
            "         0, 0, 0, 0, 0, 0, 0, 0, 0, 0, 0, 0, 0, 0, 0, 0, 0, 0, 0, 0, 0, 0, 0, 0,\n",
            "         0, 0, 0, 0, 0, 0, 0, 0, 0, 0, 0, 0, 0, 0, 0, 0, 0, 0, 0, 0, 0, 0, 0, 0,\n",
            "         0, 0, 0, 0, 0, 0, 0, 0]]), 'attention_mask': tensor([[1, 1, 1, 1, 1, 1, 1, 1, 1, 1, 1, 1, 1, 1, 1, 1, 1, 1, 1, 1, 1, 1, 1, 0,\n",
            "         0, 0, 0, 0, 0, 0, 0, 0, 0, 0, 0, 0, 0, 0, 0, 0, 0, 0, 0, 0, 0, 0, 0, 0,\n",
            "         0, 0, 0, 0, 0, 0, 0, 0, 0, 0, 0, 0, 0, 0, 0, 0, 0, 0, 0, 0, 0, 0, 0, 0,\n",
            "         0, 0, 0, 0, 0, 0, 0, 0, 0, 0, 0, 0, 0, 0, 0, 0, 0, 0, 0, 0, 0, 0, 0, 0,\n",
            "         0, 0, 0, 0, 0, 0, 0, 0, 0, 0, 0, 0, 0, 0, 0, 0, 0, 0, 0, 0, 0, 0, 0, 0,\n",
            "         0, 0, 0, 0, 0, 0, 0, 0, 0, 0, 0, 0, 0, 0, 0, 0, 0, 0, 0, 0, 0, 0, 0, 0,\n",
            "         0, 0, 0, 0, 0, 0, 0, 0, 0, 0, 0, 0, 0, 0, 0, 0, 0, 0, 0, 0, 0, 0, 0, 0,\n",
            "         0, 0, 0, 0, 0, 0, 0, 0, 0, 0, 0, 0, 0, 0, 0, 0, 0, 0, 0, 0, 0, 0, 0, 0,\n",
            "         0, 0, 0, 0, 0, 0, 0, 0, 0, 0, 0, 0, 0, 0, 0, 0, 0, 0, 0, 0, 0, 0, 0, 0,\n",
            "         0, 0, 0, 0, 0, 0, 0, 0, 0, 0, 0, 0, 0, 0, 0, 0, 0, 0, 0, 0, 0, 0, 0, 0,\n",
            "         0, 0, 0, 0, 0, 0, 0, 0, 0, 0, 0, 0, 0, 0, 0, 0, 0, 0, 0, 0, 0, 0, 0, 0,\n",
            "         0, 0, 0, 0, 0, 0, 0, 0, 0, 0, 0, 0, 0, 0, 0, 0, 0, 0, 0, 0, 0, 0, 0, 0,\n",
            "         0, 0, 0, 0, 0, 0, 0, 0, 0, 0, 0, 0, 0, 0, 0, 0, 0, 0, 0, 0, 0, 0, 0, 0,\n",
            "         0, 0, 0, 0, 0, 0, 0, 0, 0, 0, 0, 0, 0, 0, 0, 0, 0, 0, 0, 0, 0, 0, 0, 0,\n",
            "         0, 0, 0, 0, 0, 0, 0, 0, 0, 0, 0, 0, 0, 0, 0, 0, 0, 0, 0, 0, 0, 0, 0, 0,\n",
            "         0, 0, 0, 0, 0, 0, 0, 0, 0, 0, 0, 0, 0, 0, 0, 0, 0, 0, 0, 0, 0, 0, 0, 0,\n",
            "         0, 0, 0, 0, 0, 0, 0, 0, 0, 0, 0, 0, 0, 0, 0, 0, 0, 0, 0, 0, 0, 0, 0, 0,\n",
            "         0, 0, 0, 0, 0, 0, 0, 0, 0, 0, 0, 0, 0, 0, 0, 0, 0, 0, 0, 0, 0, 0, 0, 0,\n",
            "         0, 0, 0, 0, 0, 0, 0, 0, 0, 0, 0, 0, 0, 0, 0, 0, 0, 0, 0, 0, 0, 0, 0, 0,\n",
            "         0, 0, 0, 0, 0, 0, 0, 0, 0, 0, 0, 0, 0, 0, 0, 0, 0, 0, 0, 0, 0, 0, 0, 0,\n",
            "         0, 0, 0, 0, 0, 0, 0, 0, 0, 0, 0, 0, 0, 0, 0, 0, 0, 0, 0, 0, 0, 0, 0, 0,\n",
            "         0, 0, 0, 0, 0, 0, 0, 0]])}\n"
          ]
        }
      ],
      "source": [
        "# Load model directly\n",
        "from transformers import AutoTokenizer\n",
        "\n",
        "tokenizer = AutoTokenizer.from_pretrained(\"google-bert/bert-large-uncased-whole-word-masking-finetuned-squad\")\n",
        "\n",
        "\n",
        "question = \"Where is the Eiffel Tower?\"\n",
        "context = \"The Eiffel Tower is located in Paris, France.\"\n",
        "\n",
        "inputs = tokenizer(question, context, return_tensors=\"pt\", truncation=True, padding=\"max_length\")\n",
        "print(inputs)"
      ]
    },
    {
      "cell_type": "code",
      "source": [
        "print(tokenizer)"
      ],
      "metadata": {
        "colab": {
          "base_uri": "https://localhost:8080/"
        },
        "id": "gdOnU6HevdVg",
        "outputId": "2292f721-0846-4ddb-e71d-0bcf4a75f7b9"
      },
      "execution_count": null,
      "outputs": [
        {
          "output_type": "stream",
          "name": "stdout",
          "text": [
            "BertTokenizerFast(name_or_path='google-bert/bert-large-uncased-whole-word-masking-finetuned-squad', vocab_size=30522, model_max_length=512, is_fast=True, padding_side='right', truncation_side='right', special_tokens={'unk_token': '[UNK]', 'sep_token': '[SEP]', 'pad_token': '[PAD]', 'cls_token': '[CLS]', 'mask_token': '[MASK]'}, clean_up_tokenization_spaces=False, added_tokens_decoder={\n",
            "\t0: AddedToken(\"[PAD]\", rstrip=False, lstrip=False, single_word=False, normalized=False, special=True),\n",
            "\t100: AddedToken(\"[UNK]\", rstrip=False, lstrip=False, single_word=False, normalized=False, special=True),\n",
            "\t101: AddedToken(\"[CLS]\", rstrip=False, lstrip=False, single_word=False, normalized=False, special=True),\n",
            "\t102: AddedToken(\"[SEP]\", rstrip=False, lstrip=False, single_word=False, normalized=False, special=True),\n",
            "\t103: AddedToken(\"[MASK]\", rstrip=False, lstrip=False, single_word=False, normalized=False, special=True),\n",
            "}\n",
            ")\n"
          ]
        }
      ]
    },
    {
      "cell_type": "code",
      "source": [
        "tokenizer.vocab_size"
      ],
      "metadata": {
        "colab": {
          "base_uri": "https://localhost:8080/"
        },
        "id": "cIxh4MbRvlKM",
        "outputId": "56499130-db93-4cd5-8c4b-c7ccba689d23"
      },
      "execution_count": null,
      "outputs": [
        {
          "output_type": "execute_result",
          "data": {
            "text/plain": [
              "30522"
            ]
          },
          "metadata": {},
          "execution_count": 4
        }
      ]
    },
    {
      "cell_type": "code",
      "source": [
        "print(inputs['input_ids'])"
      ],
      "metadata": {
        "colab": {
          "base_uri": "https://localhost:8080/"
        },
        "id": "xKZqDPUyvl_x",
        "outputId": "e6894acf-d14b-4764-86fd-99f1efb45645"
      },
      "execution_count": null,
      "outputs": [
        {
          "output_type": "stream",
          "name": "stdout",
          "text": [
            "tensor([[  101,  2073,  2003,  1996,  1041, 13355,  2884,  3578,  1029,   102,\n",
            "          1996,  1041, 13355,  2884,  3578,  2003,  2284,  1999,  3000,  1010,\n",
            "          2605,  1012,   102,     0,     0,     0,     0,     0,     0,     0,\n",
            "             0,     0,     0,     0,     0,     0,     0,     0,     0,     0,\n",
            "             0,     0,     0,     0,     0,     0,     0,     0,     0,     0,\n",
            "             0,     0,     0,     0,     0,     0,     0,     0,     0,     0,\n",
            "             0,     0,     0,     0,     0,     0,     0,     0,     0,     0,\n",
            "             0,     0,     0,     0,     0,     0,     0,     0,     0,     0,\n",
            "             0,     0,     0,     0,     0,     0,     0,     0,     0,     0,\n",
            "             0,     0,     0,     0,     0,     0,     0,     0,     0,     0,\n",
            "             0,     0,     0,     0,     0,     0,     0,     0,     0,     0,\n",
            "             0,     0,     0,     0,     0,     0,     0,     0,     0,     0,\n",
            "             0,     0,     0,     0,     0,     0,     0,     0,     0,     0,\n",
            "             0,     0,     0,     0,     0,     0,     0,     0,     0,     0,\n",
            "             0,     0,     0,     0,     0,     0,     0,     0,     0,     0,\n",
            "             0,     0,     0,     0,     0,     0,     0,     0,     0,     0,\n",
            "             0,     0,     0,     0,     0,     0,     0,     0,     0,     0,\n",
            "             0,     0,     0,     0,     0,     0,     0,     0,     0,     0,\n",
            "             0,     0,     0,     0,     0,     0,     0,     0,     0,     0,\n",
            "             0,     0,     0,     0,     0,     0,     0,     0,     0,     0,\n",
            "             0,     0,     0,     0,     0,     0,     0,     0,     0,     0,\n",
            "             0,     0,     0,     0,     0,     0,     0,     0,     0,     0,\n",
            "             0,     0,     0,     0,     0,     0,     0,     0,     0,     0,\n",
            "             0,     0,     0,     0,     0,     0,     0,     0,     0,     0,\n",
            "             0,     0,     0,     0,     0,     0,     0,     0,     0,     0,\n",
            "             0,     0,     0,     0,     0,     0,     0,     0,     0,     0,\n",
            "             0,     0,     0,     0,     0,     0,     0,     0,     0,     0,\n",
            "             0,     0,     0,     0,     0,     0,     0,     0,     0,     0,\n",
            "             0,     0,     0,     0,     0,     0,     0,     0,     0,     0,\n",
            "             0,     0,     0,     0,     0,     0,     0,     0,     0,     0,\n",
            "             0,     0,     0,     0,     0,     0,     0,     0,     0,     0,\n",
            "             0,     0,     0,     0,     0,     0,     0,     0,     0,     0,\n",
            "             0,     0,     0,     0,     0,     0,     0,     0,     0,     0,\n",
            "             0,     0,     0,     0,     0,     0,     0,     0,     0,     0,\n",
            "             0,     0,     0,     0,     0,     0,     0,     0,     0,     0,\n",
            "             0,     0,     0,     0,     0,     0,     0,     0,     0,     0,\n",
            "             0,     0,     0,     0,     0,     0,     0,     0,     0,     0,\n",
            "             0,     0,     0,     0,     0,     0,     0,     0,     0,     0,\n",
            "             0,     0,     0,     0,     0,     0,     0,     0,     0,     0,\n",
            "             0,     0,     0,     0,     0,     0,     0,     0,     0,     0,\n",
            "             0,     0,     0,     0,     0,     0,     0,     0,     0,     0,\n",
            "             0,     0,     0,     0,     0,     0,     0,     0,     0,     0,\n",
            "             0,     0,     0,     0,     0,     0,     0,     0,     0,     0,\n",
            "             0,     0,     0,     0,     0,     0,     0,     0,     0,     0,\n",
            "             0,     0,     0,     0,     0,     0,     0,     0,     0,     0,\n",
            "             0,     0,     0,     0,     0,     0,     0,     0,     0,     0,\n",
            "             0,     0,     0,     0,     0,     0,     0,     0,     0,     0,\n",
            "             0,     0,     0,     0,     0,     0,     0,     0,     0,     0,\n",
            "             0,     0,     0,     0,     0,     0,     0,     0,     0,     0,\n",
            "             0,     0,     0,     0,     0,     0,     0,     0,     0,     0,\n",
            "             0,     0,     0,     0,     0,     0,     0,     0,     0,     0,\n",
            "             0,     0]])\n"
          ]
        }
      ]
    },
    {
      "cell_type": "code",
      "source": [
        "tokenizer.decode(inputs['input_ids'][0])"
      ],
      "metadata": {
        "colab": {
          "base_uri": "https://localhost:8080/",
          "height": 126
        },
        "id": "SsLL-44hvonW",
        "outputId": "f259ddec-60a1-47ac-ee89-e2e76fcb1150"
      },
      "execution_count": null,
      "outputs": [
        {
          "output_type": "execute_result",
          "data": {
            "text/plain": [
              "'[CLS] where is the eiffel tower? [SEP] the eiffel tower is located in paris, france. [SEP] [PAD] [PAD] [PAD] [PAD] [PAD] [PAD] [PAD] [PAD] [PAD] [PAD] [PAD] [PAD] [PAD] [PAD] [PAD] [PAD] [PAD] [PAD] [PAD] [PAD] [PAD] [PAD] [PAD] [PAD] [PAD] [PAD] [PAD] [PAD] [PAD] [PAD] [PAD] [PAD] [PAD] [PAD] [PAD] [PAD] [PAD] [PAD] [PAD] [PAD] [PAD] [PAD] [PAD] [PAD] [PAD] [PAD] [PAD] [PAD] [PAD] [PAD] [PAD] [PAD] [PAD] [PAD] [PAD] [PAD] [PAD] [PAD] [PAD] [PAD] [PAD] [PAD] [PAD] [PAD] [PAD] [PAD] [PAD] [PAD] [PAD] [PAD] [PAD] [PAD] [PAD] [PAD] [PAD] [PAD] [PAD] [PAD] [PAD] [PAD] [PAD] [PAD] [PAD] [PAD] [PAD] [PAD] [PAD] [PAD] [PAD] [PAD] [PAD] [PAD] [PAD] [PAD] [PAD] [PAD] [PAD] [PAD] [PAD] [PAD] [PAD] [PAD] [PAD] [PAD] [PAD] [PAD] [PAD] [PAD] [PAD] [PAD] [PAD] [PAD] [PAD] [PAD] [PAD] [PAD] [PAD] [PAD] [PAD] [PAD] [PAD] [PAD] [PAD] [PAD] [PAD] [PAD] [PAD] [PAD] [PAD] [PAD] [PAD] [PAD] [PAD] [PAD] [PAD] [PAD] [PAD] [PAD] [PAD] [PAD] [PAD] [PAD] [PAD] [PAD] [PAD] [PAD] [PAD] [PAD] [PAD] [PAD] [PAD] [PAD] [PAD] [PAD] [PAD] [PAD] [PAD] [PAD] [PAD] [PAD] [PAD] [PAD] [PAD] [PAD] [PAD] [PAD] [PAD] [PAD] [PAD] [PAD] [PAD] [PAD] [PAD] [PAD] [PAD] [PAD] [PAD] [PAD] [PAD] [PAD] [PAD] [PAD] [PAD] [PAD] [PAD] [PAD] [PAD] [PAD] [PAD] [PAD] [PAD] [PAD] [PAD] [PAD] [PAD] [PAD] [PAD] [PAD] [PAD] [PAD] [PAD] [PAD] [PAD] [PAD] [PAD] [PAD] [PAD] [PAD] [PAD] [PAD] [PAD] [PAD] [PAD] [PAD] [PAD] [PAD] [PAD] [PAD] [PAD] [PAD] [PAD] [PAD] [PAD] [PAD] [PAD] [PAD] [PAD] [PAD] [PAD] [PAD] [PAD] [PAD] [PAD] [PAD] [PAD] [PAD] [PAD] [PAD] [PAD] [PAD] [PAD] [PAD] [PAD] [PAD] [PAD] [PAD] [PAD] [PAD] [PAD] [PAD] [PAD] [PAD] [PAD] [PAD] [PAD] [PAD] [PAD] [PAD] [PAD] [PAD] [PAD] [PAD] [PAD] [PAD] [PAD] [PAD] [PAD] [PAD] [PAD] [PAD] [PAD] [PAD] [PAD] [PAD] [PAD] [PAD] [PAD] [PAD] [PAD] [PAD] [PAD] [PAD] [PAD] [PAD] [PAD] [PAD] [PAD] [PAD] [PAD] [PAD] [PAD] [PAD] [PAD] [PAD] [PAD] [PAD] [PAD] [PAD] [PAD] [PAD] [PAD] [PAD] [PAD] [PAD] [PAD] [PAD] [PAD] [PAD] [PAD] [PAD] [PAD] [PAD] [PAD] [PAD] [PAD] [PAD] [PAD] [PAD] [PAD] [PAD] [PAD] [PAD] [PAD] [PAD] [PAD] [PAD] [PAD] [PAD] [PAD] [PAD] [PAD] [PAD] [PAD] [PAD] [PAD] [PAD] [PAD] [PAD] [PAD] [PAD] [PAD] [PAD] [PAD] [PAD] [PAD] [PAD] [PAD] [PAD] [PAD] [PAD] [PAD] [PAD] [PAD] [PAD] [PAD] [PAD] [PAD] [PAD] [PAD] [PAD] [PAD] [PAD] [PAD] [PAD] [PAD] [PAD] [PAD] [PAD] [PAD] [PAD] [PAD] [PAD] [PAD] [PAD] [PAD] [PAD] [PAD] [PAD] [PAD] [PAD] [PAD] [PAD] [PAD] [PAD] [PAD] [PAD] [PAD] [PAD] [PAD] [PAD] [PAD] [PAD] [PAD] [PAD] [PAD] [PAD] [PAD] [PAD] [PAD] [PAD] [PAD] [PAD] [PAD] [PAD] [PAD] [PAD] [PAD] [PAD] [PAD] [PAD] [PAD] [PAD] [PAD] [PAD] [PAD] [PAD] [PAD] [PAD] [PAD] [PAD] [PAD] [PAD] [PAD] [PAD] [PAD] [PAD] [PAD] [PAD] [PAD] [PAD] [PAD] [PAD] [PAD] [PAD] [PAD] [PAD] [PAD] [PAD] [PAD] [PAD] [PAD] [PAD] [PAD] [PAD] [PAD] [PAD] [PAD] [PAD] [PAD] [PAD] [PAD] [PAD] [PAD] [PAD] [PAD] [PAD] [PAD] [PAD] [PAD] [PAD] [PAD] [PAD] [PAD] [PAD] [PAD] [PAD] [PAD] [PAD] [PAD] [PAD] [PAD] [PAD] [PAD] [PAD] [PAD] [PAD] [PAD] [PAD] [PAD] [PAD] [PAD] [PAD] [PAD] [PAD] [PAD] [PAD] [PAD] [PAD] [PAD]'"
            ],
            "application/vnd.google.colaboratory.intrinsic+json": {
              "type": "string"
            }
          },
          "metadata": {},
          "execution_count": 6
        }
      ]
    },
    {
      "cell_type": "code",
      "source": [
        "len(inputs['input_ids'][0])"
      ],
      "metadata": {
        "colab": {
          "base_uri": "https://localhost:8080/"
        },
        "id": "31G0wC0Qvqv8",
        "outputId": "a321b9ef-5a7a-4111-946e-e74b533de691"
      },
      "execution_count": null,
      "outputs": [
        {
          "output_type": "execute_result",
          "data": {
            "text/plain": [
              "512"
            ]
          },
          "metadata": {},
          "execution_count": 7
        }
      ]
    },
    {
      "cell_type": "code",
      "source": [
        "inputs['token_type_ids'][0]"
      ],
      "metadata": {
        "colab": {
          "base_uri": "https://localhost:8080/"
        },
        "id": "NVvUuyY8vsuT",
        "outputId": "29ce34c5-fd12-4012-de31-96e364577db2"
      },
      "execution_count": null,
      "outputs": [
        {
          "output_type": "execute_result",
          "data": {
            "text/plain": [
              "tensor([0, 0, 0, 0, 0, 0, 0, 0, 0, 0, 1, 1, 1, 1, 1, 1, 1, 1, 1, 1, 1, 1, 1, 0,\n",
              "        0, 0, 0, 0, 0, 0, 0, 0, 0, 0, 0, 0, 0, 0, 0, 0, 0, 0, 0, 0, 0, 0, 0, 0,\n",
              "        0, 0, 0, 0, 0, 0, 0, 0, 0, 0, 0, 0, 0, 0, 0, 0, 0, 0, 0, 0, 0, 0, 0, 0,\n",
              "        0, 0, 0, 0, 0, 0, 0, 0, 0, 0, 0, 0, 0, 0, 0, 0, 0, 0, 0, 0, 0, 0, 0, 0,\n",
              "        0, 0, 0, 0, 0, 0, 0, 0, 0, 0, 0, 0, 0, 0, 0, 0, 0, 0, 0, 0, 0, 0, 0, 0,\n",
              "        0, 0, 0, 0, 0, 0, 0, 0, 0, 0, 0, 0, 0, 0, 0, 0, 0, 0, 0, 0, 0, 0, 0, 0,\n",
              "        0, 0, 0, 0, 0, 0, 0, 0, 0, 0, 0, 0, 0, 0, 0, 0, 0, 0, 0, 0, 0, 0, 0, 0,\n",
              "        0, 0, 0, 0, 0, 0, 0, 0, 0, 0, 0, 0, 0, 0, 0, 0, 0, 0, 0, 0, 0, 0, 0, 0,\n",
              "        0, 0, 0, 0, 0, 0, 0, 0, 0, 0, 0, 0, 0, 0, 0, 0, 0, 0, 0, 0, 0, 0, 0, 0,\n",
              "        0, 0, 0, 0, 0, 0, 0, 0, 0, 0, 0, 0, 0, 0, 0, 0, 0, 0, 0, 0, 0, 0, 0, 0,\n",
              "        0, 0, 0, 0, 0, 0, 0, 0, 0, 0, 0, 0, 0, 0, 0, 0, 0, 0, 0, 0, 0, 0, 0, 0,\n",
              "        0, 0, 0, 0, 0, 0, 0, 0, 0, 0, 0, 0, 0, 0, 0, 0, 0, 0, 0, 0, 0, 0, 0, 0,\n",
              "        0, 0, 0, 0, 0, 0, 0, 0, 0, 0, 0, 0, 0, 0, 0, 0, 0, 0, 0, 0, 0, 0, 0, 0,\n",
              "        0, 0, 0, 0, 0, 0, 0, 0, 0, 0, 0, 0, 0, 0, 0, 0, 0, 0, 0, 0, 0, 0, 0, 0,\n",
              "        0, 0, 0, 0, 0, 0, 0, 0, 0, 0, 0, 0, 0, 0, 0, 0, 0, 0, 0, 0, 0, 0, 0, 0,\n",
              "        0, 0, 0, 0, 0, 0, 0, 0, 0, 0, 0, 0, 0, 0, 0, 0, 0, 0, 0, 0, 0, 0, 0, 0,\n",
              "        0, 0, 0, 0, 0, 0, 0, 0, 0, 0, 0, 0, 0, 0, 0, 0, 0, 0, 0, 0, 0, 0, 0, 0,\n",
              "        0, 0, 0, 0, 0, 0, 0, 0, 0, 0, 0, 0, 0, 0, 0, 0, 0, 0, 0, 0, 0, 0, 0, 0,\n",
              "        0, 0, 0, 0, 0, 0, 0, 0, 0, 0, 0, 0, 0, 0, 0, 0, 0, 0, 0, 0, 0, 0, 0, 0,\n",
              "        0, 0, 0, 0, 0, 0, 0, 0, 0, 0, 0, 0, 0, 0, 0, 0, 0, 0, 0, 0, 0, 0, 0, 0,\n",
              "        0, 0, 0, 0, 0, 0, 0, 0, 0, 0, 0, 0, 0, 0, 0, 0, 0, 0, 0, 0, 0, 0, 0, 0,\n",
              "        0, 0, 0, 0, 0, 0, 0, 0])"
            ]
          },
          "metadata": {},
          "execution_count": 8
        }
      ]
    },
    {
      "cell_type": "code",
      "source": [
        "inputs['attention_mask'][0]"
      ],
      "metadata": {
        "colab": {
          "base_uri": "https://localhost:8080/"
        },
        "id": "4OjJ_DqqvvZU",
        "outputId": "ae33b26d-0805-4689-aa62-b9938f817b1c"
      },
      "execution_count": null,
      "outputs": [
        {
          "output_type": "execute_result",
          "data": {
            "text/plain": [
              "tensor([1, 1, 1, 1, 1, 1, 1, 1, 1, 1, 1, 1, 1, 1, 1, 1, 1, 1, 1, 1, 1, 1, 1, 0,\n",
              "        0, 0, 0, 0, 0, 0, 0, 0, 0, 0, 0, 0, 0, 0, 0, 0, 0, 0, 0, 0, 0, 0, 0, 0,\n",
              "        0, 0, 0, 0, 0, 0, 0, 0, 0, 0, 0, 0, 0, 0, 0, 0, 0, 0, 0, 0, 0, 0, 0, 0,\n",
              "        0, 0, 0, 0, 0, 0, 0, 0, 0, 0, 0, 0, 0, 0, 0, 0, 0, 0, 0, 0, 0, 0, 0, 0,\n",
              "        0, 0, 0, 0, 0, 0, 0, 0, 0, 0, 0, 0, 0, 0, 0, 0, 0, 0, 0, 0, 0, 0, 0, 0,\n",
              "        0, 0, 0, 0, 0, 0, 0, 0, 0, 0, 0, 0, 0, 0, 0, 0, 0, 0, 0, 0, 0, 0, 0, 0,\n",
              "        0, 0, 0, 0, 0, 0, 0, 0, 0, 0, 0, 0, 0, 0, 0, 0, 0, 0, 0, 0, 0, 0, 0, 0,\n",
              "        0, 0, 0, 0, 0, 0, 0, 0, 0, 0, 0, 0, 0, 0, 0, 0, 0, 0, 0, 0, 0, 0, 0, 0,\n",
              "        0, 0, 0, 0, 0, 0, 0, 0, 0, 0, 0, 0, 0, 0, 0, 0, 0, 0, 0, 0, 0, 0, 0, 0,\n",
              "        0, 0, 0, 0, 0, 0, 0, 0, 0, 0, 0, 0, 0, 0, 0, 0, 0, 0, 0, 0, 0, 0, 0, 0,\n",
              "        0, 0, 0, 0, 0, 0, 0, 0, 0, 0, 0, 0, 0, 0, 0, 0, 0, 0, 0, 0, 0, 0, 0, 0,\n",
              "        0, 0, 0, 0, 0, 0, 0, 0, 0, 0, 0, 0, 0, 0, 0, 0, 0, 0, 0, 0, 0, 0, 0, 0,\n",
              "        0, 0, 0, 0, 0, 0, 0, 0, 0, 0, 0, 0, 0, 0, 0, 0, 0, 0, 0, 0, 0, 0, 0, 0,\n",
              "        0, 0, 0, 0, 0, 0, 0, 0, 0, 0, 0, 0, 0, 0, 0, 0, 0, 0, 0, 0, 0, 0, 0, 0,\n",
              "        0, 0, 0, 0, 0, 0, 0, 0, 0, 0, 0, 0, 0, 0, 0, 0, 0, 0, 0, 0, 0, 0, 0, 0,\n",
              "        0, 0, 0, 0, 0, 0, 0, 0, 0, 0, 0, 0, 0, 0, 0, 0, 0, 0, 0, 0, 0, 0, 0, 0,\n",
              "        0, 0, 0, 0, 0, 0, 0, 0, 0, 0, 0, 0, 0, 0, 0, 0, 0, 0, 0, 0, 0, 0, 0, 0,\n",
              "        0, 0, 0, 0, 0, 0, 0, 0, 0, 0, 0, 0, 0, 0, 0, 0, 0, 0, 0, 0, 0, 0, 0, 0,\n",
              "        0, 0, 0, 0, 0, 0, 0, 0, 0, 0, 0, 0, 0, 0, 0, 0, 0, 0, 0, 0, 0, 0, 0, 0,\n",
              "        0, 0, 0, 0, 0, 0, 0, 0, 0, 0, 0, 0, 0, 0, 0, 0, 0, 0, 0, 0, 0, 0, 0, 0,\n",
              "        0, 0, 0, 0, 0, 0, 0, 0, 0, 0, 0, 0, 0, 0, 0, 0, 0, 0, 0, 0, 0, 0, 0, 0,\n",
              "        0, 0, 0, 0, 0, 0, 0, 0])"
            ]
          },
          "metadata": {},
          "execution_count": 9
        }
      ]
    },
    {
      "cell_type": "code",
      "source": [
        "from transformers import AutoModelForQuestionAnswering\n",
        "\n",
        "model = AutoModelForQuestionAnswering.from_pretrained(\"google-bert/bert-large-uncased-whole-word-masking-finetuned-squad\")"
      ],
      "metadata": {
        "colab": {
          "base_uri": "https://localhost:8080/",
          "height": 123,
          "referenced_widgets": [
            "20a56a9e54534a0dbca97edaffb98eb2",
            "76244815343846cb929954659f49f072",
            "90368798ffb44b0d91f3f0ff884b4072",
            "8deb1c90eeee48f384b744344ebab8a1",
            "dfbdd009cd6242b89b6ab2ccd59b4e69",
            "60f0d9befe5a4d7f85a60f93002c41cd",
            "c9295ea3c0194eb585a36e8055aa9cd3",
            "7b90ddf9d8a546939a09ce41f69d0212",
            "295c20451b0142e8af6059f01a6e2f3c",
            "267d25ff7f3c47a68043e6df516142aa",
            "1ee63dc8ad2e4c2fb97d39bcc14db4c6"
          ]
        },
        "id": "jf7hBTlnvzIC",
        "outputId": "c5e4e592-4b77-4e58-f8c3-247858f39cd3"
      },
      "execution_count": null,
      "outputs": [
        {
          "output_type": "display_data",
          "data": {
            "text/plain": [
              "model.safetensors:   0%|          | 0.00/1.34G [00:00<?, ?B/s]"
            ],
            "application/vnd.jupyter.widget-view+json": {
              "version_major": 2,
              "version_minor": 0,
              "model_id": "20a56a9e54534a0dbca97edaffb98eb2"
            }
          },
          "metadata": {}
        },
        {
          "output_type": "stream",
          "name": "stderr",
          "text": [
            "Some weights of the model checkpoint at google-bert/bert-large-uncased-whole-word-masking-finetuned-squad were not used when initializing BertForQuestionAnswering: ['bert.pooler.dense.bias', 'bert.pooler.dense.weight']\n",
            "- This IS expected if you are initializing BertForQuestionAnswering from the checkpoint of a model trained on another task or with another architecture (e.g. initializing a BertForSequenceClassification model from a BertForPreTraining model).\n",
            "- This IS NOT expected if you are initializing BertForQuestionAnswering from the checkpoint of a model that you expect to be exactly identical (initializing a BertForSequenceClassification model from a BertForSequenceClassification model).\n"
          ]
        }
      ]
    },
    {
      "cell_type": "code",
      "source": [
        "model"
      ],
      "metadata": {
        "colab": {
          "base_uri": "https://localhost:8080/"
        },
        "id": "-cqw-Ut6v61G",
        "outputId": "cbd372ec-2780-4343-f6e2-023fd0da9628"
      },
      "execution_count": null,
      "outputs": [
        {
          "output_type": "execute_result",
          "data": {
            "text/plain": [
              "BertForQuestionAnswering(\n",
              "  (bert): BertModel(\n",
              "    (embeddings): BertEmbeddings(\n",
              "      (word_embeddings): Embedding(30522, 1024, padding_idx=0)\n",
              "      (position_embeddings): Embedding(512, 1024)\n",
              "      (token_type_embeddings): Embedding(2, 1024)\n",
              "      (LayerNorm): LayerNorm((1024,), eps=1e-12, elementwise_affine=True)\n",
              "      (dropout): Dropout(p=0.1, inplace=False)\n",
              "    )\n",
              "    (encoder): BertEncoder(\n",
              "      (layer): ModuleList(\n",
              "        (0-23): 24 x BertLayer(\n",
              "          (attention): BertAttention(\n",
              "            (self): BertSdpaSelfAttention(\n",
              "              (query): Linear(in_features=1024, out_features=1024, bias=True)\n",
              "              (key): Linear(in_features=1024, out_features=1024, bias=True)\n",
              "              (value): Linear(in_features=1024, out_features=1024, bias=True)\n",
              "              (dropout): Dropout(p=0.1, inplace=False)\n",
              "            )\n",
              "            (output): BertSelfOutput(\n",
              "              (dense): Linear(in_features=1024, out_features=1024, bias=True)\n",
              "              (LayerNorm): LayerNorm((1024,), eps=1e-12, elementwise_affine=True)\n",
              "              (dropout): Dropout(p=0.1, inplace=False)\n",
              "            )\n",
              "          )\n",
              "          (intermediate): BertIntermediate(\n",
              "            (dense): Linear(in_features=1024, out_features=4096, bias=True)\n",
              "            (intermediate_act_fn): GELUActivation()\n",
              "          )\n",
              "          (output): BertOutput(\n",
              "            (dense): Linear(in_features=4096, out_features=1024, bias=True)\n",
              "            (LayerNorm): LayerNorm((1024,), eps=1e-12, elementwise_affine=True)\n",
              "            (dropout): Dropout(p=0.1, inplace=False)\n",
              "          )\n",
              "        )\n",
              "      )\n",
              "    )\n",
              "  )\n",
              "  (qa_outputs): Linear(in_features=1024, out_features=2, bias=True)\n",
              ")"
            ]
          },
          "metadata": {},
          "execution_count": 11
        }
      ]
    },
    {
      "cell_type": "code",
      "source": [
        "outputs = model(**inputs)"
      ],
      "metadata": {
        "id": "jA9cGhSEv8yo"
      },
      "execution_count": null,
      "outputs": []
    },
    {
      "cell_type": "code",
      "source": [
        "start_logits = outputs.start_logits\n",
        "end_logits = outputs.end_logits"
      ],
      "metadata": {
        "id": "GBLqporOv_yx"
      },
      "execution_count": null,
      "outputs": []
    },
    {
      "cell_type": "code",
      "source": [
        "import torch\n",
        "\n",
        "start_index = torch.argmax(start_logits)\n",
        "end_index = torch.argmax(end_logits)\n",
        "\n",
        "print(start_index, end_index)"
      ],
      "metadata": {
        "colab": {
          "base_uri": "https://localhost:8080/"
        },
        "id": "VUBEPNFAwCD6",
        "outputId": "e128ccc8-20ab-4e0b-aac6-947f319790cc"
      },
      "execution_count": null,
      "outputs": [
        {
          "output_type": "stream",
          "name": "stdout",
          "text": [
            "tensor(18) tensor(20)\n"
          ]
        }
      ]
    },
    {
      "cell_type": "code",
      "source": [
        "predict_answer_tokens = tokenizer.convert_ids_to_tokens(inputs['input_ids'][0][start_index : end_index + 1])\n",
        "print(predict_answer_tokens)\n",
        "\n",
        "tokenizer.convert_tokens_to_string(predict_answer_tokens)"
      ],
      "metadata": {
        "colab": {
          "base_uri": "https://localhost:8080/",
          "height": 54
        },
        "id": "UCqwyHaTwJgI",
        "outputId": "dd5d698c-3352-4f00-bb52-8dfd44ac9a3b"
      },
      "execution_count": null,
      "outputs": [
        {
          "output_type": "stream",
          "name": "stdout",
          "text": [
            "['paris', ',', 'france']\n"
          ]
        },
        {
          "output_type": "execute_result",
          "data": {
            "text/plain": [
              "'paris, france'"
            ],
            "application/vnd.google.colaboratory.intrinsic+json": {
              "type": "string"
            }
          },
          "metadata": {},
          "execution_count": 15
        }
      ]
    },
    {
      "cell_type": "code",
      "source": [
        "answer_tokens = inputs['input_ids'][0][start_index : end_index + 1]\n",
        "\n",
        "answer = tokenizer.decode(answer_tokens)\n",
        "print(answer)"
      ],
      "metadata": {
        "colab": {
          "base_uri": "https://localhost:8080/"
        },
        "id": "7B6j24p8wMm3",
        "outputId": "4020f811-3f61-425c-fec3-f1804cf82ec0"
      },
      "execution_count": null,
      "outputs": [
        {
          "output_type": "stream",
          "name": "stdout",
          "text": [
            "paris, france\n"
          ]
        }
      ]
    },
    {
      "cell_type": "code",
      "source": [
        "!pip install torchview\n",
        "from torchview import draw_graph\n",
        "# Assuming 'model' is your PyTorch model and 'inputs' are sample inputs\n",
        "model_graph = draw_graph(model, input_data=inputs[\"input_ids\"])\n",
        "model_graph.visual_graph"
      ],
      "metadata": {
        "colab": {
          "base_uri": "https://localhost:8080/",
          "height": 1000
        },
        "id": "t5qfhW6UPkbS",
        "outputId": "9824dbe3-95fb-4eeb-df7b-b160ffa9b0c3"
      },
      "execution_count": null,
      "outputs": [
        {
          "output_type": "stream",
          "name": "stdout",
          "text": [
            "Requirement already satisfied: torchview in /usr/local/lib/python3.11/dist-packages (0.2.7)\n",
            "Requirement already satisfied: graphviz in /usr/local/lib/python3.11/dist-packages (from torchview) (0.21)\n"
          ]
        },
        {
          "output_type": "stream",
          "name": "stderr",
          "text": [
            "We strongly recommend passing in an `attention_mask` since your input_ids may be padded. See https://huggingface.co/docs/transformers/troubleshooting#incorrect-output-when-padding-tokens-arent-masked.\n"
          ]
        },
        {
          "output_type": "execute_result",
          "data": {
            "image/svg+xml": "<?xml version=\"1.0\" encoding=\"UTF-8\" standalone=\"no\"?>\n<!DOCTYPE svg PUBLIC \"-//W3C//DTD SVG 1.1//EN\"\n \"http://www.w3.org/Graphics/SVG/1.1/DTD/svg11.dtd\">\n<!-- Generated by graphviz version 2.43.0 (0)\n -->\n<!-- Title: model Pages: 1 -->\n<svg width=\"415pt\" height=\"1728pt\"\n viewBox=\"0.00 0.00 415.31 1728.00\" xmlns=\"http://www.w3.org/2000/svg\" xmlns:xlink=\"http://www.w3.org/1999/xlink\">\n<g id=\"graph0\" class=\"graph\" transform=\"scale(0.64 0.64) rotate(0) translate(4 2688)\">\n<title>model</title>\n<polygon fill=\"white\" stroke=\"transparent\" points=\"-4,4 -4,-2688 643,-2688 643,4 -4,4\"/>\n<!-- 0 -->\n<g id=\"node1\" class=\"node\">\n<title>0</title>\n<polygon fill=\"lightyellow\" stroke=\"transparent\" points=\"287.5,-2679 145.5,-2679 145.5,-2647 287.5,-2647 287.5,-2679\"/>\n<polygon fill=\"none\" stroke=\"black\" points=\"145.5,-2647 145.5,-2679 228.5,-2679 228.5,-2647 145.5,-2647\"/>\n<text text-anchor=\"start\" x=\"150.5\" y=\"-2666\" font-family=\"Linux libertine\" font-size=\"10.00\">input&#45;tensor</text>\n<text text-anchor=\"start\" x=\"165.5\" y=\"-2655\" font-family=\"Linux libertine\" font-size=\"10.00\">depth:0</text>\n<polygon fill=\"none\" stroke=\"black\" points=\"228.5,-2647 228.5,-2679 287.5,-2679 287.5,-2647 228.5,-2647\"/>\n<text text-anchor=\"start\" x=\"233.5\" y=\"-2660.5\" font-family=\"Linux libertine\" font-size=\"10.00\">(1, 512)</text>\n</g>\n<!-- 1 -->\n<g id=\"node2\" class=\"node\">\n<title>1</title>\n<polygon fill=\"aliceblue\" stroke=\"transparent\" points=\"201,-2606 0,-2606 0,-2564 201,-2564 201,-2606\"/>\n<polygon fill=\"none\" stroke=\"black\" points=\"0.5,-2564 0.5,-2606 77.5,-2606 77.5,-2564 0.5,-2564\"/>\n<text text-anchor=\"start\" x=\"5.5\" y=\"-2588\" font-family=\"Linux libertine\" font-size=\"10.00\">__getitem__</text>\n<text text-anchor=\"start\" x=\"17.5\" y=\"-2577\" font-family=\"Linux libertine\" font-size=\"10.00\">depth:2</text>\n<polygon fill=\"none\" stroke=\"black\" points=\"77.5,-2585 77.5,-2606 136.5,-2606 136.5,-2585 77.5,-2585\"/>\n<text text-anchor=\"start\" x=\"88.5\" y=\"-2593\" font-family=\"Linux libertine\" font-size=\"10.00\">input:</text>\n<polygon fill=\"none\" stroke=\"black\" points=\"136.5,-2585 136.5,-2606 201.5,-2606 201.5,-2585 136.5,-2585\"/>\n<text text-anchor=\"start\" x=\"141.5\" y=\"-2593\" font-family=\"Linux libertine\" font-size=\"10.00\">(1, 512) </text>\n<polygon fill=\"none\" stroke=\"black\" points=\"77.5,-2564 77.5,-2585 136.5,-2585 136.5,-2564 77.5,-2564\"/>\n<text text-anchor=\"start\" x=\"82.5\" y=\"-2572\" font-family=\"Linux libertine\" font-size=\"10.00\">output: </text>\n<polygon fill=\"none\" stroke=\"black\" points=\"136.5,-2564 136.5,-2585 201.5,-2585 201.5,-2564 136.5,-2564\"/>\n<text text-anchor=\"start\" x=\"147.5\" y=\"-2572\" font-family=\"Linux libertine\" font-size=\"10.00\">(1, 2) </text>\n</g>\n<!-- 0&#45;&gt;1 -->\n<g id=\"edge1\" class=\"edge\">\n<title>0&#45;&gt;1</title>\n<path fill=\"none\" stroke=\"black\" d=\"M193.58,-2646.98C178.26,-2636.95 157.71,-2623.48 139.82,-2611.76\"/>\n<polygon fill=\"black\" stroke=\"black\" points=\"141.56,-2608.72 131.28,-2606.17 137.73,-2614.57 141.56,-2608.72\"/>\n</g>\n<!-- 2 -->\n<g id=\"node3\" class=\"node\">\n<title>2</title>\n<polygon fill=\"#c1ffc1\" stroke=\"transparent\" points=\"444,-2606 219,-2606 219,-2564 444,-2564 444,-2606\"/>\n<polygon fill=\"none\" stroke=\"black\" points=\"219.5,-2564 219.5,-2606 284.5,-2606 284.5,-2564 219.5,-2564\"/>\n<text text-anchor=\"start\" x=\"224.5\" y=\"-2588\" font-family=\"Linux libertine\" font-size=\"10.00\">Embedding</text>\n<text text-anchor=\"start\" x=\"230.5\" y=\"-2577\" font-family=\"Linux libertine\" font-size=\"10.00\">depth:3</text>\n<polygon fill=\"none\" stroke=\"black\" points=\"284.5,-2585 284.5,-2606 343.5,-2606 343.5,-2585 284.5,-2585\"/>\n<text text-anchor=\"start\" x=\"295.5\" y=\"-2593\" font-family=\"Linux libertine\" font-size=\"10.00\">input:</text>\n<polygon fill=\"none\" stroke=\"black\" points=\"343.5,-2585 343.5,-2606 444.5,-2606 444.5,-2585 343.5,-2585\"/>\n<text text-anchor=\"start\" x=\"366.5\" y=\"-2593\" font-family=\"Linux libertine\" font-size=\"10.00\">(1, 512) </text>\n<polygon fill=\"none\" stroke=\"black\" points=\"284.5,-2564 284.5,-2585 343.5,-2585 343.5,-2564 284.5,-2564\"/>\n<text text-anchor=\"start\" x=\"289.5\" y=\"-2572\" font-family=\"Linux libertine\" font-size=\"10.00\">output: </text>\n<polygon fill=\"none\" stroke=\"black\" points=\"343.5,-2564 343.5,-2585 444.5,-2585 444.5,-2564 343.5,-2564\"/>\n<text text-anchor=\"start\" x=\"348.5\" y=\"-2572\" font-family=\"Linux libertine\" font-size=\"10.00\">(1, 512, 1024) </text>\n</g>\n<!-- 0&#45;&gt;2 -->\n<g id=\"edge2\" class=\"edge\">\n<title>0&#45;&gt;2</title>\n<path fill=\"none\" stroke=\"black\" d=\"M239.22,-2646.98C254.41,-2636.95 274.78,-2623.48 292.52,-2611.76\"/>\n<polygon fill=\"black\" stroke=\"black\" points=\"294.57,-2614.6 300.99,-2606.17 290.71,-2608.76 294.57,-2614.6\"/>\n</g>\n<!-- 3 -->\n<g id=\"node4\" class=\"node\">\n<title>3</title>\n<polygon fill=\"aliceblue\" stroke=\"transparent\" points=\"438,-2528 225,-2528 225,-2486 438,-2486 438,-2528\"/>\n<polygon fill=\"none\" stroke=\"black\" points=\"225.5,-2486 225.5,-2528 278.5,-2528 278.5,-2486 225.5,-2486\"/>\n<text text-anchor=\"start\" x=\"242.5\" y=\"-2510\" font-family=\"Linux libertine\" font-size=\"10.00\">add</text>\n<text text-anchor=\"start\" x=\"230.5\" y=\"-2499\" font-family=\"Linux libertine\" font-size=\"10.00\">depth:3</text>\n<polygon fill=\"none\" stroke=\"black\" points=\"278.5,-2507 278.5,-2528 337.5,-2528 337.5,-2507 278.5,-2507\"/>\n<text text-anchor=\"start\" x=\"289.5\" y=\"-2515\" font-family=\"Linux libertine\" font-size=\"10.00\">input:</text>\n<polygon fill=\"none\" stroke=\"black\" points=\"337.5,-2507 337.5,-2528 438.5,-2528 438.5,-2507 337.5,-2507\"/>\n<text text-anchor=\"start\" x=\"342.5\" y=\"-2515\" font-family=\"Linux libertine\" font-size=\"10.00\">(1, 512, 1024) </text>\n<polygon fill=\"none\" stroke=\"black\" points=\"278.5,-2486 278.5,-2507 337.5,-2507 337.5,-2486 278.5,-2486\"/>\n<text text-anchor=\"start\" x=\"283.5\" y=\"-2494\" font-family=\"Linux libertine\" font-size=\"10.00\">output: </text>\n<polygon fill=\"none\" stroke=\"black\" points=\"337.5,-2486 337.5,-2507 438.5,-2507 438.5,-2486 337.5,-2486\"/>\n<text text-anchor=\"start\" x=\"342.5\" y=\"-2494\" font-family=\"Linux libertine\" font-size=\"10.00\">(1, 512, 1024) </text>\n</g>\n<!-- 2&#45;&gt;3 -->\n<g id=\"edge3\" class=\"edge\">\n<title>2&#45;&gt;3</title>\n<path fill=\"none\" stroke=\"black\" d=\"M331.5,-2563.63C331.5,-2555.82 331.5,-2546.73 331.5,-2538.18\"/>\n<polygon fill=\"black\" stroke=\"black\" points=\"335,-2538.16 331.5,-2528.16 328,-2538.16 335,-2538.16\"/>\n</g>\n<!-- 4 -->\n<g id=\"node5\" class=\"node\">\n<title>4</title>\n<polygon fill=\"aliceblue\" stroke=\"transparent\" points=\"438,-2450 225,-2450 225,-2408 438,-2408 438,-2450\"/>\n<polygon fill=\"none\" stroke=\"black\" points=\"225.5,-2408 225.5,-2450 278.5,-2450 278.5,-2408 225.5,-2408\"/>\n<text text-anchor=\"start\" x=\"239.5\" y=\"-2432\" font-family=\"Linux libertine\" font-size=\"10.00\">add_</text>\n<text text-anchor=\"start\" x=\"230.5\" y=\"-2421\" font-family=\"Linux libertine\" font-size=\"10.00\">depth:3</text>\n<polygon fill=\"none\" stroke=\"black\" points=\"278.5,-2429 278.5,-2450 337.5,-2450 337.5,-2429 278.5,-2429\"/>\n<text text-anchor=\"start\" x=\"289.5\" y=\"-2437\" font-family=\"Linux libertine\" font-size=\"10.00\">input:</text>\n<polygon fill=\"none\" stroke=\"black\" points=\"337.5,-2429 337.5,-2450 438.5,-2450 438.5,-2429 337.5,-2429\"/>\n<text text-anchor=\"start\" x=\"342.5\" y=\"-2437\" font-family=\"Linux libertine\" font-size=\"10.00\">(1, 512, 1024) </text>\n<polygon fill=\"none\" stroke=\"black\" points=\"278.5,-2408 278.5,-2429 337.5,-2429 337.5,-2408 278.5,-2408\"/>\n<text text-anchor=\"start\" x=\"283.5\" y=\"-2416\" font-family=\"Linux libertine\" font-size=\"10.00\">output: </text>\n<polygon fill=\"none\" stroke=\"black\" points=\"337.5,-2408 337.5,-2429 438.5,-2429 438.5,-2408 337.5,-2408\"/>\n<text text-anchor=\"start\" x=\"342.5\" y=\"-2416\" font-family=\"Linux libertine\" font-size=\"10.00\">(1, 512, 1024) </text>\n</g>\n<!-- 3&#45;&gt;4 -->\n<g id=\"edge4\" class=\"edge\">\n<title>3&#45;&gt;4</title>\n<path fill=\"none\" stroke=\"black\" d=\"M331.5,-2485.63C331.5,-2477.82 331.5,-2468.73 331.5,-2460.18\"/>\n<polygon fill=\"black\" stroke=\"black\" points=\"335,-2460.16 331.5,-2450.16 328,-2460.16 335,-2460.16\"/>\n</g>\n<!-- 5 -->\n<g id=\"node6\" class=\"node\">\n<title>5</title>\n<polygon fill=\"#c1ffc1\" stroke=\"transparent\" points=\"444,-2372 219,-2372 219,-2330 444,-2330 444,-2372\"/>\n<polygon fill=\"none\" stroke=\"black\" points=\"219.5,-2330 219.5,-2372 284.5,-2372 284.5,-2330 219.5,-2330\"/>\n<text text-anchor=\"start\" x=\"224.5\" y=\"-2354\" font-family=\"Linux libertine\" font-size=\"10.00\">LayerNorm</text>\n<text text-anchor=\"start\" x=\"230.5\" y=\"-2343\" font-family=\"Linux libertine\" font-size=\"10.00\">depth:3</text>\n<polygon fill=\"none\" stroke=\"black\" points=\"284.5,-2351 284.5,-2372 343.5,-2372 343.5,-2351 284.5,-2351\"/>\n<text text-anchor=\"start\" x=\"295.5\" y=\"-2359\" font-family=\"Linux libertine\" font-size=\"10.00\">input:</text>\n<polygon fill=\"none\" stroke=\"black\" points=\"343.5,-2351 343.5,-2372 444.5,-2372 444.5,-2351 343.5,-2351\"/>\n<text text-anchor=\"start\" x=\"348.5\" y=\"-2359\" font-family=\"Linux libertine\" font-size=\"10.00\">(1, 512, 1024) </text>\n<polygon fill=\"none\" stroke=\"black\" points=\"284.5,-2330 284.5,-2351 343.5,-2351 343.5,-2330 284.5,-2330\"/>\n<text text-anchor=\"start\" x=\"289.5\" y=\"-2338\" font-family=\"Linux libertine\" font-size=\"10.00\">output: </text>\n<polygon fill=\"none\" stroke=\"black\" points=\"343.5,-2330 343.5,-2351 444.5,-2351 444.5,-2330 343.5,-2330\"/>\n<text text-anchor=\"start\" x=\"348.5\" y=\"-2338\" font-family=\"Linux libertine\" font-size=\"10.00\">(1, 512, 1024) </text>\n</g>\n<!-- 4&#45;&gt;5 -->\n<g id=\"edge5\" class=\"edge\">\n<title>4&#45;&gt;5</title>\n<path fill=\"none\" stroke=\"black\" d=\"M331.5,-2407.63C331.5,-2399.82 331.5,-2390.73 331.5,-2382.18\"/>\n<polygon fill=\"black\" stroke=\"black\" points=\"335,-2382.16 331.5,-2372.16 328,-2382.16 335,-2382.16\"/>\n</g>\n<!-- 6 -->\n<g id=\"node7\" class=\"node\">\n<title>6</title>\n<polygon fill=\"#c1ffc1\" stroke=\"transparent\" points=\"438,-2294 225,-2294 225,-2252 438,-2252 438,-2294\"/>\n<polygon fill=\"none\" stroke=\"black\" points=\"225.5,-2252 225.5,-2294 278.5,-2294 278.5,-2252 225.5,-2252\"/>\n<text text-anchor=\"start\" x=\"230.5\" y=\"-2276\" font-family=\"Linux libertine\" font-size=\"10.00\">Dropout</text>\n<text text-anchor=\"start\" x=\"230.5\" y=\"-2265\" font-family=\"Linux libertine\" font-size=\"10.00\">depth:3</text>\n<polygon fill=\"none\" stroke=\"black\" points=\"278.5,-2273 278.5,-2294 337.5,-2294 337.5,-2273 278.5,-2273\"/>\n<text text-anchor=\"start\" x=\"289.5\" y=\"-2281\" font-family=\"Linux libertine\" font-size=\"10.00\">input:</text>\n<polygon fill=\"none\" stroke=\"black\" points=\"337.5,-2273 337.5,-2294 438.5,-2294 438.5,-2273 337.5,-2273\"/>\n<text text-anchor=\"start\" x=\"342.5\" y=\"-2281\" font-family=\"Linux libertine\" font-size=\"10.00\">(1, 512, 1024) </text>\n<polygon fill=\"none\" stroke=\"black\" points=\"278.5,-2252 278.5,-2273 337.5,-2273 337.5,-2252 278.5,-2252\"/>\n<text text-anchor=\"start\" x=\"283.5\" y=\"-2260\" font-family=\"Linux libertine\" font-size=\"10.00\">output: </text>\n<polygon fill=\"none\" stroke=\"black\" points=\"337.5,-2252 337.5,-2273 438.5,-2273 438.5,-2252 337.5,-2252\"/>\n<text text-anchor=\"start\" x=\"342.5\" y=\"-2260\" font-family=\"Linux libertine\" font-size=\"10.00\">(1, 512, 1024) </text>\n</g>\n<!-- 5&#45;&gt;6 -->\n<g id=\"edge6\" class=\"edge\">\n<title>5&#45;&gt;6</title>\n<path fill=\"none\" stroke=\"black\" d=\"M331.5,-2329.63C331.5,-2321.82 331.5,-2312.73 331.5,-2304.18\"/>\n<polygon fill=\"black\" stroke=\"black\" points=\"335,-2304.16 331.5,-2294.16 328,-2304.16 335,-2304.16\"/>\n</g>\n<!-- 9 -->\n<g id=\"node10\" class=\"node\">\n<title>9</title>\n<polygon fill=\"#c1ffc1\" stroke=\"transparent\" points=\"444,-2216 219,-2216 219,-2174 444,-2174 444,-2216\"/>\n<polygon fill=\"none\" stroke=\"black\" points=\"219.5,-2174 219.5,-2216 284.5,-2216 284.5,-2174 219.5,-2174\"/>\n<text text-anchor=\"start\" x=\"224.5\" y=\"-2198\" font-family=\"Linux libertine\" font-size=\"10.00\">BertLayer</text>\n<text text-anchor=\"start\" x=\"230.5\" y=\"-2187\" font-family=\"Linux libertine\" font-size=\"10.00\">depth:3</text>\n<polygon fill=\"none\" stroke=\"black\" points=\"284.5,-2195 284.5,-2216 343.5,-2216 343.5,-2195 284.5,-2195\"/>\n<text text-anchor=\"start\" x=\"295.5\" y=\"-2203\" font-family=\"Linux libertine\" font-size=\"10.00\">input:</text>\n<polygon fill=\"none\" stroke=\"black\" points=\"343.5,-2195 343.5,-2216 444.5,-2216 444.5,-2195 343.5,-2195\"/>\n<text text-anchor=\"start\" x=\"348.5\" y=\"-2203\" font-family=\"Linux libertine\" font-size=\"10.00\">(1, 512, 1024) </text>\n<polygon fill=\"none\" stroke=\"black\" points=\"284.5,-2174 284.5,-2195 343.5,-2195 343.5,-2174 284.5,-2174\"/>\n<text text-anchor=\"start\" x=\"289.5\" y=\"-2182\" font-family=\"Linux libertine\" font-size=\"10.00\">output: </text>\n<polygon fill=\"none\" stroke=\"black\" points=\"343.5,-2174 343.5,-2195 444.5,-2195 444.5,-2174 343.5,-2174\"/>\n<text text-anchor=\"start\" x=\"348.5\" y=\"-2182\" font-family=\"Linux libertine\" font-size=\"10.00\">(1, 512, 1024) </text>\n</g>\n<!-- 6&#45;&gt;9 -->\n<g id=\"edge8\" class=\"edge\">\n<title>6&#45;&gt;9</title>\n<path fill=\"none\" stroke=\"black\" d=\"M331.5,-2251.63C331.5,-2243.82 331.5,-2234.73 331.5,-2226.18\"/>\n<polygon fill=\"black\" stroke=\"black\" points=\"335,-2226.16 331.5,-2216.16 328,-2226.16 335,-2226.16\"/>\n</g>\n<!-- 7 -->\n<g id=\"node8\" class=\"node\">\n<title>7</title>\n<polygon fill=\"aliceblue\" stroke=\"transparent\" points=\"639,-2684 462,-2684 462,-2642 639,-2642 639,-2684\"/>\n<polygon fill=\"none\" stroke=\"black\" points=\"462.5,-2642 462.5,-2684 515.5,-2684 515.5,-2642 462.5,-2642\"/>\n<text text-anchor=\"start\" x=\"470.5\" y=\"-2666\" font-family=\"Linux libertine\" font-size=\"10.00\">__eq__</text>\n<text text-anchor=\"start\" x=\"467.5\" y=\"-2655\" font-family=\"Linux libertine\" font-size=\"10.00\">depth:2</text>\n<polygon fill=\"none\" stroke=\"black\" points=\"515.5,-2663 515.5,-2684 574.5,-2684 574.5,-2663 515.5,-2663\"/>\n<text text-anchor=\"start\" x=\"526.5\" y=\"-2671\" font-family=\"Linux libertine\" font-size=\"10.00\">input:</text>\n<polygon fill=\"none\" stroke=\"black\" points=\"574.5,-2663 574.5,-2684 639.5,-2684 639.5,-2663 574.5,-2663\"/>\n<text text-anchor=\"start\" x=\"579.5\" y=\"-2671\" font-family=\"Linux libertine\" font-size=\"10.00\">(1, 512) </text>\n<polygon fill=\"none\" stroke=\"black\" points=\"515.5,-2642 515.5,-2663 574.5,-2663 574.5,-2642 515.5,-2642\"/>\n<text text-anchor=\"start\" x=\"520.5\" y=\"-2650\" font-family=\"Linux libertine\" font-size=\"10.00\">output: </text>\n<polygon fill=\"none\" stroke=\"black\" points=\"574.5,-2642 574.5,-2663 639.5,-2663 639.5,-2642 574.5,-2642\"/>\n<text text-anchor=\"start\" x=\"579.5\" y=\"-2650\" font-family=\"Linux libertine\" font-size=\"10.00\">(1, 512) </text>\n</g>\n<!-- 8 -->\n<g id=\"node9\" class=\"node\">\n<title>8</title>\n<polygon fill=\"aliceblue\" stroke=\"transparent\" points=\"639,-2606 462,-2606 462,-2564 639,-2564 639,-2606\"/>\n<polygon fill=\"none\" stroke=\"black\" points=\"462.5,-2564 462.5,-2606 515.5,-2606 515.5,-2564 462.5,-2564\"/>\n<text text-anchor=\"start\" x=\"479.5\" y=\"-2588\" font-family=\"Linux libertine\" font-size=\"10.00\">all</text>\n<text text-anchor=\"start\" x=\"467.5\" y=\"-2577\" font-family=\"Linux libertine\" font-size=\"10.00\">depth:2</text>\n<polygon fill=\"none\" stroke=\"black\" points=\"515.5,-2585 515.5,-2606 574.5,-2606 574.5,-2585 515.5,-2585\"/>\n<text text-anchor=\"start\" x=\"526.5\" y=\"-2593\" font-family=\"Linux libertine\" font-size=\"10.00\">input:</text>\n<polygon fill=\"none\" stroke=\"black\" points=\"574.5,-2585 574.5,-2606 639.5,-2606 639.5,-2585 574.5,-2585\"/>\n<text text-anchor=\"start\" x=\"579.5\" y=\"-2593\" font-family=\"Linux libertine\" font-size=\"10.00\">(1, 512) </text>\n<polygon fill=\"none\" stroke=\"black\" points=\"515.5,-2564 515.5,-2585 574.5,-2585 574.5,-2564 515.5,-2564\"/>\n<text text-anchor=\"start\" x=\"520.5\" y=\"-2572\" font-family=\"Linux libertine\" font-size=\"10.00\">output: </text>\n<polygon fill=\"none\" stroke=\"black\" points=\"574.5,-2564 574.5,-2585 639.5,-2585 639.5,-2564 574.5,-2564\"/>\n<text text-anchor=\"start\" x=\"597.5\" y=\"-2572\" font-family=\"Linux libertine\" font-size=\"10.00\">() </text>\n</g>\n<!-- 7&#45;&gt;8 -->\n<g id=\"edge7\" class=\"edge\">\n<title>7&#45;&gt;8</title>\n<path fill=\"none\" stroke=\"black\" d=\"M550.5,-2641.63C550.5,-2633.82 550.5,-2624.73 550.5,-2616.18\"/>\n<polygon fill=\"black\" stroke=\"black\" points=\"554,-2616.16 550.5,-2606.16 547,-2616.16 554,-2616.16\"/>\n</g>\n<!-- 10 -->\n<g id=\"node11\" class=\"node\">\n<title>10</title>\n<polygon fill=\"#c1ffc1\" stroke=\"transparent\" points=\"444,-2138 219,-2138 219,-2096 444,-2096 444,-2138\"/>\n<polygon fill=\"none\" stroke=\"black\" points=\"219.5,-2096 219.5,-2138 284.5,-2138 284.5,-2096 219.5,-2096\"/>\n<text text-anchor=\"start\" x=\"224.5\" y=\"-2120\" font-family=\"Linux libertine\" font-size=\"10.00\">BertLayer</text>\n<text text-anchor=\"start\" x=\"230.5\" y=\"-2109\" font-family=\"Linux libertine\" font-size=\"10.00\">depth:3</text>\n<polygon fill=\"none\" stroke=\"black\" points=\"284.5,-2117 284.5,-2138 343.5,-2138 343.5,-2117 284.5,-2117\"/>\n<text text-anchor=\"start\" x=\"295.5\" y=\"-2125\" font-family=\"Linux libertine\" font-size=\"10.00\">input:</text>\n<polygon fill=\"none\" stroke=\"black\" points=\"343.5,-2117 343.5,-2138 444.5,-2138 444.5,-2117 343.5,-2117\"/>\n<text text-anchor=\"start\" x=\"348.5\" y=\"-2125\" font-family=\"Linux libertine\" font-size=\"10.00\">(1, 512, 1024) </text>\n<polygon fill=\"none\" stroke=\"black\" points=\"284.5,-2096 284.5,-2117 343.5,-2117 343.5,-2096 284.5,-2096\"/>\n<text text-anchor=\"start\" x=\"289.5\" y=\"-2104\" font-family=\"Linux libertine\" font-size=\"10.00\">output: </text>\n<polygon fill=\"none\" stroke=\"black\" points=\"343.5,-2096 343.5,-2117 444.5,-2117 444.5,-2096 343.5,-2096\"/>\n<text text-anchor=\"start\" x=\"348.5\" y=\"-2104\" font-family=\"Linux libertine\" font-size=\"10.00\">(1, 512, 1024) </text>\n</g>\n<!-- 9&#45;&gt;10 -->\n<g id=\"edge9\" class=\"edge\">\n<title>9&#45;&gt;10</title>\n<path fill=\"none\" stroke=\"black\" d=\"M331.5,-2173.63C331.5,-2165.82 331.5,-2156.73 331.5,-2148.18\"/>\n<polygon fill=\"black\" stroke=\"black\" points=\"335,-2148.16 331.5,-2138.16 328,-2148.16 335,-2148.16\"/>\n</g>\n<!-- 11 -->\n<g id=\"node12\" class=\"node\">\n<title>11</title>\n<polygon fill=\"#c1ffc1\" stroke=\"transparent\" points=\"444,-2060 219,-2060 219,-2018 444,-2018 444,-2060\"/>\n<polygon fill=\"none\" stroke=\"black\" points=\"219.5,-2018 219.5,-2060 284.5,-2060 284.5,-2018 219.5,-2018\"/>\n<text text-anchor=\"start\" x=\"224.5\" y=\"-2042\" font-family=\"Linux libertine\" font-size=\"10.00\">BertLayer</text>\n<text text-anchor=\"start\" x=\"230.5\" y=\"-2031\" font-family=\"Linux libertine\" font-size=\"10.00\">depth:3</text>\n<polygon fill=\"none\" stroke=\"black\" points=\"284.5,-2039 284.5,-2060 343.5,-2060 343.5,-2039 284.5,-2039\"/>\n<text text-anchor=\"start\" x=\"295.5\" y=\"-2047\" font-family=\"Linux libertine\" font-size=\"10.00\">input:</text>\n<polygon fill=\"none\" stroke=\"black\" points=\"343.5,-2039 343.5,-2060 444.5,-2060 444.5,-2039 343.5,-2039\"/>\n<text text-anchor=\"start\" x=\"348.5\" y=\"-2047\" font-family=\"Linux libertine\" font-size=\"10.00\">(1, 512, 1024) </text>\n<polygon fill=\"none\" stroke=\"black\" points=\"284.5,-2018 284.5,-2039 343.5,-2039 343.5,-2018 284.5,-2018\"/>\n<text text-anchor=\"start\" x=\"289.5\" y=\"-2026\" font-family=\"Linux libertine\" font-size=\"10.00\">output: </text>\n<polygon fill=\"none\" stroke=\"black\" points=\"343.5,-2018 343.5,-2039 444.5,-2039 444.5,-2018 343.5,-2018\"/>\n<text text-anchor=\"start\" x=\"348.5\" y=\"-2026\" font-family=\"Linux libertine\" font-size=\"10.00\">(1, 512, 1024) </text>\n</g>\n<!-- 10&#45;&gt;11 -->\n<g id=\"edge10\" class=\"edge\">\n<title>10&#45;&gt;11</title>\n<path fill=\"none\" stroke=\"black\" d=\"M331.5,-2095.63C331.5,-2087.82 331.5,-2078.73 331.5,-2070.18\"/>\n<polygon fill=\"black\" stroke=\"black\" points=\"335,-2070.16 331.5,-2060.16 328,-2070.16 335,-2070.16\"/>\n</g>\n<!-- 12 -->\n<g id=\"node13\" class=\"node\">\n<title>12</title>\n<polygon fill=\"#c1ffc1\" stroke=\"transparent\" points=\"444,-1982 219,-1982 219,-1940 444,-1940 444,-1982\"/>\n<polygon fill=\"none\" stroke=\"black\" points=\"219.5,-1940 219.5,-1982 284.5,-1982 284.5,-1940 219.5,-1940\"/>\n<text text-anchor=\"start\" x=\"224.5\" y=\"-1964\" font-family=\"Linux libertine\" font-size=\"10.00\">BertLayer</text>\n<text text-anchor=\"start\" x=\"230.5\" y=\"-1953\" font-family=\"Linux libertine\" font-size=\"10.00\">depth:3</text>\n<polygon fill=\"none\" stroke=\"black\" points=\"284.5,-1961 284.5,-1982 343.5,-1982 343.5,-1961 284.5,-1961\"/>\n<text text-anchor=\"start\" x=\"295.5\" y=\"-1969\" font-family=\"Linux libertine\" font-size=\"10.00\">input:</text>\n<polygon fill=\"none\" stroke=\"black\" points=\"343.5,-1961 343.5,-1982 444.5,-1982 444.5,-1961 343.5,-1961\"/>\n<text text-anchor=\"start\" x=\"348.5\" y=\"-1969\" font-family=\"Linux libertine\" font-size=\"10.00\">(1, 512, 1024) </text>\n<polygon fill=\"none\" stroke=\"black\" points=\"284.5,-1940 284.5,-1961 343.5,-1961 343.5,-1940 284.5,-1940\"/>\n<text text-anchor=\"start\" x=\"289.5\" y=\"-1948\" font-family=\"Linux libertine\" font-size=\"10.00\">output: </text>\n<polygon fill=\"none\" stroke=\"black\" points=\"343.5,-1940 343.5,-1961 444.5,-1961 444.5,-1940 343.5,-1940\"/>\n<text text-anchor=\"start\" x=\"348.5\" y=\"-1948\" font-family=\"Linux libertine\" font-size=\"10.00\">(1, 512, 1024) </text>\n</g>\n<!-- 11&#45;&gt;12 -->\n<g id=\"edge11\" class=\"edge\">\n<title>11&#45;&gt;12</title>\n<path fill=\"none\" stroke=\"black\" d=\"M331.5,-2017.63C331.5,-2009.82 331.5,-2000.73 331.5,-1992.18\"/>\n<polygon fill=\"black\" stroke=\"black\" points=\"335,-1992.16 331.5,-1982.16 328,-1992.16 335,-1992.16\"/>\n</g>\n<!-- 13 -->\n<g id=\"node14\" class=\"node\">\n<title>13</title>\n<polygon fill=\"#c1ffc1\" stroke=\"transparent\" points=\"444,-1904 219,-1904 219,-1862 444,-1862 444,-1904\"/>\n<polygon fill=\"none\" stroke=\"black\" points=\"219.5,-1862 219.5,-1904 284.5,-1904 284.5,-1862 219.5,-1862\"/>\n<text text-anchor=\"start\" x=\"224.5\" y=\"-1886\" font-family=\"Linux libertine\" font-size=\"10.00\">BertLayer</text>\n<text text-anchor=\"start\" x=\"230.5\" y=\"-1875\" font-family=\"Linux libertine\" font-size=\"10.00\">depth:3</text>\n<polygon fill=\"none\" stroke=\"black\" points=\"284.5,-1883 284.5,-1904 343.5,-1904 343.5,-1883 284.5,-1883\"/>\n<text text-anchor=\"start\" x=\"295.5\" y=\"-1891\" font-family=\"Linux libertine\" font-size=\"10.00\">input:</text>\n<polygon fill=\"none\" stroke=\"black\" points=\"343.5,-1883 343.5,-1904 444.5,-1904 444.5,-1883 343.5,-1883\"/>\n<text text-anchor=\"start\" x=\"348.5\" y=\"-1891\" font-family=\"Linux libertine\" font-size=\"10.00\">(1, 512, 1024) </text>\n<polygon fill=\"none\" stroke=\"black\" points=\"284.5,-1862 284.5,-1883 343.5,-1883 343.5,-1862 284.5,-1862\"/>\n<text text-anchor=\"start\" x=\"289.5\" y=\"-1870\" font-family=\"Linux libertine\" font-size=\"10.00\">output: </text>\n<polygon fill=\"none\" stroke=\"black\" points=\"343.5,-1862 343.5,-1883 444.5,-1883 444.5,-1862 343.5,-1862\"/>\n<text text-anchor=\"start\" x=\"348.5\" y=\"-1870\" font-family=\"Linux libertine\" font-size=\"10.00\">(1, 512, 1024) </text>\n</g>\n<!-- 12&#45;&gt;13 -->\n<g id=\"edge12\" class=\"edge\">\n<title>12&#45;&gt;13</title>\n<path fill=\"none\" stroke=\"black\" d=\"M331.5,-1939.63C331.5,-1931.82 331.5,-1922.73 331.5,-1914.18\"/>\n<polygon fill=\"black\" stroke=\"black\" points=\"335,-1914.16 331.5,-1904.16 328,-1914.16 335,-1914.16\"/>\n</g>\n<!-- 14 -->\n<g id=\"node15\" class=\"node\">\n<title>14</title>\n<polygon fill=\"#c1ffc1\" stroke=\"transparent\" points=\"444,-1826 219,-1826 219,-1784 444,-1784 444,-1826\"/>\n<polygon fill=\"none\" stroke=\"black\" points=\"219.5,-1784 219.5,-1826 284.5,-1826 284.5,-1784 219.5,-1784\"/>\n<text text-anchor=\"start\" x=\"224.5\" y=\"-1808\" font-family=\"Linux libertine\" font-size=\"10.00\">BertLayer</text>\n<text text-anchor=\"start\" x=\"230.5\" y=\"-1797\" font-family=\"Linux libertine\" font-size=\"10.00\">depth:3</text>\n<polygon fill=\"none\" stroke=\"black\" points=\"284.5,-1805 284.5,-1826 343.5,-1826 343.5,-1805 284.5,-1805\"/>\n<text text-anchor=\"start\" x=\"295.5\" y=\"-1813\" font-family=\"Linux libertine\" font-size=\"10.00\">input:</text>\n<polygon fill=\"none\" stroke=\"black\" points=\"343.5,-1805 343.5,-1826 444.5,-1826 444.5,-1805 343.5,-1805\"/>\n<text text-anchor=\"start\" x=\"348.5\" y=\"-1813\" font-family=\"Linux libertine\" font-size=\"10.00\">(1, 512, 1024) </text>\n<polygon fill=\"none\" stroke=\"black\" points=\"284.5,-1784 284.5,-1805 343.5,-1805 343.5,-1784 284.5,-1784\"/>\n<text text-anchor=\"start\" x=\"289.5\" y=\"-1792\" font-family=\"Linux libertine\" font-size=\"10.00\">output: </text>\n<polygon fill=\"none\" stroke=\"black\" points=\"343.5,-1784 343.5,-1805 444.5,-1805 444.5,-1784 343.5,-1784\"/>\n<text text-anchor=\"start\" x=\"348.5\" y=\"-1792\" font-family=\"Linux libertine\" font-size=\"10.00\">(1, 512, 1024) </text>\n</g>\n<!-- 13&#45;&gt;14 -->\n<g id=\"edge13\" class=\"edge\">\n<title>13&#45;&gt;14</title>\n<path fill=\"none\" stroke=\"black\" d=\"M331.5,-1861.63C331.5,-1853.82 331.5,-1844.73 331.5,-1836.18\"/>\n<polygon fill=\"black\" stroke=\"black\" points=\"335,-1836.16 331.5,-1826.16 328,-1836.16 335,-1836.16\"/>\n</g>\n<!-- 15 -->\n<g id=\"node16\" class=\"node\">\n<title>15</title>\n<polygon fill=\"#c1ffc1\" stroke=\"transparent\" points=\"444,-1748 219,-1748 219,-1706 444,-1706 444,-1748\"/>\n<polygon fill=\"none\" stroke=\"black\" points=\"219.5,-1706 219.5,-1748 284.5,-1748 284.5,-1706 219.5,-1706\"/>\n<text text-anchor=\"start\" x=\"224.5\" y=\"-1730\" font-family=\"Linux libertine\" font-size=\"10.00\">BertLayer</text>\n<text text-anchor=\"start\" x=\"230.5\" y=\"-1719\" font-family=\"Linux libertine\" font-size=\"10.00\">depth:3</text>\n<polygon fill=\"none\" stroke=\"black\" points=\"284.5,-1727 284.5,-1748 343.5,-1748 343.5,-1727 284.5,-1727\"/>\n<text text-anchor=\"start\" x=\"295.5\" y=\"-1735\" font-family=\"Linux libertine\" font-size=\"10.00\">input:</text>\n<polygon fill=\"none\" stroke=\"black\" points=\"343.5,-1727 343.5,-1748 444.5,-1748 444.5,-1727 343.5,-1727\"/>\n<text text-anchor=\"start\" x=\"348.5\" y=\"-1735\" font-family=\"Linux libertine\" font-size=\"10.00\">(1, 512, 1024) </text>\n<polygon fill=\"none\" stroke=\"black\" points=\"284.5,-1706 284.5,-1727 343.5,-1727 343.5,-1706 284.5,-1706\"/>\n<text text-anchor=\"start\" x=\"289.5\" y=\"-1714\" font-family=\"Linux libertine\" font-size=\"10.00\">output: </text>\n<polygon fill=\"none\" stroke=\"black\" points=\"343.5,-1706 343.5,-1727 444.5,-1727 444.5,-1706 343.5,-1706\"/>\n<text text-anchor=\"start\" x=\"348.5\" y=\"-1714\" font-family=\"Linux libertine\" font-size=\"10.00\">(1, 512, 1024) </text>\n</g>\n<!-- 14&#45;&gt;15 -->\n<g id=\"edge14\" class=\"edge\">\n<title>14&#45;&gt;15</title>\n<path fill=\"none\" stroke=\"black\" d=\"M331.5,-1783.63C331.5,-1775.82 331.5,-1766.73 331.5,-1758.18\"/>\n<polygon fill=\"black\" stroke=\"black\" points=\"335,-1758.16 331.5,-1748.16 328,-1758.16 335,-1758.16\"/>\n</g>\n<!-- 16 -->\n<g id=\"node17\" class=\"node\">\n<title>16</title>\n<polygon fill=\"#c1ffc1\" stroke=\"transparent\" points=\"444,-1670 219,-1670 219,-1628 444,-1628 444,-1670\"/>\n<polygon fill=\"none\" stroke=\"black\" points=\"219.5,-1628 219.5,-1670 284.5,-1670 284.5,-1628 219.5,-1628\"/>\n<text text-anchor=\"start\" x=\"224.5\" y=\"-1652\" font-family=\"Linux libertine\" font-size=\"10.00\">BertLayer</text>\n<text text-anchor=\"start\" x=\"230.5\" y=\"-1641\" font-family=\"Linux libertine\" font-size=\"10.00\">depth:3</text>\n<polygon fill=\"none\" stroke=\"black\" points=\"284.5,-1649 284.5,-1670 343.5,-1670 343.5,-1649 284.5,-1649\"/>\n<text text-anchor=\"start\" x=\"295.5\" y=\"-1657\" font-family=\"Linux libertine\" font-size=\"10.00\">input:</text>\n<polygon fill=\"none\" stroke=\"black\" points=\"343.5,-1649 343.5,-1670 444.5,-1670 444.5,-1649 343.5,-1649\"/>\n<text text-anchor=\"start\" x=\"348.5\" y=\"-1657\" font-family=\"Linux libertine\" font-size=\"10.00\">(1, 512, 1024) </text>\n<polygon fill=\"none\" stroke=\"black\" points=\"284.5,-1628 284.5,-1649 343.5,-1649 343.5,-1628 284.5,-1628\"/>\n<text text-anchor=\"start\" x=\"289.5\" y=\"-1636\" font-family=\"Linux libertine\" font-size=\"10.00\">output: </text>\n<polygon fill=\"none\" stroke=\"black\" points=\"343.5,-1628 343.5,-1649 444.5,-1649 444.5,-1628 343.5,-1628\"/>\n<text text-anchor=\"start\" x=\"348.5\" y=\"-1636\" font-family=\"Linux libertine\" font-size=\"10.00\">(1, 512, 1024) </text>\n</g>\n<!-- 15&#45;&gt;16 -->\n<g id=\"edge15\" class=\"edge\">\n<title>15&#45;&gt;16</title>\n<path fill=\"none\" stroke=\"black\" d=\"M331.5,-1705.63C331.5,-1697.82 331.5,-1688.73 331.5,-1680.18\"/>\n<polygon fill=\"black\" stroke=\"black\" points=\"335,-1680.16 331.5,-1670.16 328,-1680.16 335,-1680.16\"/>\n</g>\n<!-- 17 -->\n<g id=\"node18\" class=\"node\">\n<title>17</title>\n<polygon fill=\"#c1ffc1\" stroke=\"transparent\" points=\"444,-1592 219,-1592 219,-1550 444,-1550 444,-1592\"/>\n<polygon fill=\"none\" stroke=\"black\" points=\"219.5,-1550 219.5,-1592 284.5,-1592 284.5,-1550 219.5,-1550\"/>\n<text text-anchor=\"start\" x=\"224.5\" y=\"-1574\" font-family=\"Linux libertine\" font-size=\"10.00\">BertLayer</text>\n<text text-anchor=\"start\" x=\"230.5\" y=\"-1563\" font-family=\"Linux libertine\" font-size=\"10.00\">depth:3</text>\n<polygon fill=\"none\" stroke=\"black\" points=\"284.5,-1571 284.5,-1592 343.5,-1592 343.5,-1571 284.5,-1571\"/>\n<text text-anchor=\"start\" x=\"295.5\" y=\"-1579\" font-family=\"Linux libertine\" font-size=\"10.00\">input:</text>\n<polygon fill=\"none\" stroke=\"black\" points=\"343.5,-1571 343.5,-1592 444.5,-1592 444.5,-1571 343.5,-1571\"/>\n<text text-anchor=\"start\" x=\"348.5\" y=\"-1579\" font-family=\"Linux libertine\" font-size=\"10.00\">(1, 512, 1024) </text>\n<polygon fill=\"none\" stroke=\"black\" points=\"284.5,-1550 284.5,-1571 343.5,-1571 343.5,-1550 284.5,-1550\"/>\n<text text-anchor=\"start\" x=\"289.5\" y=\"-1558\" font-family=\"Linux libertine\" font-size=\"10.00\">output: </text>\n<polygon fill=\"none\" stroke=\"black\" points=\"343.5,-1550 343.5,-1571 444.5,-1571 444.5,-1550 343.5,-1550\"/>\n<text text-anchor=\"start\" x=\"348.5\" y=\"-1558\" font-family=\"Linux libertine\" font-size=\"10.00\">(1, 512, 1024) </text>\n</g>\n<!-- 16&#45;&gt;17 -->\n<g id=\"edge16\" class=\"edge\">\n<title>16&#45;&gt;17</title>\n<path fill=\"none\" stroke=\"black\" d=\"M331.5,-1627.63C331.5,-1619.82 331.5,-1610.73 331.5,-1602.18\"/>\n<polygon fill=\"black\" stroke=\"black\" points=\"335,-1602.16 331.5,-1592.16 328,-1602.16 335,-1602.16\"/>\n</g>\n<!-- 18 -->\n<g id=\"node19\" class=\"node\">\n<title>18</title>\n<polygon fill=\"#c1ffc1\" stroke=\"transparent\" points=\"444,-1514 219,-1514 219,-1472 444,-1472 444,-1514\"/>\n<polygon fill=\"none\" stroke=\"black\" points=\"219.5,-1472 219.5,-1514 284.5,-1514 284.5,-1472 219.5,-1472\"/>\n<text text-anchor=\"start\" x=\"224.5\" y=\"-1496\" font-family=\"Linux libertine\" font-size=\"10.00\">BertLayer</text>\n<text text-anchor=\"start\" x=\"230.5\" y=\"-1485\" font-family=\"Linux libertine\" font-size=\"10.00\">depth:3</text>\n<polygon fill=\"none\" stroke=\"black\" points=\"284.5,-1493 284.5,-1514 343.5,-1514 343.5,-1493 284.5,-1493\"/>\n<text text-anchor=\"start\" x=\"295.5\" y=\"-1501\" font-family=\"Linux libertine\" font-size=\"10.00\">input:</text>\n<polygon fill=\"none\" stroke=\"black\" points=\"343.5,-1493 343.5,-1514 444.5,-1514 444.5,-1493 343.5,-1493\"/>\n<text text-anchor=\"start\" x=\"348.5\" y=\"-1501\" font-family=\"Linux libertine\" font-size=\"10.00\">(1, 512, 1024) </text>\n<polygon fill=\"none\" stroke=\"black\" points=\"284.5,-1472 284.5,-1493 343.5,-1493 343.5,-1472 284.5,-1472\"/>\n<text text-anchor=\"start\" x=\"289.5\" y=\"-1480\" font-family=\"Linux libertine\" font-size=\"10.00\">output: </text>\n<polygon fill=\"none\" stroke=\"black\" points=\"343.5,-1472 343.5,-1493 444.5,-1493 444.5,-1472 343.5,-1472\"/>\n<text text-anchor=\"start\" x=\"348.5\" y=\"-1480\" font-family=\"Linux libertine\" font-size=\"10.00\">(1, 512, 1024) </text>\n</g>\n<!-- 17&#45;&gt;18 -->\n<g id=\"edge17\" class=\"edge\">\n<title>17&#45;&gt;18</title>\n<path fill=\"none\" stroke=\"black\" d=\"M331.5,-1549.63C331.5,-1541.82 331.5,-1532.73 331.5,-1524.18\"/>\n<polygon fill=\"black\" stroke=\"black\" points=\"335,-1524.16 331.5,-1514.16 328,-1524.16 335,-1524.16\"/>\n</g>\n<!-- 19 -->\n<g id=\"node20\" class=\"node\">\n<title>19</title>\n<polygon fill=\"#c1ffc1\" stroke=\"transparent\" points=\"444,-1436 219,-1436 219,-1394 444,-1394 444,-1436\"/>\n<polygon fill=\"none\" stroke=\"black\" points=\"219.5,-1394 219.5,-1436 284.5,-1436 284.5,-1394 219.5,-1394\"/>\n<text text-anchor=\"start\" x=\"224.5\" y=\"-1418\" font-family=\"Linux libertine\" font-size=\"10.00\">BertLayer</text>\n<text text-anchor=\"start\" x=\"230.5\" y=\"-1407\" font-family=\"Linux libertine\" font-size=\"10.00\">depth:3</text>\n<polygon fill=\"none\" stroke=\"black\" points=\"284.5,-1415 284.5,-1436 343.5,-1436 343.5,-1415 284.5,-1415\"/>\n<text text-anchor=\"start\" x=\"295.5\" y=\"-1423\" font-family=\"Linux libertine\" font-size=\"10.00\">input:</text>\n<polygon fill=\"none\" stroke=\"black\" points=\"343.5,-1415 343.5,-1436 444.5,-1436 444.5,-1415 343.5,-1415\"/>\n<text text-anchor=\"start\" x=\"348.5\" y=\"-1423\" font-family=\"Linux libertine\" font-size=\"10.00\">(1, 512, 1024) </text>\n<polygon fill=\"none\" stroke=\"black\" points=\"284.5,-1394 284.5,-1415 343.5,-1415 343.5,-1394 284.5,-1394\"/>\n<text text-anchor=\"start\" x=\"289.5\" y=\"-1402\" font-family=\"Linux libertine\" font-size=\"10.00\">output: </text>\n<polygon fill=\"none\" stroke=\"black\" points=\"343.5,-1394 343.5,-1415 444.5,-1415 444.5,-1394 343.5,-1394\"/>\n<text text-anchor=\"start\" x=\"348.5\" y=\"-1402\" font-family=\"Linux libertine\" font-size=\"10.00\">(1, 512, 1024) </text>\n</g>\n<!-- 18&#45;&gt;19 -->\n<g id=\"edge18\" class=\"edge\">\n<title>18&#45;&gt;19</title>\n<path fill=\"none\" stroke=\"black\" d=\"M331.5,-1471.63C331.5,-1463.82 331.5,-1454.73 331.5,-1446.18\"/>\n<polygon fill=\"black\" stroke=\"black\" points=\"335,-1446.16 331.5,-1436.16 328,-1446.16 335,-1446.16\"/>\n</g>\n<!-- 20 -->\n<g id=\"node21\" class=\"node\">\n<title>20</title>\n<polygon fill=\"#c1ffc1\" stroke=\"transparent\" points=\"444,-1358 219,-1358 219,-1316 444,-1316 444,-1358\"/>\n<polygon fill=\"none\" stroke=\"black\" points=\"219.5,-1316 219.5,-1358 284.5,-1358 284.5,-1316 219.5,-1316\"/>\n<text text-anchor=\"start\" x=\"224.5\" y=\"-1340\" font-family=\"Linux libertine\" font-size=\"10.00\">BertLayer</text>\n<text text-anchor=\"start\" x=\"230.5\" y=\"-1329\" font-family=\"Linux libertine\" font-size=\"10.00\">depth:3</text>\n<polygon fill=\"none\" stroke=\"black\" points=\"284.5,-1337 284.5,-1358 343.5,-1358 343.5,-1337 284.5,-1337\"/>\n<text text-anchor=\"start\" x=\"295.5\" y=\"-1345\" font-family=\"Linux libertine\" font-size=\"10.00\">input:</text>\n<polygon fill=\"none\" stroke=\"black\" points=\"343.5,-1337 343.5,-1358 444.5,-1358 444.5,-1337 343.5,-1337\"/>\n<text text-anchor=\"start\" x=\"348.5\" y=\"-1345\" font-family=\"Linux libertine\" font-size=\"10.00\">(1, 512, 1024) </text>\n<polygon fill=\"none\" stroke=\"black\" points=\"284.5,-1316 284.5,-1337 343.5,-1337 343.5,-1316 284.5,-1316\"/>\n<text text-anchor=\"start\" x=\"289.5\" y=\"-1324\" font-family=\"Linux libertine\" font-size=\"10.00\">output: </text>\n<polygon fill=\"none\" stroke=\"black\" points=\"343.5,-1316 343.5,-1337 444.5,-1337 444.5,-1316 343.5,-1316\"/>\n<text text-anchor=\"start\" x=\"348.5\" y=\"-1324\" font-family=\"Linux libertine\" font-size=\"10.00\">(1, 512, 1024) </text>\n</g>\n<!-- 19&#45;&gt;20 -->\n<g id=\"edge19\" class=\"edge\">\n<title>19&#45;&gt;20</title>\n<path fill=\"none\" stroke=\"black\" d=\"M331.5,-1393.63C331.5,-1385.82 331.5,-1376.73 331.5,-1368.18\"/>\n<polygon fill=\"black\" stroke=\"black\" points=\"335,-1368.16 331.5,-1358.16 328,-1368.16 335,-1368.16\"/>\n</g>\n<!-- 21 -->\n<g id=\"node22\" class=\"node\">\n<title>21</title>\n<polygon fill=\"#c1ffc1\" stroke=\"transparent\" points=\"444,-1280 219,-1280 219,-1238 444,-1238 444,-1280\"/>\n<polygon fill=\"none\" stroke=\"black\" points=\"219.5,-1238 219.5,-1280 284.5,-1280 284.5,-1238 219.5,-1238\"/>\n<text text-anchor=\"start\" x=\"224.5\" y=\"-1262\" font-family=\"Linux libertine\" font-size=\"10.00\">BertLayer</text>\n<text text-anchor=\"start\" x=\"230.5\" y=\"-1251\" font-family=\"Linux libertine\" font-size=\"10.00\">depth:3</text>\n<polygon fill=\"none\" stroke=\"black\" points=\"284.5,-1259 284.5,-1280 343.5,-1280 343.5,-1259 284.5,-1259\"/>\n<text text-anchor=\"start\" x=\"295.5\" y=\"-1267\" font-family=\"Linux libertine\" font-size=\"10.00\">input:</text>\n<polygon fill=\"none\" stroke=\"black\" points=\"343.5,-1259 343.5,-1280 444.5,-1280 444.5,-1259 343.5,-1259\"/>\n<text text-anchor=\"start\" x=\"348.5\" y=\"-1267\" font-family=\"Linux libertine\" font-size=\"10.00\">(1, 512, 1024) </text>\n<polygon fill=\"none\" stroke=\"black\" points=\"284.5,-1238 284.5,-1259 343.5,-1259 343.5,-1238 284.5,-1238\"/>\n<text text-anchor=\"start\" x=\"289.5\" y=\"-1246\" font-family=\"Linux libertine\" font-size=\"10.00\">output: </text>\n<polygon fill=\"none\" stroke=\"black\" points=\"343.5,-1238 343.5,-1259 444.5,-1259 444.5,-1238 343.5,-1238\"/>\n<text text-anchor=\"start\" x=\"348.5\" y=\"-1246\" font-family=\"Linux libertine\" font-size=\"10.00\">(1, 512, 1024) </text>\n</g>\n<!-- 20&#45;&gt;21 -->\n<g id=\"edge20\" class=\"edge\">\n<title>20&#45;&gt;21</title>\n<path fill=\"none\" stroke=\"black\" d=\"M331.5,-1315.63C331.5,-1307.82 331.5,-1298.73 331.5,-1290.18\"/>\n<polygon fill=\"black\" stroke=\"black\" points=\"335,-1290.16 331.5,-1280.16 328,-1290.16 335,-1290.16\"/>\n</g>\n<!-- 22 -->\n<g id=\"node23\" class=\"node\">\n<title>22</title>\n<polygon fill=\"#c1ffc1\" stroke=\"transparent\" points=\"444,-1202 219,-1202 219,-1160 444,-1160 444,-1202\"/>\n<polygon fill=\"none\" stroke=\"black\" points=\"219.5,-1160 219.5,-1202 284.5,-1202 284.5,-1160 219.5,-1160\"/>\n<text text-anchor=\"start\" x=\"224.5\" y=\"-1184\" font-family=\"Linux libertine\" font-size=\"10.00\">BertLayer</text>\n<text text-anchor=\"start\" x=\"230.5\" y=\"-1173\" font-family=\"Linux libertine\" font-size=\"10.00\">depth:3</text>\n<polygon fill=\"none\" stroke=\"black\" points=\"284.5,-1181 284.5,-1202 343.5,-1202 343.5,-1181 284.5,-1181\"/>\n<text text-anchor=\"start\" x=\"295.5\" y=\"-1189\" font-family=\"Linux libertine\" font-size=\"10.00\">input:</text>\n<polygon fill=\"none\" stroke=\"black\" points=\"343.5,-1181 343.5,-1202 444.5,-1202 444.5,-1181 343.5,-1181\"/>\n<text text-anchor=\"start\" x=\"348.5\" y=\"-1189\" font-family=\"Linux libertine\" font-size=\"10.00\">(1, 512, 1024) </text>\n<polygon fill=\"none\" stroke=\"black\" points=\"284.5,-1160 284.5,-1181 343.5,-1181 343.5,-1160 284.5,-1160\"/>\n<text text-anchor=\"start\" x=\"289.5\" y=\"-1168\" font-family=\"Linux libertine\" font-size=\"10.00\">output: </text>\n<polygon fill=\"none\" stroke=\"black\" points=\"343.5,-1160 343.5,-1181 444.5,-1181 444.5,-1160 343.5,-1160\"/>\n<text text-anchor=\"start\" x=\"348.5\" y=\"-1168\" font-family=\"Linux libertine\" font-size=\"10.00\">(1, 512, 1024) </text>\n</g>\n<!-- 21&#45;&gt;22 -->\n<g id=\"edge21\" class=\"edge\">\n<title>21&#45;&gt;22</title>\n<path fill=\"none\" stroke=\"black\" d=\"M331.5,-1237.63C331.5,-1229.82 331.5,-1220.73 331.5,-1212.18\"/>\n<polygon fill=\"black\" stroke=\"black\" points=\"335,-1212.16 331.5,-1202.16 328,-1212.16 335,-1212.16\"/>\n</g>\n<!-- 23 -->\n<g id=\"node24\" class=\"node\">\n<title>23</title>\n<polygon fill=\"#c1ffc1\" stroke=\"transparent\" points=\"444,-1124 219,-1124 219,-1082 444,-1082 444,-1124\"/>\n<polygon fill=\"none\" stroke=\"black\" points=\"219.5,-1082 219.5,-1124 284.5,-1124 284.5,-1082 219.5,-1082\"/>\n<text text-anchor=\"start\" x=\"224.5\" y=\"-1106\" font-family=\"Linux libertine\" font-size=\"10.00\">BertLayer</text>\n<text text-anchor=\"start\" x=\"230.5\" y=\"-1095\" font-family=\"Linux libertine\" font-size=\"10.00\">depth:3</text>\n<polygon fill=\"none\" stroke=\"black\" points=\"284.5,-1103 284.5,-1124 343.5,-1124 343.5,-1103 284.5,-1103\"/>\n<text text-anchor=\"start\" x=\"295.5\" y=\"-1111\" font-family=\"Linux libertine\" font-size=\"10.00\">input:</text>\n<polygon fill=\"none\" stroke=\"black\" points=\"343.5,-1103 343.5,-1124 444.5,-1124 444.5,-1103 343.5,-1103\"/>\n<text text-anchor=\"start\" x=\"348.5\" y=\"-1111\" font-family=\"Linux libertine\" font-size=\"10.00\">(1, 512, 1024) </text>\n<polygon fill=\"none\" stroke=\"black\" points=\"284.5,-1082 284.5,-1103 343.5,-1103 343.5,-1082 284.5,-1082\"/>\n<text text-anchor=\"start\" x=\"289.5\" y=\"-1090\" font-family=\"Linux libertine\" font-size=\"10.00\">output: </text>\n<polygon fill=\"none\" stroke=\"black\" points=\"343.5,-1082 343.5,-1103 444.5,-1103 444.5,-1082 343.5,-1082\"/>\n<text text-anchor=\"start\" x=\"348.5\" y=\"-1090\" font-family=\"Linux libertine\" font-size=\"10.00\">(1, 512, 1024) </text>\n</g>\n<!-- 22&#45;&gt;23 -->\n<g id=\"edge22\" class=\"edge\">\n<title>22&#45;&gt;23</title>\n<path fill=\"none\" stroke=\"black\" d=\"M331.5,-1159.63C331.5,-1151.82 331.5,-1142.73 331.5,-1134.18\"/>\n<polygon fill=\"black\" stroke=\"black\" points=\"335,-1134.16 331.5,-1124.16 328,-1134.16 335,-1134.16\"/>\n</g>\n<!-- 24 -->\n<g id=\"node25\" class=\"node\">\n<title>24</title>\n<polygon fill=\"#c1ffc1\" stroke=\"transparent\" points=\"444,-1046 219,-1046 219,-1004 444,-1004 444,-1046\"/>\n<polygon fill=\"none\" stroke=\"black\" points=\"219.5,-1004 219.5,-1046 284.5,-1046 284.5,-1004 219.5,-1004\"/>\n<text text-anchor=\"start\" x=\"224.5\" y=\"-1028\" font-family=\"Linux libertine\" font-size=\"10.00\">BertLayer</text>\n<text text-anchor=\"start\" x=\"230.5\" y=\"-1017\" font-family=\"Linux libertine\" font-size=\"10.00\">depth:3</text>\n<polygon fill=\"none\" stroke=\"black\" points=\"284.5,-1025 284.5,-1046 343.5,-1046 343.5,-1025 284.5,-1025\"/>\n<text text-anchor=\"start\" x=\"295.5\" y=\"-1033\" font-family=\"Linux libertine\" font-size=\"10.00\">input:</text>\n<polygon fill=\"none\" stroke=\"black\" points=\"343.5,-1025 343.5,-1046 444.5,-1046 444.5,-1025 343.5,-1025\"/>\n<text text-anchor=\"start\" x=\"348.5\" y=\"-1033\" font-family=\"Linux libertine\" font-size=\"10.00\">(1, 512, 1024) </text>\n<polygon fill=\"none\" stroke=\"black\" points=\"284.5,-1004 284.5,-1025 343.5,-1025 343.5,-1004 284.5,-1004\"/>\n<text text-anchor=\"start\" x=\"289.5\" y=\"-1012\" font-family=\"Linux libertine\" font-size=\"10.00\">output: </text>\n<polygon fill=\"none\" stroke=\"black\" points=\"343.5,-1004 343.5,-1025 444.5,-1025 444.5,-1004 343.5,-1004\"/>\n<text text-anchor=\"start\" x=\"348.5\" y=\"-1012\" font-family=\"Linux libertine\" font-size=\"10.00\">(1, 512, 1024) </text>\n</g>\n<!-- 23&#45;&gt;24 -->\n<g id=\"edge23\" class=\"edge\">\n<title>23&#45;&gt;24</title>\n<path fill=\"none\" stroke=\"black\" d=\"M331.5,-1081.63C331.5,-1073.82 331.5,-1064.73 331.5,-1056.18\"/>\n<polygon fill=\"black\" stroke=\"black\" points=\"335,-1056.16 331.5,-1046.16 328,-1056.16 335,-1056.16\"/>\n</g>\n<!-- 25 -->\n<g id=\"node26\" class=\"node\">\n<title>25</title>\n<polygon fill=\"#c1ffc1\" stroke=\"transparent\" points=\"444,-968 219,-968 219,-926 444,-926 444,-968\"/>\n<polygon fill=\"none\" stroke=\"black\" points=\"219.5,-926 219.5,-968 284.5,-968 284.5,-926 219.5,-926\"/>\n<text text-anchor=\"start\" x=\"224.5\" y=\"-950\" font-family=\"Linux libertine\" font-size=\"10.00\">BertLayer</text>\n<text text-anchor=\"start\" x=\"230.5\" y=\"-939\" font-family=\"Linux libertine\" font-size=\"10.00\">depth:3</text>\n<polygon fill=\"none\" stroke=\"black\" points=\"284.5,-947 284.5,-968 343.5,-968 343.5,-947 284.5,-947\"/>\n<text text-anchor=\"start\" x=\"295.5\" y=\"-955\" font-family=\"Linux libertine\" font-size=\"10.00\">input:</text>\n<polygon fill=\"none\" stroke=\"black\" points=\"343.5,-947 343.5,-968 444.5,-968 444.5,-947 343.5,-947\"/>\n<text text-anchor=\"start\" x=\"348.5\" y=\"-955\" font-family=\"Linux libertine\" font-size=\"10.00\">(1, 512, 1024) </text>\n<polygon fill=\"none\" stroke=\"black\" points=\"284.5,-926 284.5,-947 343.5,-947 343.5,-926 284.5,-926\"/>\n<text text-anchor=\"start\" x=\"289.5\" y=\"-934\" font-family=\"Linux libertine\" font-size=\"10.00\">output: </text>\n<polygon fill=\"none\" stroke=\"black\" points=\"343.5,-926 343.5,-947 444.5,-947 444.5,-926 343.5,-926\"/>\n<text text-anchor=\"start\" x=\"348.5\" y=\"-934\" font-family=\"Linux libertine\" font-size=\"10.00\">(1, 512, 1024) </text>\n</g>\n<!-- 24&#45;&gt;25 -->\n<g id=\"edge24\" class=\"edge\">\n<title>24&#45;&gt;25</title>\n<path fill=\"none\" stroke=\"black\" d=\"M331.5,-1003.63C331.5,-995.82 331.5,-986.73 331.5,-978.18\"/>\n<polygon fill=\"black\" stroke=\"black\" points=\"335,-978.16 331.5,-968.16 328,-978.16 335,-978.16\"/>\n</g>\n<!-- 26 -->\n<g id=\"node27\" class=\"node\">\n<title>26</title>\n<polygon fill=\"#c1ffc1\" stroke=\"transparent\" points=\"444,-890 219,-890 219,-848 444,-848 444,-890\"/>\n<polygon fill=\"none\" stroke=\"black\" points=\"219.5,-848 219.5,-890 284.5,-890 284.5,-848 219.5,-848\"/>\n<text text-anchor=\"start\" x=\"224.5\" y=\"-872\" font-family=\"Linux libertine\" font-size=\"10.00\">BertLayer</text>\n<text text-anchor=\"start\" x=\"230.5\" y=\"-861\" font-family=\"Linux libertine\" font-size=\"10.00\">depth:3</text>\n<polygon fill=\"none\" stroke=\"black\" points=\"284.5,-869 284.5,-890 343.5,-890 343.5,-869 284.5,-869\"/>\n<text text-anchor=\"start\" x=\"295.5\" y=\"-877\" font-family=\"Linux libertine\" font-size=\"10.00\">input:</text>\n<polygon fill=\"none\" stroke=\"black\" points=\"343.5,-869 343.5,-890 444.5,-890 444.5,-869 343.5,-869\"/>\n<text text-anchor=\"start\" x=\"348.5\" y=\"-877\" font-family=\"Linux libertine\" font-size=\"10.00\">(1, 512, 1024) </text>\n<polygon fill=\"none\" stroke=\"black\" points=\"284.5,-848 284.5,-869 343.5,-869 343.5,-848 284.5,-848\"/>\n<text text-anchor=\"start\" x=\"289.5\" y=\"-856\" font-family=\"Linux libertine\" font-size=\"10.00\">output: </text>\n<polygon fill=\"none\" stroke=\"black\" points=\"343.5,-848 343.5,-869 444.5,-869 444.5,-848 343.5,-848\"/>\n<text text-anchor=\"start\" x=\"348.5\" y=\"-856\" font-family=\"Linux libertine\" font-size=\"10.00\">(1, 512, 1024) </text>\n</g>\n<!-- 25&#45;&gt;26 -->\n<g id=\"edge25\" class=\"edge\">\n<title>25&#45;&gt;26</title>\n<path fill=\"none\" stroke=\"black\" d=\"M331.5,-925.63C331.5,-917.82 331.5,-908.73 331.5,-900.18\"/>\n<polygon fill=\"black\" stroke=\"black\" points=\"335,-900.16 331.5,-890.16 328,-900.16 335,-900.16\"/>\n</g>\n<!-- 27 -->\n<g id=\"node28\" class=\"node\">\n<title>27</title>\n<polygon fill=\"#c1ffc1\" stroke=\"transparent\" points=\"444,-812 219,-812 219,-770 444,-770 444,-812\"/>\n<polygon fill=\"none\" stroke=\"black\" points=\"219.5,-770 219.5,-812 284.5,-812 284.5,-770 219.5,-770\"/>\n<text text-anchor=\"start\" x=\"224.5\" y=\"-794\" font-family=\"Linux libertine\" font-size=\"10.00\">BertLayer</text>\n<text text-anchor=\"start\" x=\"230.5\" y=\"-783\" font-family=\"Linux libertine\" font-size=\"10.00\">depth:3</text>\n<polygon fill=\"none\" stroke=\"black\" points=\"284.5,-791 284.5,-812 343.5,-812 343.5,-791 284.5,-791\"/>\n<text text-anchor=\"start\" x=\"295.5\" y=\"-799\" font-family=\"Linux libertine\" font-size=\"10.00\">input:</text>\n<polygon fill=\"none\" stroke=\"black\" points=\"343.5,-791 343.5,-812 444.5,-812 444.5,-791 343.5,-791\"/>\n<text text-anchor=\"start\" x=\"348.5\" y=\"-799\" font-family=\"Linux libertine\" font-size=\"10.00\">(1, 512, 1024) </text>\n<polygon fill=\"none\" stroke=\"black\" points=\"284.5,-770 284.5,-791 343.5,-791 343.5,-770 284.5,-770\"/>\n<text text-anchor=\"start\" x=\"289.5\" y=\"-778\" font-family=\"Linux libertine\" font-size=\"10.00\">output: </text>\n<polygon fill=\"none\" stroke=\"black\" points=\"343.5,-770 343.5,-791 444.5,-791 444.5,-770 343.5,-770\"/>\n<text text-anchor=\"start\" x=\"348.5\" y=\"-778\" font-family=\"Linux libertine\" font-size=\"10.00\">(1, 512, 1024) </text>\n</g>\n<!-- 26&#45;&gt;27 -->\n<g id=\"edge26\" class=\"edge\">\n<title>26&#45;&gt;27</title>\n<path fill=\"none\" stroke=\"black\" d=\"M331.5,-847.63C331.5,-839.82 331.5,-830.73 331.5,-822.18\"/>\n<polygon fill=\"black\" stroke=\"black\" points=\"335,-822.16 331.5,-812.16 328,-822.16 335,-822.16\"/>\n</g>\n<!-- 28 -->\n<g id=\"node29\" class=\"node\">\n<title>28</title>\n<polygon fill=\"#c1ffc1\" stroke=\"transparent\" points=\"444,-734 219,-734 219,-692 444,-692 444,-734\"/>\n<polygon fill=\"none\" stroke=\"black\" points=\"219.5,-692 219.5,-734 284.5,-734 284.5,-692 219.5,-692\"/>\n<text text-anchor=\"start\" x=\"224.5\" y=\"-716\" font-family=\"Linux libertine\" font-size=\"10.00\">BertLayer</text>\n<text text-anchor=\"start\" x=\"230.5\" y=\"-705\" font-family=\"Linux libertine\" font-size=\"10.00\">depth:3</text>\n<polygon fill=\"none\" stroke=\"black\" points=\"284.5,-713 284.5,-734 343.5,-734 343.5,-713 284.5,-713\"/>\n<text text-anchor=\"start\" x=\"295.5\" y=\"-721\" font-family=\"Linux libertine\" font-size=\"10.00\">input:</text>\n<polygon fill=\"none\" stroke=\"black\" points=\"343.5,-713 343.5,-734 444.5,-734 444.5,-713 343.5,-713\"/>\n<text text-anchor=\"start\" x=\"348.5\" y=\"-721\" font-family=\"Linux libertine\" font-size=\"10.00\">(1, 512, 1024) </text>\n<polygon fill=\"none\" stroke=\"black\" points=\"284.5,-692 284.5,-713 343.5,-713 343.5,-692 284.5,-692\"/>\n<text text-anchor=\"start\" x=\"289.5\" y=\"-700\" font-family=\"Linux libertine\" font-size=\"10.00\">output: </text>\n<polygon fill=\"none\" stroke=\"black\" points=\"343.5,-692 343.5,-713 444.5,-713 444.5,-692 343.5,-692\"/>\n<text text-anchor=\"start\" x=\"348.5\" y=\"-700\" font-family=\"Linux libertine\" font-size=\"10.00\">(1, 512, 1024) </text>\n</g>\n<!-- 27&#45;&gt;28 -->\n<g id=\"edge27\" class=\"edge\">\n<title>27&#45;&gt;28</title>\n<path fill=\"none\" stroke=\"black\" d=\"M331.5,-769.63C331.5,-761.82 331.5,-752.73 331.5,-744.18\"/>\n<polygon fill=\"black\" stroke=\"black\" points=\"335,-744.16 331.5,-734.16 328,-744.16 335,-744.16\"/>\n</g>\n<!-- 29 -->\n<g id=\"node30\" class=\"node\">\n<title>29</title>\n<polygon fill=\"#c1ffc1\" stroke=\"transparent\" points=\"444,-656 219,-656 219,-614 444,-614 444,-656\"/>\n<polygon fill=\"none\" stroke=\"black\" points=\"219.5,-614 219.5,-656 284.5,-656 284.5,-614 219.5,-614\"/>\n<text text-anchor=\"start\" x=\"224.5\" y=\"-638\" font-family=\"Linux libertine\" font-size=\"10.00\">BertLayer</text>\n<text text-anchor=\"start\" x=\"230.5\" y=\"-627\" font-family=\"Linux libertine\" font-size=\"10.00\">depth:3</text>\n<polygon fill=\"none\" stroke=\"black\" points=\"284.5,-635 284.5,-656 343.5,-656 343.5,-635 284.5,-635\"/>\n<text text-anchor=\"start\" x=\"295.5\" y=\"-643\" font-family=\"Linux libertine\" font-size=\"10.00\">input:</text>\n<polygon fill=\"none\" stroke=\"black\" points=\"343.5,-635 343.5,-656 444.5,-656 444.5,-635 343.5,-635\"/>\n<text text-anchor=\"start\" x=\"348.5\" y=\"-643\" font-family=\"Linux libertine\" font-size=\"10.00\">(1, 512, 1024) </text>\n<polygon fill=\"none\" stroke=\"black\" points=\"284.5,-614 284.5,-635 343.5,-635 343.5,-614 284.5,-614\"/>\n<text text-anchor=\"start\" x=\"289.5\" y=\"-622\" font-family=\"Linux libertine\" font-size=\"10.00\">output: </text>\n<polygon fill=\"none\" stroke=\"black\" points=\"343.5,-614 343.5,-635 444.5,-635 444.5,-614 343.5,-614\"/>\n<text text-anchor=\"start\" x=\"348.5\" y=\"-622\" font-family=\"Linux libertine\" font-size=\"10.00\">(1, 512, 1024) </text>\n</g>\n<!-- 28&#45;&gt;29 -->\n<g id=\"edge28\" class=\"edge\">\n<title>28&#45;&gt;29</title>\n<path fill=\"none\" stroke=\"black\" d=\"M331.5,-691.63C331.5,-683.82 331.5,-674.73 331.5,-666.18\"/>\n<polygon fill=\"black\" stroke=\"black\" points=\"335,-666.16 331.5,-656.16 328,-666.16 335,-666.16\"/>\n</g>\n<!-- 30 -->\n<g id=\"node31\" class=\"node\">\n<title>30</title>\n<polygon fill=\"#c1ffc1\" stroke=\"transparent\" points=\"444,-578 219,-578 219,-536 444,-536 444,-578\"/>\n<polygon fill=\"none\" stroke=\"black\" points=\"219.5,-536 219.5,-578 284.5,-578 284.5,-536 219.5,-536\"/>\n<text text-anchor=\"start\" x=\"224.5\" y=\"-560\" font-family=\"Linux libertine\" font-size=\"10.00\">BertLayer</text>\n<text text-anchor=\"start\" x=\"230.5\" y=\"-549\" font-family=\"Linux libertine\" font-size=\"10.00\">depth:3</text>\n<polygon fill=\"none\" stroke=\"black\" points=\"284.5,-557 284.5,-578 343.5,-578 343.5,-557 284.5,-557\"/>\n<text text-anchor=\"start\" x=\"295.5\" y=\"-565\" font-family=\"Linux libertine\" font-size=\"10.00\">input:</text>\n<polygon fill=\"none\" stroke=\"black\" points=\"343.5,-557 343.5,-578 444.5,-578 444.5,-557 343.5,-557\"/>\n<text text-anchor=\"start\" x=\"348.5\" y=\"-565\" font-family=\"Linux libertine\" font-size=\"10.00\">(1, 512, 1024) </text>\n<polygon fill=\"none\" stroke=\"black\" points=\"284.5,-536 284.5,-557 343.5,-557 343.5,-536 284.5,-536\"/>\n<text text-anchor=\"start\" x=\"289.5\" y=\"-544\" font-family=\"Linux libertine\" font-size=\"10.00\">output: </text>\n<polygon fill=\"none\" stroke=\"black\" points=\"343.5,-536 343.5,-557 444.5,-557 444.5,-536 343.5,-536\"/>\n<text text-anchor=\"start\" x=\"348.5\" y=\"-544\" font-family=\"Linux libertine\" font-size=\"10.00\">(1, 512, 1024) </text>\n</g>\n<!-- 29&#45;&gt;30 -->\n<g id=\"edge29\" class=\"edge\">\n<title>29&#45;&gt;30</title>\n<path fill=\"none\" stroke=\"black\" d=\"M331.5,-613.63C331.5,-605.82 331.5,-596.73 331.5,-588.18\"/>\n<polygon fill=\"black\" stroke=\"black\" points=\"335,-588.16 331.5,-578.16 328,-588.16 335,-588.16\"/>\n</g>\n<!-- 31 -->\n<g id=\"node32\" class=\"node\">\n<title>31</title>\n<polygon fill=\"#c1ffc1\" stroke=\"transparent\" points=\"444,-500 219,-500 219,-458 444,-458 444,-500\"/>\n<polygon fill=\"none\" stroke=\"black\" points=\"219.5,-458 219.5,-500 284.5,-500 284.5,-458 219.5,-458\"/>\n<text text-anchor=\"start\" x=\"224.5\" y=\"-482\" font-family=\"Linux libertine\" font-size=\"10.00\">BertLayer</text>\n<text text-anchor=\"start\" x=\"230.5\" y=\"-471\" font-family=\"Linux libertine\" font-size=\"10.00\">depth:3</text>\n<polygon fill=\"none\" stroke=\"black\" points=\"284.5,-479 284.5,-500 343.5,-500 343.5,-479 284.5,-479\"/>\n<text text-anchor=\"start\" x=\"295.5\" y=\"-487\" font-family=\"Linux libertine\" font-size=\"10.00\">input:</text>\n<polygon fill=\"none\" stroke=\"black\" points=\"343.5,-479 343.5,-500 444.5,-500 444.5,-479 343.5,-479\"/>\n<text text-anchor=\"start\" x=\"348.5\" y=\"-487\" font-family=\"Linux libertine\" font-size=\"10.00\">(1, 512, 1024) </text>\n<polygon fill=\"none\" stroke=\"black\" points=\"284.5,-458 284.5,-479 343.5,-479 343.5,-458 284.5,-458\"/>\n<text text-anchor=\"start\" x=\"289.5\" y=\"-466\" font-family=\"Linux libertine\" font-size=\"10.00\">output: </text>\n<polygon fill=\"none\" stroke=\"black\" points=\"343.5,-458 343.5,-479 444.5,-479 444.5,-458 343.5,-458\"/>\n<text text-anchor=\"start\" x=\"348.5\" y=\"-466\" font-family=\"Linux libertine\" font-size=\"10.00\">(1, 512, 1024) </text>\n</g>\n<!-- 30&#45;&gt;31 -->\n<g id=\"edge30\" class=\"edge\">\n<title>30&#45;&gt;31</title>\n<path fill=\"none\" stroke=\"black\" d=\"M331.5,-535.63C331.5,-527.82 331.5,-518.73 331.5,-510.18\"/>\n<polygon fill=\"black\" stroke=\"black\" points=\"335,-510.16 331.5,-500.16 328,-510.16 335,-510.16\"/>\n</g>\n<!-- 32 -->\n<g id=\"node33\" class=\"node\">\n<title>32</title>\n<polygon fill=\"#c1ffc1\" stroke=\"transparent\" points=\"444,-422 219,-422 219,-380 444,-380 444,-422\"/>\n<polygon fill=\"none\" stroke=\"black\" points=\"219.5,-380 219.5,-422 284.5,-422 284.5,-380 219.5,-380\"/>\n<text text-anchor=\"start\" x=\"224.5\" y=\"-404\" font-family=\"Linux libertine\" font-size=\"10.00\">BertLayer</text>\n<text text-anchor=\"start\" x=\"230.5\" y=\"-393\" font-family=\"Linux libertine\" font-size=\"10.00\">depth:3</text>\n<polygon fill=\"none\" stroke=\"black\" points=\"284.5,-401 284.5,-422 343.5,-422 343.5,-401 284.5,-401\"/>\n<text text-anchor=\"start\" x=\"295.5\" y=\"-409\" font-family=\"Linux libertine\" font-size=\"10.00\">input:</text>\n<polygon fill=\"none\" stroke=\"black\" points=\"343.5,-401 343.5,-422 444.5,-422 444.5,-401 343.5,-401\"/>\n<text text-anchor=\"start\" x=\"348.5\" y=\"-409\" font-family=\"Linux libertine\" font-size=\"10.00\">(1, 512, 1024) </text>\n<polygon fill=\"none\" stroke=\"black\" points=\"284.5,-380 284.5,-401 343.5,-401 343.5,-380 284.5,-380\"/>\n<text text-anchor=\"start\" x=\"289.5\" y=\"-388\" font-family=\"Linux libertine\" font-size=\"10.00\">output: </text>\n<polygon fill=\"none\" stroke=\"black\" points=\"343.5,-380 343.5,-401 444.5,-401 444.5,-380 343.5,-380\"/>\n<text text-anchor=\"start\" x=\"348.5\" y=\"-388\" font-family=\"Linux libertine\" font-size=\"10.00\">(1, 512, 1024) </text>\n</g>\n<!-- 31&#45;&gt;32 -->\n<g id=\"edge31\" class=\"edge\">\n<title>31&#45;&gt;32</title>\n<path fill=\"none\" stroke=\"black\" d=\"M331.5,-457.63C331.5,-449.82 331.5,-440.73 331.5,-432.18\"/>\n<polygon fill=\"black\" stroke=\"black\" points=\"335,-432.16 331.5,-422.16 328,-432.16 335,-432.16\"/>\n</g>\n<!-- 33 -->\n<g id=\"node34\" class=\"node\">\n<title>33</title>\n<polygon fill=\"#c1ffc1\" stroke=\"transparent\" points=\"438,-344 225,-344 225,-302 438,-302 438,-344\"/>\n<polygon fill=\"none\" stroke=\"black\" points=\"225.5,-302 225.5,-344 278.5,-344 278.5,-302 225.5,-302\"/>\n<text text-anchor=\"start\" x=\"233.5\" y=\"-326\" font-family=\"Linux libertine\" font-size=\"10.00\">Linear</text>\n<text text-anchor=\"start\" x=\"230.5\" y=\"-315\" font-family=\"Linux libertine\" font-size=\"10.00\">depth:1</text>\n<polygon fill=\"none\" stroke=\"black\" points=\"278.5,-323 278.5,-344 337.5,-344 337.5,-323 278.5,-323\"/>\n<text text-anchor=\"start\" x=\"289.5\" y=\"-331\" font-family=\"Linux libertine\" font-size=\"10.00\">input:</text>\n<polygon fill=\"none\" stroke=\"black\" points=\"337.5,-323 337.5,-344 438.5,-344 438.5,-323 337.5,-323\"/>\n<text text-anchor=\"start\" x=\"342.5\" y=\"-331\" font-family=\"Linux libertine\" font-size=\"10.00\">(1, 512, 1024) </text>\n<polygon fill=\"none\" stroke=\"black\" points=\"278.5,-302 278.5,-323 337.5,-323 337.5,-302 278.5,-302\"/>\n<text text-anchor=\"start\" x=\"283.5\" y=\"-310\" font-family=\"Linux libertine\" font-size=\"10.00\">output: </text>\n<polygon fill=\"none\" stroke=\"black\" points=\"337.5,-302 337.5,-323 438.5,-323 438.5,-302 337.5,-302\"/>\n<text text-anchor=\"start\" x=\"351.5\" y=\"-310\" font-family=\"Linux libertine\" font-size=\"10.00\">(1, 512, 2) </text>\n</g>\n<!-- 32&#45;&gt;33 -->\n<g id=\"edge32\" class=\"edge\">\n<title>32&#45;&gt;33</title>\n<path fill=\"none\" stroke=\"black\" d=\"M331.5,-379.63C331.5,-371.82 331.5,-362.73 331.5,-354.18\"/>\n<polygon fill=\"black\" stroke=\"black\" points=\"335,-354.16 331.5,-344.16 328,-354.16 335,-354.16\"/>\n</g>\n<!-- 34 -->\n<g id=\"node35\" class=\"node\">\n<title>34</title>\n<polygon fill=\"aliceblue\" stroke=\"transparent\" points=\"441,-266 222,-266 222,-224 441,-224 441,-266\"/>\n<polygon fill=\"none\" stroke=\"black\" points=\"222.5,-224 222.5,-266 275.5,-266 275.5,-224 222.5,-224\"/>\n<text text-anchor=\"start\" x=\"233.5\" y=\"-248\" font-family=\"Linux libertine\" font-size=\"10.00\">split</text>\n<text text-anchor=\"start\" x=\"227.5\" y=\"-237\" font-family=\"Linux libertine\" font-size=\"10.00\">depth:1</text>\n<polygon fill=\"none\" stroke=\"black\" points=\"275.5,-245 275.5,-266 334.5,-266 334.5,-245 275.5,-245\"/>\n<text text-anchor=\"start\" x=\"286.5\" y=\"-253\" font-family=\"Linux libertine\" font-size=\"10.00\">input:</text>\n<polygon fill=\"none\" stroke=\"black\" points=\"334.5,-245 334.5,-266 441.5,-266 441.5,-245 334.5,-245\"/>\n<text text-anchor=\"start\" x=\"351.5\" y=\"-253\" font-family=\"Linux libertine\" font-size=\"10.00\">(1, 512, 2) </text>\n<polygon fill=\"none\" stroke=\"black\" points=\"275.5,-224 275.5,-245 334.5,-245 334.5,-224 275.5,-224\"/>\n<text text-anchor=\"start\" x=\"280.5\" y=\"-232\" font-family=\"Linux libertine\" font-size=\"10.00\">output: </text>\n<polygon fill=\"none\" stroke=\"black\" points=\"334.5,-224 334.5,-245 441.5,-245 441.5,-224 334.5,-224\"/>\n<text text-anchor=\"start\" x=\"339.5\" y=\"-232\" font-family=\"Linux libertine\" font-size=\"10.00\">2 x (1, 512, 1) </text>\n</g>\n<!-- 33&#45;&gt;34 -->\n<g id=\"edge33\" class=\"edge\">\n<title>33&#45;&gt;34</title>\n<path fill=\"none\" stroke=\"black\" d=\"M331.5,-301.63C331.5,-293.82 331.5,-284.73 331.5,-276.18\"/>\n<polygon fill=\"black\" stroke=\"black\" points=\"335,-276.16 331.5,-266.16 328,-276.16 335,-276.16\"/>\n</g>\n<!-- 35 -->\n<g id=\"node36\" class=\"node\">\n<title>35</title>\n<polygon fill=\"aliceblue\" stroke=\"transparent\" points=\"323,-188 128,-188 128,-146 323,-146 323,-188\"/>\n<polygon fill=\"none\" stroke=\"black\" points=\"128.5,-146 128.5,-188 181.5,-188 181.5,-146 128.5,-146\"/>\n<text text-anchor=\"start\" x=\"133.5\" y=\"-170\" font-family=\"Linux libertine\" font-size=\"10.00\">squeeze</text>\n<text text-anchor=\"start\" x=\"133.5\" y=\"-159\" font-family=\"Linux libertine\" font-size=\"10.00\">depth:1</text>\n<polygon fill=\"none\" stroke=\"black\" points=\"181.5,-167 181.5,-188 240.5,-188 240.5,-167 181.5,-167\"/>\n<text text-anchor=\"start\" x=\"192.5\" y=\"-175\" font-family=\"Linux libertine\" font-size=\"10.00\">input:</text>\n<polygon fill=\"none\" stroke=\"black\" points=\"240.5,-167 240.5,-188 323.5,-188 323.5,-167 240.5,-167\"/>\n<text text-anchor=\"start\" x=\"245.5\" y=\"-175\" font-family=\"Linux libertine\" font-size=\"10.00\">(1, 512, 1) </text>\n<polygon fill=\"none\" stroke=\"black\" points=\"181.5,-146 181.5,-167 240.5,-167 240.5,-146 181.5,-146\"/>\n<text text-anchor=\"start\" x=\"186.5\" y=\"-154\" font-family=\"Linux libertine\" font-size=\"10.00\">output: </text>\n<polygon fill=\"none\" stroke=\"black\" points=\"240.5,-146 240.5,-167 323.5,-167 323.5,-146 240.5,-146\"/>\n<text text-anchor=\"start\" x=\"254.5\" y=\"-154\" font-family=\"Linux libertine\" font-size=\"10.00\">(1, 512) </text>\n</g>\n<!-- 34&#45;&gt;35 -->\n<g id=\"edge34\" class=\"edge\">\n<title>34&#45;&gt;35</title>\n<path fill=\"none\" stroke=\"black\" d=\"M303.37,-223.83C290.67,-214.73 275.51,-203.86 261.96,-194.14\"/>\n<polygon fill=\"black\" stroke=\"black\" points=\"263.93,-191.24 253.76,-188.26 259.85,-196.93 263.93,-191.24\"/>\n</g>\n<!-- 38 -->\n<g id=\"node39\" class=\"node\">\n<title>38</title>\n<polygon fill=\"aliceblue\" stroke=\"transparent\" points=\"536,-188 341,-188 341,-146 536,-146 536,-188\"/>\n<polygon fill=\"none\" stroke=\"black\" points=\"341.5,-146 341.5,-188 394.5,-188 394.5,-146 341.5,-146\"/>\n<text text-anchor=\"start\" x=\"346.5\" y=\"-170\" font-family=\"Linux libertine\" font-size=\"10.00\">squeeze</text>\n<text text-anchor=\"start\" x=\"346.5\" y=\"-159\" font-family=\"Linux libertine\" font-size=\"10.00\">depth:1</text>\n<polygon fill=\"none\" stroke=\"black\" points=\"394.5,-167 394.5,-188 453.5,-188 453.5,-167 394.5,-167\"/>\n<text text-anchor=\"start\" x=\"405.5\" y=\"-175\" font-family=\"Linux libertine\" font-size=\"10.00\">input:</text>\n<polygon fill=\"none\" stroke=\"black\" points=\"453.5,-167 453.5,-188 536.5,-188 536.5,-167 453.5,-167\"/>\n<text text-anchor=\"start\" x=\"458.5\" y=\"-175\" font-family=\"Linux libertine\" font-size=\"10.00\">(1, 512, 1) </text>\n<polygon fill=\"none\" stroke=\"black\" points=\"394.5,-146 394.5,-167 453.5,-167 453.5,-146 394.5,-146\"/>\n<text text-anchor=\"start\" x=\"399.5\" y=\"-154\" font-family=\"Linux libertine\" font-size=\"10.00\">output: </text>\n<polygon fill=\"none\" stroke=\"black\" points=\"453.5,-146 453.5,-167 536.5,-167 536.5,-146 453.5,-146\"/>\n<text text-anchor=\"start\" x=\"467.5\" y=\"-154\" font-family=\"Linux libertine\" font-size=\"10.00\">(1, 512) </text>\n</g>\n<!-- 34&#45;&gt;38 -->\n<g id=\"edge35\" class=\"edge\">\n<title>34&#45;&gt;38</title>\n<path fill=\"none\" stroke=\"black\" d=\"M359.89,-223.83C372.71,-214.73 388.02,-203.86 401.7,-194.14\"/>\n<polygon fill=\"black\" stroke=\"black\" points=\"403.85,-196.91 409.97,-188.26 399.79,-191.2 403.85,-196.91\"/>\n</g>\n<!-- 36 -->\n<g id=\"node37\" class=\"node\">\n<title>36</title>\n<polygon fill=\"aliceblue\" stroke=\"transparent\" points=\"323,-110 128,-110 128,-68 323,-68 323,-110\"/>\n<polygon fill=\"none\" stroke=\"black\" points=\"128.5,-68 128.5,-110 199.5,-110 199.5,-68 128.5,-68\"/>\n<text text-anchor=\"start\" x=\"133.5\" y=\"-92\" font-family=\"Linux libertine\" font-size=\"10.00\">contiguous</text>\n<text text-anchor=\"start\" x=\"142.5\" y=\"-81\" font-family=\"Linux libertine\" font-size=\"10.00\">depth:1</text>\n<polygon fill=\"none\" stroke=\"black\" points=\"199.5,-89 199.5,-110 258.5,-110 258.5,-89 199.5,-89\"/>\n<text text-anchor=\"start\" x=\"210.5\" y=\"-97\" font-family=\"Linux libertine\" font-size=\"10.00\">input:</text>\n<polygon fill=\"none\" stroke=\"black\" points=\"258.5,-89 258.5,-110 323.5,-110 323.5,-89 258.5,-89\"/>\n<text text-anchor=\"start\" x=\"263.5\" y=\"-97\" font-family=\"Linux libertine\" font-size=\"10.00\">(1, 512) </text>\n<polygon fill=\"none\" stroke=\"black\" points=\"199.5,-68 199.5,-89 258.5,-89 258.5,-68 199.5,-68\"/>\n<text text-anchor=\"start\" x=\"204.5\" y=\"-76\" font-family=\"Linux libertine\" font-size=\"10.00\">output: </text>\n<polygon fill=\"none\" stroke=\"black\" points=\"258.5,-68 258.5,-89 323.5,-89 323.5,-68 258.5,-68\"/>\n<text text-anchor=\"start\" x=\"263.5\" y=\"-76\" font-family=\"Linux libertine\" font-size=\"10.00\">(1, 512) </text>\n</g>\n<!-- 35&#45;&gt;36 -->\n<g id=\"edge36\" class=\"edge\">\n<title>35&#45;&gt;36</title>\n<path fill=\"none\" stroke=\"black\" d=\"M225.5,-145.63C225.5,-137.82 225.5,-128.73 225.5,-120.18\"/>\n<polygon fill=\"black\" stroke=\"black\" points=\"229,-120.16 225.5,-110.16 222,-120.16 229,-120.16\"/>\n</g>\n<!-- 37 -->\n<g id=\"node38\" class=\"node\">\n<title>37</title>\n<polygon fill=\"lightyellow\" stroke=\"transparent\" points=\"299.5,-32 151.5,-32 151.5,0 299.5,0 299.5,-32\"/>\n<polygon fill=\"none\" stroke=\"black\" points=\"151.5,0 151.5,-32 240.5,-32 240.5,0 151.5,0\"/>\n<text text-anchor=\"start\" x=\"156.5\" y=\"-19\" font-family=\"Linux libertine\" font-size=\"10.00\">output&#45;tensor</text>\n<text text-anchor=\"start\" x=\"174.5\" y=\"-8\" font-family=\"Linux libertine\" font-size=\"10.00\">depth:0</text>\n<polygon fill=\"none\" stroke=\"black\" points=\"240.5,0 240.5,-32 299.5,-32 299.5,0 240.5,0\"/>\n<text text-anchor=\"start\" x=\"245.5\" y=\"-13.5\" font-family=\"Linux libertine\" font-size=\"10.00\">(1, 512)</text>\n</g>\n<!-- 36&#45;&gt;37 -->\n<g id=\"edge37\" class=\"edge\">\n<title>36&#45;&gt;37</title>\n<path fill=\"none\" stroke=\"black\" d=\"M225.5,-67.84C225.5,-59.89 225.5,-50.66 225.5,-42.26\"/>\n<polygon fill=\"black\" stroke=\"black\" points=\"229,-42.24 225.5,-32.24 222,-42.24 229,-42.24\"/>\n</g>\n<!-- 39 -->\n<g id=\"node40\" class=\"node\">\n<title>39</title>\n<polygon fill=\"aliceblue\" stroke=\"transparent\" points=\"536,-110 341,-110 341,-68 536,-68 536,-110\"/>\n<polygon fill=\"none\" stroke=\"black\" points=\"341.5,-68 341.5,-110 412.5,-110 412.5,-68 341.5,-68\"/>\n<text text-anchor=\"start\" x=\"346.5\" y=\"-92\" font-family=\"Linux libertine\" font-size=\"10.00\">contiguous</text>\n<text text-anchor=\"start\" x=\"355.5\" y=\"-81\" font-family=\"Linux libertine\" font-size=\"10.00\">depth:1</text>\n<polygon fill=\"none\" stroke=\"black\" points=\"412.5,-89 412.5,-110 471.5,-110 471.5,-89 412.5,-89\"/>\n<text text-anchor=\"start\" x=\"423.5\" y=\"-97\" font-family=\"Linux libertine\" font-size=\"10.00\">input:</text>\n<polygon fill=\"none\" stroke=\"black\" points=\"471.5,-89 471.5,-110 536.5,-110 536.5,-89 471.5,-89\"/>\n<text text-anchor=\"start\" x=\"476.5\" y=\"-97\" font-family=\"Linux libertine\" font-size=\"10.00\">(1, 512) </text>\n<polygon fill=\"none\" stroke=\"black\" points=\"412.5,-68 412.5,-89 471.5,-89 471.5,-68 412.5,-68\"/>\n<text text-anchor=\"start\" x=\"417.5\" y=\"-76\" font-family=\"Linux libertine\" font-size=\"10.00\">output: </text>\n<polygon fill=\"none\" stroke=\"black\" points=\"471.5,-68 471.5,-89 536.5,-89 536.5,-68 471.5,-68\"/>\n<text text-anchor=\"start\" x=\"476.5\" y=\"-76\" font-family=\"Linux libertine\" font-size=\"10.00\">(1, 512) </text>\n</g>\n<!-- 38&#45;&gt;39 -->\n<g id=\"edge38\" class=\"edge\">\n<title>38&#45;&gt;39</title>\n<path fill=\"none\" stroke=\"black\" d=\"M438.5,-145.63C438.5,-137.82 438.5,-128.73 438.5,-120.18\"/>\n<polygon fill=\"black\" stroke=\"black\" points=\"442,-120.16 438.5,-110.16 435,-120.16 442,-120.16\"/>\n</g>\n<!-- 40 -->\n<g id=\"node41\" class=\"node\">\n<title>40</title>\n<polygon fill=\"lightyellow\" stroke=\"transparent\" points=\"512.5,-32 364.5,-32 364.5,0 512.5,0 512.5,-32\"/>\n<polygon fill=\"none\" stroke=\"black\" points=\"364.5,0 364.5,-32 453.5,-32 453.5,0 364.5,0\"/>\n<text text-anchor=\"start\" x=\"369.5\" y=\"-19\" font-family=\"Linux libertine\" font-size=\"10.00\">output&#45;tensor</text>\n<text text-anchor=\"start\" x=\"387.5\" y=\"-8\" font-family=\"Linux libertine\" font-size=\"10.00\">depth:0</text>\n<polygon fill=\"none\" stroke=\"black\" points=\"453.5,0 453.5,-32 512.5,-32 512.5,0 453.5,0\"/>\n<text text-anchor=\"start\" x=\"458.5\" y=\"-13.5\" font-family=\"Linux libertine\" font-size=\"10.00\">(1, 512)</text>\n</g>\n<!-- 39&#45;&gt;40 -->\n<g id=\"edge39\" class=\"edge\">\n<title>39&#45;&gt;40</title>\n<path fill=\"none\" stroke=\"black\" d=\"M438.5,-67.84C438.5,-59.89 438.5,-50.66 438.5,-42.26\"/>\n<polygon fill=\"black\" stroke=\"black\" points=\"442,-42.24 438.5,-32.24 435,-42.24 442,-42.24\"/>\n</g>\n</g>\n</svg>\n",
            "text/plain": [
              "<graphviz.graphs.Digraph at 0x7de09fab6f50>"
            ]
          },
          "metadata": {},
          "execution_count": 17
        }
      ]
    },
    {
      "cell_type": "markdown",
      "source": [
        "# start_positions and end_positions"
      ],
      "metadata": {
        "id": "pfgxGDcWCLvk"
      }
    },
    {
      "cell_type": "code",
      "source": [
        "context = \"ISRO is headquartered in Bangalore, India.\"\n",
        "question = \"Where is ISRO headquartered?\"\n",
        "answer = \"Bangalore\"\n",
        "\n",
        "from transformers import AutoTokenizer\n",
        "\n",
        "tokenizer = AutoTokenizer.from_pretrained(\"google-bert/bert-base-uncased\")\n",
        "\n",
        "inputs = tokenizer(question, context, return_tensors=\"pt\", truncation=True, padding=\"max_length\", return_offsets_mapping=True)\n",
        "print(inputs)"
      ],
      "metadata": {
        "colab": {
          "base_uri": "https://localhost:8080/"
        },
        "id": "fXNdDwOoC89R",
        "outputId": "b5cd02a3-3d02-4f27-c8b0-4a3a5417530b"
      },
      "execution_count": null,
      "outputs": [
        {
          "output_type": "stream",
          "name": "stdout",
          "text": [
            "{'input_ids': tensor([[  101,  2073,  2003,  2003,  3217,  9403,  1029,   102,  2003,  3217,\n",
            "          2003,  9403,  1999, 14022,  1010,  2634,  1012,   102,     0,     0,\n",
            "             0,     0,     0,     0,     0,     0,     0,     0,     0,     0,\n",
            "             0,     0,     0,     0,     0,     0,     0,     0,     0,     0,\n",
            "             0,     0,     0,     0,     0,     0,     0,     0,     0,     0,\n",
            "             0,     0,     0,     0,     0,     0,     0,     0,     0,     0,\n",
            "             0,     0,     0,     0,     0,     0,     0,     0,     0,     0,\n",
            "             0,     0,     0,     0,     0,     0,     0,     0,     0,     0,\n",
            "             0,     0,     0,     0,     0,     0,     0,     0,     0,     0,\n",
            "             0,     0,     0,     0,     0,     0,     0,     0,     0,     0,\n",
            "             0,     0,     0,     0,     0,     0,     0,     0,     0,     0,\n",
            "             0,     0,     0,     0,     0,     0,     0,     0,     0,     0,\n",
            "             0,     0,     0,     0,     0,     0,     0,     0,     0,     0,\n",
            "             0,     0,     0,     0,     0,     0,     0,     0,     0,     0,\n",
            "             0,     0,     0,     0,     0,     0,     0,     0,     0,     0,\n",
            "             0,     0,     0,     0,     0,     0,     0,     0,     0,     0,\n",
            "             0,     0,     0,     0,     0,     0,     0,     0,     0,     0,\n",
            "             0,     0,     0,     0,     0,     0,     0,     0,     0,     0,\n",
            "             0,     0,     0,     0,     0,     0,     0,     0,     0,     0,\n",
            "             0,     0,     0,     0,     0,     0,     0,     0,     0,     0,\n",
            "             0,     0,     0,     0,     0,     0,     0,     0,     0,     0,\n",
            "             0,     0,     0,     0,     0,     0,     0,     0,     0,     0,\n",
            "             0,     0,     0,     0,     0,     0,     0,     0,     0,     0,\n",
            "             0,     0,     0,     0,     0,     0,     0,     0,     0,     0,\n",
            "             0,     0,     0,     0,     0,     0,     0,     0,     0,     0,\n",
            "             0,     0,     0,     0,     0,     0,     0,     0,     0,     0,\n",
            "             0,     0,     0,     0,     0,     0,     0,     0,     0,     0,\n",
            "             0,     0,     0,     0,     0,     0,     0,     0,     0,     0,\n",
            "             0,     0,     0,     0,     0,     0,     0,     0,     0,     0,\n",
            "             0,     0,     0,     0,     0,     0,     0,     0,     0,     0,\n",
            "             0,     0,     0,     0,     0,     0,     0,     0,     0,     0,\n",
            "             0,     0,     0,     0,     0,     0,     0,     0,     0,     0,\n",
            "             0,     0,     0,     0,     0,     0,     0,     0,     0,     0,\n",
            "             0,     0,     0,     0,     0,     0,     0,     0,     0,     0,\n",
            "             0,     0,     0,     0,     0,     0,     0,     0,     0,     0,\n",
            "             0,     0,     0,     0,     0,     0,     0,     0,     0,     0,\n",
            "             0,     0,     0,     0,     0,     0,     0,     0,     0,     0,\n",
            "             0,     0,     0,     0,     0,     0,     0,     0,     0,     0,\n",
            "             0,     0,     0,     0,     0,     0,     0,     0,     0,     0,\n",
            "             0,     0,     0,     0,     0,     0,     0,     0,     0,     0,\n",
            "             0,     0,     0,     0,     0,     0,     0,     0,     0,     0,\n",
            "             0,     0,     0,     0,     0,     0,     0,     0,     0,     0,\n",
            "             0,     0,     0,     0,     0,     0,     0,     0,     0,     0,\n",
            "             0,     0,     0,     0,     0,     0,     0,     0,     0,     0,\n",
            "             0,     0,     0,     0,     0,     0,     0,     0,     0,     0,\n",
            "             0,     0,     0,     0,     0,     0,     0,     0,     0,     0,\n",
            "             0,     0,     0,     0,     0,     0,     0,     0,     0,     0,\n",
            "             0,     0,     0,     0,     0,     0,     0,     0,     0,     0,\n",
            "             0,     0,     0,     0,     0,     0,     0,     0,     0,     0,\n",
            "             0,     0,     0,     0,     0,     0,     0,     0,     0,     0,\n",
            "             0,     0,     0,     0,     0,     0,     0,     0,     0,     0,\n",
            "             0,     0]]), 'token_type_ids': tensor([[0, 0, 0, 0, 0, 0, 0, 0, 1, 1, 1, 1, 1, 1, 1, 1, 1, 1, 0, 0, 0, 0, 0, 0,\n",
            "         0, 0, 0, 0, 0, 0, 0, 0, 0, 0, 0, 0, 0, 0, 0, 0, 0, 0, 0, 0, 0, 0, 0, 0,\n",
            "         0, 0, 0, 0, 0, 0, 0, 0, 0, 0, 0, 0, 0, 0, 0, 0, 0, 0, 0, 0, 0, 0, 0, 0,\n",
            "         0, 0, 0, 0, 0, 0, 0, 0, 0, 0, 0, 0, 0, 0, 0, 0, 0, 0, 0, 0, 0, 0, 0, 0,\n",
            "         0, 0, 0, 0, 0, 0, 0, 0, 0, 0, 0, 0, 0, 0, 0, 0, 0, 0, 0, 0, 0, 0, 0, 0,\n",
            "         0, 0, 0, 0, 0, 0, 0, 0, 0, 0, 0, 0, 0, 0, 0, 0, 0, 0, 0, 0, 0, 0, 0, 0,\n",
            "         0, 0, 0, 0, 0, 0, 0, 0, 0, 0, 0, 0, 0, 0, 0, 0, 0, 0, 0, 0, 0, 0, 0, 0,\n",
            "         0, 0, 0, 0, 0, 0, 0, 0, 0, 0, 0, 0, 0, 0, 0, 0, 0, 0, 0, 0, 0, 0, 0, 0,\n",
            "         0, 0, 0, 0, 0, 0, 0, 0, 0, 0, 0, 0, 0, 0, 0, 0, 0, 0, 0, 0, 0, 0, 0, 0,\n",
            "         0, 0, 0, 0, 0, 0, 0, 0, 0, 0, 0, 0, 0, 0, 0, 0, 0, 0, 0, 0, 0, 0, 0, 0,\n",
            "         0, 0, 0, 0, 0, 0, 0, 0, 0, 0, 0, 0, 0, 0, 0, 0, 0, 0, 0, 0, 0, 0, 0, 0,\n",
            "         0, 0, 0, 0, 0, 0, 0, 0, 0, 0, 0, 0, 0, 0, 0, 0, 0, 0, 0, 0, 0, 0, 0, 0,\n",
            "         0, 0, 0, 0, 0, 0, 0, 0, 0, 0, 0, 0, 0, 0, 0, 0, 0, 0, 0, 0, 0, 0, 0, 0,\n",
            "         0, 0, 0, 0, 0, 0, 0, 0, 0, 0, 0, 0, 0, 0, 0, 0, 0, 0, 0, 0, 0, 0, 0, 0,\n",
            "         0, 0, 0, 0, 0, 0, 0, 0, 0, 0, 0, 0, 0, 0, 0, 0, 0, 0, 0, 0, 0, 0, 0, 0,\n",
            "         0, 0, 0, 0, 0, 0, 0, 0, 0, 0, 0, 0, 0, 0, 0, 0, 0, 0, 0, 0, 0, 0, 0, 0,\n",
            "         0, 0, 0, 0, 0, 0, 0, 0, 0, 0, 0, 0, 0, 0, 0, 0, 0, 0, 0, 0, 0, 0, 0, 0,\n",
            "         0, 0, 0, 0, 0, 0, 0, 0, 0, 0, 0, 0, 0, 0, 0, 0, 0, 0, 0, 0, 0, 0, 0, 0,\n",
            "         0, 0, 0, 0, 0, 0, 0, 0, 0, 0, 0, 0, 0, 0, 0, 0, 0, 0, 0, 0, 0, 0, 0, 0,\n",
            "         0, 0, 0, 0, 0, 0, 0, 0, 0, 0, 0, 0, 0, 0, 0, 0, 0, 0, 0, 0, 0, 0, 0, 0,\n",
            "         0, 0, 0, 0, 0, 0, 0, 0, 0, 0, 0, 0, 0, 0, 0, 0, 0, 0, 0, 0, 0, 0, 0, 0,\n",
            "         0, 0, 0, 0, 0, 0, 0, 0]]), 'attention_mask': tensor([[1, 1, 1, 1, 1, 1, 1, 1, 1, 1, 1, 1, 1, 1, 1, 1, 1, 1, 0, 0, 0, 0, 0, 0,\n",
            "         0, 0, 0, 0, 0, 0, 0, 0, 0, 0, 0, 0, 0, 0, 0, 0, 0, 0, 0, 0, 0, 0, 0, 0,\n",
            "         0, 0, 0, 0, 0, 0, 0, 0, 0, 0, 0, 0, 0, 0, 0, 0, 0, 0, 0, 0, 0, 0, 0, 0,\n",
            "         0, 0, 0, 0, 0, 0, 0, 0, 0, 0, 0, 0, 0, 0, 0, 0, 0, 0, 0, 0, 0, 0, 0, 0,\n",
            "         0, 0, 0, 0, 0, 0, 0, 0, 0, 0, 0, 0, 0, 0, 0, 0, 0, 0, 0, 0, 0, 0, 0, 0,\n",
            "         0, 0, 0, 0, 0, 0, 0, 0, 0, 0, 0, 0, 0, 0, 0, 0, 0, 0, 0, 0, 0, 0, 0, 0,\n",
            "         0, 0, 0, 0, 0, 0, 0, 0, 0, 0, 0, 0, 0, 0, 0, 0, 0, 0, 0, 0, 0, 0, 0, 0,\n",
            "         0, 0, 0, 0, 0, 0, 0, 0, 0, 0, 0, 0, 0, 0, 0, 0, 0, 0, 0, 0, 0, 0, 0, 0,\n",
            "         0, 0, 0, 0, 0, 0, 0, 0, 0, 0, 0, 0, 0, 0, 0, 0, 0, 0, 0, 0, 0, 0, 0, 0,\n",
            "         0, 0, 0, 0, 0, 0, 0, 0, 0, 0, 0, 0, 0, 0, 0, 0, 0, 0, 0, 0, 0, 0, 0, 0,\n",
            "         0, 0, 0, 0, 0, 0, 0, 0, 0, 0, 0, 0, 0, 0, 0, 0, 0, 0, 0, 0, 0, 0, 0, 0,\n",
            "         0, 0, 0, 0, 0, 0, 0, 0, 0, 0, 0, 0, 0, 0, 0, 0, 0, 0, 0, 0, 0, 0, 0, 0,\n",
            "         0, 0, 0, 0, 0, 0, 0, 0, 0, 0, 0, 0, 0, 0, 0, 0, 0, 0, 0, 0, 0, 0, 0, 0,\n",
            "         0, 0, 0, 0, 0, 0, 0, 0, 0, 0, 0, 0, 0, 0, 0, 0, 0, 0, 0, 0, 0, 0, 0, 0,\n",
            "         0, 0, 0, 0, 0, 0, 0, 0, 0, 0, 0, 0, 0, 0, 0, 0, 0, 0, 0, 0, 0, 0, 0, 0,\n",
            "         0, 0, 0, 0, 0, 0, 0, 0, 0, 0, 0, 0, 0, 0, 0, 0, 0, 0, 0, 0, 0, 0, 0, 0,\n",
            "         0, 0, 0, 0, 0, 0, 0, 0, 0, 0, 0, 0, 0, 0, 0, 0, 0, 0, 0, 0, 0, 0, 0, 0,\n",
            "         0, 0, 0, 0, 0, 0, 0, 0, 0, 0, 0, 0, 0, 0, 0, 0, 0, 0, 0, 0, 0, 0, 0, 0,\n",
            "         0, 0, 0, 0, 0, 0, 0, 0, 0, 0, 0, 0, 0, 0, 0, 0, 0, 0, 0, 0, 0, 0, 0, 0,\n",
            "         0, 0, 0, 0, 0, 0, 0, 0, 0, 0, 0, 0, 0, 0, 0, 0, 0, 0, 0, 0, 0, 0, 0, 0,\n",
            "         0, 0, 0, 0, 0, 0, 0, 0, 0, 0, 0, 0, 0, 0, 0, 0, 0, 0, 0, 0, 0, 0, 0, 0,\n",
            "         0, 0, 0, 0, 0, 0, 0, 0]]), 'offset_mapping': tensor([[[0, 0],\n",
            "         [0, 5],\n",
            "         [6, 8],\n",
            "         ...,\n",
            "         [0, 0],\n",
            "         [0, 0],\n",
            "         [0, 0]]])}\n"
          ]
        }
      ]
    },
    {
      "cell_type": "code",
      "source": [
        "tokens = tokenizer.convert_ids_to_tokens(inputs[\"input_ids\"][0])\n",
        "offsets = inputs[\"offset_mapping\"]"
      ],
      "metadata": {
        "id": "hmE5WTNKOJMJ"
      },
      "execution_count": null,
      "outputs": []
    },
    {
      "cell_type": "code",
      "source": [
        "offsets"
      ],
      "metadata": {
        "colab": {
          "base_uri": "https://localhost:8080/"
        },
        "id": "fZ1buCP7YkY3",
        "outputId": "bde0d23c-8504-47d3-e5fa-3d9b733727e8"
      },
      "execution_count": null,
      "outputs": [
        {
          "output_type": "execute_result",
          "data": {
            "text/plain": [
              "tensor([[[0, 0],\n",
              "         [0, 5],\n",
              "         [6, 8],\n",
              "         ...,\n",
              "         [0, 0],\n",
              "         [0, 0],\n",
              "         [0, 0]]])"
            ]
          },
          "metadata": {},
          "execution_count": 34
        }
      ]
    },
    {
      "cell_type": "code",
      "source": [
        "question = \"Where is ISRO headquartered?\""
      ],
      "metadata": {
        "id": "jq7DH0MwYuJC"
      },
      "execution_count": null,
      "outputs": []
    },
    {
      "cell_type": "code",
      "source": [
        "tokens"
      ],
      "metadata": {
        "colab": {
          "base_uri": "https://localhost:8080/"
        },
        "id": "ig3Oe1xCOyZs",
        "outputId": "52d923d4-82ab-4edb-9a6d-81dcbb424ca6"
      },
      "execution_count": null,
      "outputs": [
        {
          "output_type": "execute_result",
          "data": {
            "text/plain": [
              "['[CLS]',\n",
              " 'where',\n",
              " 'is',\n",
              " 'is',\n",
              " '##ro',\n",
              " 'headquartered',\n",
              " '?',\n",
              " '[SEP]',\n",
              " 'is',\n",
              " '##ro',\n",
              " 'is',\n",
              " 'headquartered',\n",
              " 'in',\n",
              " 'bangalore',\n",
              " ',',\n",
              " 'india',\n",
              " '.',\n",
              " '[SEP]',\n",
              " '[PAD]',\n",
              " '[PAD]',\n",
              " '[PAD]',\n",
              " '[PAD]',\n",
              " '[PAD]',\n",
              " '[PAD]',\n",
              " '[PAD]',\n",
              " '[PAD]',\n",
              " '[PAD]',\n",
              " '[PAD]',\n",
              " '[PAD]',\n",
              " '[PAD]',\n",
              " '[PAD]',\n",
              " '[PAD]',\n",
              " '[PAD]',\n",
              " '[PAD]',\n",
              " '[PAD]',\n",
              " '[PAD]',\n",
              " '[PAD]',\n",
              " '[PAD]',\n",
              " '[PAD]',\n",
              " '[PAD]',\n",
              " '[PAD]',\n",
              " '[PAD]',\n",
              " '[PAD]',\n",
              " '[PAD]',\n",
              " '[PAD]',\n",
              " '[PAD]',\n",
              " '[PAD]',\n",
              " '[PAD]',\n",
              " '[PAD]',\n",
              " '[PAD]',\n",
              " '[PAD]',\n",
              " '[PAD]',\n",
              " '[PAD]',\n",
              " '[PAD]',\n",
              " '[PAD]',\n",
              " '[PAD]',\n",
              " '[PAD]',\n",
              " '[PAD]',\n",
              " '[PAD]',\n",
              " '[PAD]',\n",
              " '[PAD]',\n",
              " '[PAD]',\n",
              " '[PAD]',\n",
              " '[PAD]',\n",
              " '[PAD]',\n",
              " '[PAD]',\n",
              " '[PAD]',\n",
              " '[PAD]',\n",
              " '[PAD]',\n",
              " '[PAD]',\n",
              " '[PAD]',\n",
              " '[PAD]',\n",
              " '[PAD]',\n",
              " '[PAD]',\n",
              " '[PAD]',\n",
              " '[PAD]',\n",
              " '[PAD]',\n",
              " '[PAD]',\n",
              " '[PAD]',\n",
              " '[PAD]',\n",
              " '[PAD]',\n",
              " '[PAD]',\n",
              " '[PAD]',\n",
              " '[PAD]',\n",
              " '[PAD]',\n",
              " '[PAD]',\n",
              " '[PAD]',\n",
              " '[PAD]',\n",
              " '[PAD]',\n",
              " '[PAD]',\n",
              " '[PAD]',\n",
              " '[PAD]',\n",
              " '[PAD]',\n",
              " '[PAD]',\n",
              " '[PAD]',\n",
              " '[PAD]',\n",
              " '[PAD]',\n",
              " '[PAD]',\n",
              " '[PAD]',\n",
              " '[PAD]',\n",
              " '[PAD]',\n",
              " '[PAD]',\n",
              " '[PAD]',\n",
              " '[PAD]',\n",
              " '[PAD]',\n",
              " '[PAD]',\n",
              " '[PAD]',\n",
              " '[PAD]',\n",
              " '[PAD]',\n",
              " '[PAD]',\n",
              " '[PAD]',\n",
              " '[PAD]',\n",
              " '[PAD]',\n",
              " '[PAD]',\n",
              " '[PAD]',\n",
              " '[PAD]',\n",
              " '[PAD]',\n",
              " '[PAD]',\n",
              " '[PAD]',\n",
              " '[PAD]',\n",
              " '[PAD]',\n",
              " '[PAD]',\n",
              " '[PAD]',\n",
              " '[PAD]',\n",
              " '[PAD]',\n",
              " '[PAD]',\n",
              " '[PAD]',\n",
              " '[PAD]',\n",
              " '[PAD]',\n",
              " '[PAD]',\n",
              " '[PAD]',\n",
              " '[PAD]',\n",
              " '[PAD]',\n",
              " '[PAD]',\n",
              " '[PAD]',\n",
              " '[PAD]',\n",
              " '[PAD]',\n",
              " '[PAD]',\n",
              " '[PAD]',\n",
              " '[PAD]',\n",
              " '[PAD]',\n",
              " '[PAD]',\n",
              " '[PAD]',\n",
              " '[PAD]',\n",
              " '[PAD]',\n",
              " '[PAD]',\n",
              " '[PAD]',\n",
              " '[PAD]',\n",
              " '[PAD]',\n",
              " '[PAD]',\n",
              " '[PAD]',\n",
              " '[PAD]',\n",
              " '[PAD]',\n",
              " '[PAD]',\n",
              " '[PAD]',\n",
              " '[PAD]',\n",
              " '[PAD]',\n",
              " '[PAD]',\n",
              " '[PAD]',\n",
              " '[PAD]',\n",
              " '[PAD]',\n",
              " '[PAD]',\n",
              " '[PAD]',\n",
              " '[PAD]',\n",
              " '[PAD]',\n",
              " '[PAD]',\n",
              " '[PAD]',\n",
              " '[PAD]',\n",
              " '[PAD]',\n",
              " '[PAD]',\n",
              " '[PAD]',\n",
              " '[PAD]',\n",
              " '[PAD]',\n",
              " '[PAD]',\n",
              " '[PAD]',\n",
              " '[PAD]',\n",
              " '[PAD]',\n",
              " '[PAD]',\n",
              " '[PAD]',\n",
              " '[PAD]',\n",
              " '[PAD]',\n",
              " '[PAD]',\n",
              " '[PAD]',\n",
              " '[PAD]',\n",
              " '[PAD]',\n",
              " '[PAD]',\n",
              " '[PAD]',\n",
              " '[PAD]',\n",
              " '[PAD]',\n",
              " '[PAD]',\n",
              " '[PAD]',\n",
              " '[PAD]',\n",
              " '[PAD]',\n",
              " '[PAD]',\n",
              " '[PAD]',\n",
              " '[PAD]',\n",
              " '[PAD]',\n",
              " '[PAD]',\n",
              " '[PAD]',\n",
              " '[PAD]',\n",
              " '[PAD]',\n",
              " '[PAD]',\n",
              " '[PAD]',\n",
              " '[PAD]',\n",
              " '[PAD]',\n",
              " '[PAD]',\n",
              " '[PAD]',\n",
              " '[PAD]',\n",
              " '[PAD]',\n",
              " '[PAD]',\n",
              " '[PAD]',\n",
              " '[PAD]',\n",
              " '[PAD]',\n",
              " '[PAD]',\n",
              " '[PAD]',\n",
              " '[PAD]',\n",
              " '[PAD]',\n",
              " '[PAD]',\n",
              " '[PAD]',\n",
              " '[PAD]',\n",
              " '[PAD]',\n",
              " '[PAD]',\n",
              " '[PAD]',\n",
              " '[PAD]',\n",
              " '[PAD]',\n",
              " '[PAD]',\n",
              " '[PAD]',\n",
              " '[PAD]',\n",
              " '[PAD]',\n",
              " '[PAD]',\n",
              " '[PAD]',\n",
              " '[PAD]',\n",
              " '[PAD]',\n",
              " '[PAD]',\n",
              " '[PAD]',\n",
              " '[PAD]',\n",
              " '[PAD]',\n",
              " '[PAD]',\n",
              " '[PAD]',\n",
              " '[PAD]',\n",
              " '[PAD]',\n",
              " '[PAD]',\n",
              " '[PAD]',\n",
              " '[PAD]',\n",
              " '[PAD]',\n",
              " '[PAD]',\n",
              " '[PAD]',\n",
              " '[PAD]',\n",
              " '[PAD]',\n",
              " '[PAD]',\n",
              " '[PAD]',\n",
              " '[PAD]',\n",
              " '[PAD]',\n",
              " '[PAD]',\n",
              " '[PAD]',\n",
              " '[PAD]',\n",
              " '[PAD]',\n",
              " '[PAD]',\n",
              " '[PAD]',\n",
              " '[PAD]',\n",
              " '[PAD]',\n",
              " '[PAD]',\n",
              " '[PAD]',\n",
              " '[PAD]',\n",
              " '[PAD]',\n",
              " '[PAD]',\n",
              " '[PAD]',\n",
              " '[PAD]',\n",
              " '[PAD]',\n",
              " '[PAD]',\n",
              " '[PAD]',\n",
              " '[PAD]',\n",
              " '[PAD]',\n",
              " '[PAD]',\n",
              " '[PAD]',\n",
              " '[PAD]',\n",
              " '[PAD]',\n",
              " '[PAD]',\n",
              " '[PAD]',\n",
              " '[PAD]',\n",
              " '[PAD]',\n",
              " '[PAD]',\n",
              " '[PAD]',\n",
              " '[PAD]',\n",
              " '[PAD]',\n",
              " '[PAD]',\n",
              " '[PAD]',\n",
              " '[PAD]',\n",
              " '[PAD]',\n",
              " '[PAD]',\n",
              " '[PAD]',\n",
              " '[PAD]',\n",
              " '[PAD]',\n",
              " '[PAD]',\n",
              " '[PAD]',\n",
              " '[PAD]',\n",
              " '[PAD]',\n",
              " '[PAD]',\n",
              " '[PAD]',\n",
              " '[PAD]',\n",
              " '[PAD]',\n",
              " '[PAD]',\n",
              " '[PAD]',\n",
              " '[PAD]',\n",
              " '[PAD]',\n",
              " '[PAD]',\n",
              " '[PAD]',\n",
              " '[PAD]',\n",
              " '[PAD]',\n",
              " '[PAD]',\n",
              " '[PAD]',\n",
              " '[PAD]',\n",
              " '[PAD]',\n",
              " '[PAD]',\n",
              " '[PAD]',\n",
              " '[PAD]',\n",
              " '[PAD]',\n",
              " '[PAD]',\n",
              " '[PAD]',\n",
              " '[PAD]',\n",
              " '[PAD]',\n",
              " '[PAD]',\n",
              " '[PAD]',\n",
              " '[PAD]',\n",
              " '[PAD]',\n",
              " '[PAD]',\n",
              " '[PAD]',\n",
              " '[PAD]',\n",
              " '[PAD]',\n",
              " '[PAD]',\n",
              " '[PAD]',\n",
              " '[PAD]',\n",
              " '[PAD]',\n",
              " '[PAD]',\n",
              " '[PAD]',\n",
              " '[PAD]',\n",
              " '[PAD]',\n",
              " '[PAD]',\n",
              " '[PAD]',\n",
              " '[PAD]',\n",
              " '[PAD]',\n",
              " '[PAD]',\n",
              " '[PAD]',\n",
              " '[PAD]',\n",
              " '[PAD]',\n",
              " '[PAD]',\n",
              " '[PAD]',\n",
              " '[PAD]',\n",
              " '[PAD]',\n",
              " '[PAD]',\n",
              " '[PAD]',\n",
              " '[PAD]',\n",
              " '[PAD]',\n",
              " '[PAD]',\n",
              " '[PAD]',\n",
              " '[PAD]',\n",
              " '[PAD]',\n",
              " '[PAD]',\n",
              " '[PAD]',\n",
              " '[PAD]',\n",
              " '[PAD]',\n",
              " '[PAD]',\n",
              " '[PAD]',\n",
              " '[PAD]',\n",
              " '[PAD]',\n",
              " '[PAD]',\n",
              " '[PAD]',\n",
              " '[PAD]',\n",
              " '[PAD]',\n",
              " '[PAD]',\n",
              " '[PAD]',\n",
              " '[PAD]',\n",
              " '[PAD]',\n",
              " '[PAD]',\n",
              " '[PAD]',\n",
              " '[PAD]',\n",
              " '[PAD]',\n",
              " '[PAD]',\n",
              " '[PAD]',\n",
              " '[PAD]',\n",
              " '[PAD]',\n",
              " '[PAD]',\n",
              " '[PAD]',\n",
              " '[PAD]',\n",
              " '[PAD]',\n",
              " '[PAD]',\n",
              " '[PAD]',\n",
              " '[PAD]',\n",
              " '[PAD]',\n",
              " '[PAD]',\n",
              " '[PAD]',\n",
              " '[PAD]',\n",
              " '[PAD]',\n",
              " '[PAD]',\n",
              " '[PAD]',\n",
              " '[PAD]',\n",
              " '[PAD]',\n",
              " '[PAD]',\n",
              " '[PAD]',\n",
              " '[PAD]',\n",
              " '[PAD]',\n",
              " '[PAD]',\n",
              " '[PAD]',\n",
              " '[PAD]',\n",
              " '[PAD]',\n",
              " '[PAD]',\n",
              " '[PAD]',\n",
              " '[PAD]',\n",
              " '[PAD]',\n",
              " '[PAD]',\n",
              " '[PAD]',\n",
              " '[PAD]',\n",
              " '[PAD]',\n",
              " '[PAD]',\n",
              " '[PAD]',\n",
              " '[PAD]',\n",
              " '[PAD]',\n",
              " '[PAD]',\n",
              " '[PAD]',\n",
              " '[PAD]',\n",
              " '[PAD]',\n",
              " '[PAD]',\n",
              " '[PAD]',\n",
              " '[PAD]',\n",
              " '[PAD]',\n",
              " '[PAD]',\n",
              " '[PAD]',\n",
              " '[PAD]',\n",
              " '[PAD]',\n",
              " '[PAD]',\n",
              " '[PAD]',\n",
              " '[PAD]',\n",
              " '[PAD]',\n",
              " '[PAD]',\n",
              " '[PAD]',\n",
              " '[PAD]',\n",
              " '[PAD]',\n",
              " '[PAD]',\n",
              " '[PAD]',\n",
              " '[PAD]',\n",
              " '[PAD]',\n",
              " '[PAD]',\n",
              " '[PAD]',\n",
              " '[PAD]',\n",
              " '[PAD]',\n",
              " '[PAD]',\n",
              " '[PAD]',\n",
              " '[PAD]',\n",
              " '[PAD]',\n",
              " '[PAD]',\n",
              " '[PAD]',\n",
              " '[PAD]',\n",
              " '[PAD]',\n",
              " '[PAD]',\n",
              " '[PAD]',\n",
              " '[PAD]',\n",
              " '[PAD]',\n",
              " '[PAD]',\n",
              " '[PAD]',\n",
              " '[PAD]',\n",
              " '[PAD]',\n",
              " '[PAD]',\n",
              " '[PAD]',\n",
              " '[PAD]',\n",
              " '[PAD]',\n",
              " '[PAD]',\n",
              " '[PAD]',\n",
              " '[PAD]',\n",
              " '[PAD]',\n",
              " '[PAD]',\n",
              " '[PAD]',\n",
              " '[PAD]',\n",
              " '[PAD]',\n",
              " '[PAD]',\n",
              " '[PAD]',\n",
              " '[PAD]',\n",
              " '[PAD]',\n",
              " '[PAD]',\n",
              " '[PAD]',\n",
              " '[PAD]',\n",
              " '[PAD]',\n",
              " '[PAD]',\n",
              " '[PAD]',\n",
              " '[PAD]',\n",
              " '[PAD]',\n",
              " '[PAD]',\n",
              " '[PAD]',\n",
              " '[PAD]',\n",
              " '[PAD]',\n",
              " '[PAD]',\n",
              " '[PAD]',\n",
              " '[PAD]',\n",
              " '[PAD]',\n",
              " '[PAD]',\n",
              " '[PAD]',\n",
              " '[PAD]',\n",
              " '[PAD]',\n",
              " '[PAD]',\n",
              " '[PAD]',\n",
              " '[PAD]',\n",
              " '[PAD]',\n",
              " '[PAD]',\n",
              " '[PAD]',\n",
              " '[PAD]',\n",
              " '[PAD]',\n",
              " '[PAD]',\n",
              " '[PAD]',\n",
              " '[PAD]',\n",
              " '[PAD]',\n",
              " '[PAD]',\n",
              " '[PAD]',\n",
              " '[PAD]']"
            ]
          },
          "metadata": {},
          "execution_count": 22
        }
      ]
    },
    {
      "cell_type": "code",
      "source": [
        "answer_start_char = context.index(answer)\n",
        "answer_end_char = answer_start_char + len(answer)"
      ],
      "metadata": {
        "id": "lgPXg_dDDSv6"
      },
      "execution_count": null,
      "outputs": []
    },
    {
      "cell_type": "code",
      "source": [
        "context[answer_start_char:answer_end_char]"
      ],
      "metadata": {
        "colab": {
          "base_uri": "https://localhost:8080/",
          "height": 36
        },
        "id": "A52mULPMD8Hx",
        "outputId": "5937ef49-2c28-4e60-c0aa-0781ed8bf9ae"
      },
      "execution_count": null,
      "outputs": [
        {
          "output_type": "execute_result",
          "data": {
            "text/plain": [
              "'Bangalore'"
            ],
            "application/vnd.google.colaboratory.intrinsic+json": {
              "type": "string"
            }
          },
          "metadata": {},
          "execution_count": 24
        }
      ]
    },
    {
      "cell_type": "code",
      "source": [
        "answer_start_char, answer_end_char"
      ],
      "metadata": {
        "colab": {
          "base_uri": "https://localhost:8080/"
        },
        "id": "cjHiQ_94Dlne",
        "outputId": "79ce452b-3e1b-4026-b3c1-61e6af0d711a"
      },
      "execution_count": null,
      "outputs": [
        {
          "output_type": "execute_result",
          "data": {
            "text/plain": [
              "(25, 34)"
            ]
          },
          "metadata": {},
          "execution_count": 25
        }
      ]
    },
    {
      "cell_type": "code",
      "source": [
        "# import pandas as pd\n",
        "# pd.set_option('display.max_rows', None)\n",
        "# pd.set_option('display.max_columns', None)"
      ],
      "metadata": {
        "id": "Y5uxW56nIqtk"
      },
      "execution_count": null,
      "outputs": []
    },
    {
      "cell_type": "code",
      "source": [
        "inputs[\"offset_mapping\"][0]"
      ],
      "metadata": {
        "colab": {
          "base_uri": "https://localhost:8080/"
        },
        "id": "LnsTNjmcH3qu",
        "outputId": "ef6a6c78-662a-4404-8ec1-803d0885a8d3"
      },
      "execution_count": null,
      "outputs": [
        {
          "output_type": "execute_result",
          "data": {
            "text/plain": [
              "tensor([[0, 0],\n",
              "        [0, 5],\n",
              "        [6, 8],\n",
              "        ...,\n",
              "        [0, 0],\n",
              "        [0, 0],\n",
              "        [0, 0]])"
            ]
          },
          "metadata": {},
          "execution_count": 26
        }
      ]
    },
    {
      "cell_type": "code",
      "source": [
        "offsets = inputs[\"offset_mapping\"][0]\n",
        "\n",
        "# Find token indices where the answer starts and ends\n",
        "start_positions = end_positions = None\n",
        "for idx, (start, end) in enumerate(offsets):\n",
        "    if start <= answer_start_char < end:\n",
        "        start_positions = idx\n",
        "\n",
        "    if start < answer_end_char <= end:\n",
        "        end_positions = idx"
      ],
      "metadata": {
        "id": "NJk513M5HFrG"
      },
      "execution_count": null,
      "outputs": []
    },
    {
      "cell_type": "code",
      "source": [
        "print(\"Start token index:\", start_positions)\n",
        "print(\"End token index:\", end_positions)"
      ],
      "metadata": {
        "colab": {
          "base_uri": "https://localhost:8080/"
        },
        "id": "MaqT-chvHmlw",
        "outputId": "ba33e99b-76f1-4bd1-e537-9f884f373d72"
      },
      "execution_count": null,
      "outputs": [
        {
          "output_type": "stream",
          "name": "stdout",
          "text": [
            "Start token index: 13\n",
            "End token index: 13\n"
          ]
        }
      ]
    },
    {
      "cell_type": "code",
      "source": [
        "tokens[start_positions]"
      ],
      "metadata": {
        "colab": {
          "base_uri": "https://localhost:8080/",
          "height": 36
        },
        "id": "FgEnEwG1O835",
        "outputId": "e2d4aae3-73ac-407a-ada1-1df9ce2024cd"
      },
      "execution_count": null,
      "outputs": [
        {
          "output_type": "execute_result",
          "data": {
            "text/plain": [
              "'bangalore'"
            ],
            "application/vnd.google.colaboratory.intrinsic+json": {
              "type": "string"
            }
          },
          "metadata": {},
          "execution_count": 29
        }
      ]
    },
    {
      "cell_type": "code",
      "source": [
        "tokens[end_positions]"
      ],
      "metadata": {
        "id": "jlmvT1-kPHmy",
        "outputId": "2624a5f3-fee1-47a5-9e4b-1ee4877cf23a",
        "colab": {
          "base_uri": "https://localhost:8080/",
          "height": 36
        }
      },
      "execution_count": null,
      "outputs": [
        {
          "output_type": "execute_result",
          "data": {
            "text/plain": [
              "'bangalore'"
            ],
            "application/vnd.google.colaboratory.intrinsic+json": {
              "type": "string"
            }
          },
          "metadata": {},
          "execution_count": 30
        }
      ]
    },
    {
      "cell_type": "code",
      "source": [
        "index = context.find('Bangalore')\n",
        "print(index)"
      ],
      "metadata": {
        "colab": {
          "base_uri": "https://localhost:8080/"
        },
        "id": "yhN9ST17MaSR",
        "outputId": "33e494b1-ad71-4f88-feb4-84b387be5e5c"
      },
      "execution_count": null,
      "outputs": [
        {
          "output_type": "stream",
          "name": "stdout",
          "text": [
            "25\n"
          ]
        }
      ]
    }
  ]
}