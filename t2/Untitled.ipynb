{
 "cells": [
  {
   "cell_type": "raw",
   "id": "4e9200af",
   "metadata": {},
   "source": [
    "o01. Model_Evaluation_Baseline_Mistral_7B_Assignment_Version.ipynb\n",
    "o02. Model_Evaluation_Instruct_tuned_Mistral_7B.ipynb\n",
    "oART_Text_Summarization.ipynb\n",
    "oERT.ipynb\n",
    "oERT_1.ipynb\n",
    "oERT_2.ipynb\n",
    "oGenerative_Supervised_Fine_tuning_of_GPT_2.ipynb\n",
    "oistilbert_1.ipynb"
   ]
  },
  {
   "cell_type": "code",
   "execution_count": null,
   "id": "70736832",
   "metadata": {},
   "outputs": [],
   "source": [
    "\n",
    "'oERT.ipynb',\n",
    "'oERT_1.ipynb',\n",
    "'oERT_2.ipynb',\n",
    "'oistilbert_1.ipynb',\n",
    "'oART_Text_Summarization.ipynb',\n",
    "'o01. Model_Evaluation_Baseline_Mistral_7B_Assignment_Version.ipynb',\n",
    "'o02. Model_Evaluation_Instruct_tuned_Mistral_7B.ipynb',\n",
    "'oGenerative_Supervised_Fine_tuning_of_GPT_2.ipynb'\n",
    "\n",
    "'BERT.ipynb',\n",
    "'BERT_1.ipynb',\n",
    "'BERT_2.ipynb',\n",
    "'Distilbert_1.ipynb',\n",
    "'BART_Text_Summarization.ipynb',\n",
    "'01. Model_Evaluation_Baseline_Mistral_7B_Assignment_Version.ipynb',\n",
    "'02. Model_Evaluation_Instruct_tuned_Mistral_7B.ipynb',\n",
    "'Generative_Supervised_Fine_tuning_of_GPT_2.ipynb'\n",
    "\n",
    "'oERT.ipynb','BERT.ipynb',"
   ]
  },
  {
   "cell_type": "code",
   "execution_count": 1,
   "id": "2d3778a0",
   "metadata": {},
   "outputs": [],
   "source": [
    "import nbformat\n",
    "#for ipf in ipfiles:\n",
    "ipf = 'oERT.ipynb'\n",
    "opf = 'BERT.ipynb'\n",
    "nb = nbformat.read(ipf, as_version=4)\n",
    "if \"widgets\" in nb[\"metadata\"]:\n",
    "    nb[\"metadata\"].pop(\"widgets\")  # Remove widget metadata entirely\n",
    "nbformat.write(nb, opf)\n"
   ]
  },
  {
   "cell_type": "code",
   "execution_count": null,
   "id": "525eebb5",
   "metadata": {},
   "outputs": [],
   "source": [
    "import nbformat\n",
    "\n",
    "# List of tuples containing input and output filenames\n",
    "file_pairs = [ (\"oERT.ipynb\",   \"BERT.ipynb\"), \n",
    "               ('oERT_1.ipynb', 'BERT_1.ipynb'),\n",
    "               ('oERT_2.ipynb', 'BERT_2.ipynb'),\n",
    "               ('oistilbert_1.ipynb','Distilbert_1.ipynb'),\n",
    "               ('oART_Text_Summarization.ipynb','BART_Text_Summarization.ipynb'),\n",
    "               ('o01. Model_Evaluation_Baseline_Mistral_7B_Assignment_Version.ipynb',\n",
    "                '01. Model_Evaluation_Baseline_Mistral_7B_Assignment_Version.ipynb'),\n",
    "               ('o02. Model_Evaluation_Instruct_tuned_Mistral_7B.ipynb',\n",
    "                '02. Model_Evaluation_Instruct_tuned_Mistral_7B.ipynb'),\n",
    "               ('oGenerative_Supervised_Fine_tuning_of_GPT_2.ipynb','oGenerative_Supervised_Fine_tuning_of_GPT_2.ipynb'\n",
    "              ]# Add more file pairs as needed, e.g.: \n",
    "                                              # (\"input2.ipynb\", \"output2.ipynb\"),\n",
    "\n",
    "for ipf, opf in file_pairs:   # Loop through each file pair\n",
    "    nb = nbformat.read(ipf, as_version=4)  # Read the input notebook\n",
    "    if \"widgets\" in nb[\"metadata\"]:  \n",
    "        nb[\"metadata\"].pop(\"widgets\") # Remove widget metadata if it exists\n",
    "    nbformat.write(nb, opf)  # Write to the output notebook"
   ]
  },
  {
   "cell_type": "code",
   "execution_count": null,
   "id": "d66b1616",
   "metadata": {},
   "outputs": [],
   "source": [
    "import nbformat\n",
    "for ipf in ipfiles:\n",
    "    nb = nbformat.read(ipf, as_version=4)\n",
    "    if \"widgets\" in nb[\"metadata\"]:\n",
    "        nb[\"metadata\"].pop(\"widgets\")  # Remove widget metadata entirely\n",
    "    nbformat.write(nb, opf)\n"
   ]
  }
 ],
 "metadata": {
  "kernelspec": {
   "display_name": "Python 3 (ipykernel)",
   "language": "python",
   "name": "python3"
  },
  "language_info": {
   "codemirror_mode": {
    "name": "ipython",
    "version": 3
   },
   "file_extension": ".py",
   "mimetype": "text/x-python",
   "name": "python",
   "nbconvert_exporter": "python",
   "pygments_lexer": "ipython3",
   "version": "3.11.5"
  }
 },
 "nbformat": 4,
 "nbformat_minor": 5
}
